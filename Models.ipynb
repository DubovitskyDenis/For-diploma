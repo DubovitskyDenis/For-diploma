{
 "cells": [
  {
   "cell_type": "markdown",
   "metadata": {},
   "source": [
    "# Создание и обучение моделей SVM(Support vector machine), Random Forest, Naive Bayes, Logistic Regression"
   ]
  },
  {
   "cell_type": "markdown",
   "metadata": {},
   "source": [
    "### Подключаем необходимые модули"
   ]
  },
  {
   "cell_type": "code",
   "execution_count": 26,
   "metadata": {},
   "outputs": [],
   "source": [
    "import pandas as pd\n",
    "import numpy as np\n",
    "from nltk.tokenize import word_tokenize\n",
    "from nltk import pos_tag\n",
    "from nltk.corpus import stopwords\n",
    "from nltk.stem import WordNetLemmatizer\n",
    "from sklearn.preprocessing import LabelEncoder\n",
    "from collections import defaultdict\n",
    "from nltk.corpus import wordnet as wn\n",
    "from sklearn.feature_extraction.text import TfidfVectorizer\n",
    "from sklearn import model_selection, svm, naive_bayes\n",
    "from sklearn.linear_model import LogisticRegression\n",
    "from sklearn.ensemble import RandomForestClassifier\n",
    "from sklearn.metrics import accuracy_score"
   ]
  },
  {
   "cell_type": "markdown",
   "metadata": {},
   "source": [
    "### Подгружаем train dataset"
   ]
  },
  {
   "cell_type": "code",
   "execution_count": 27,
   "metadata": {},
   "outputs": [
    {
     "data": {
      "text/html": [
       "<div>\n",
       "<style scoped>\n",
       "    .dataframe tbody tr th:only-of-type {\n",
       "        vertical-align: middle;\n",
       "    }\n",
       "\n",
       "    .dataframe tbody tr th {\n",
       "        vertical-align: top;\n",
       "    }\n",
       "\n",
       "    .dataframe thead th {\n",
       "        text-align: right;\n",
       "    }\n",
       "</style>\n",
       "<table border=\"1\" class=\"dataframe\">\n",
       "  <thead>\n",
       "    <tr style=\"text-align: right;\">\n",
       "      <th></th>\n",
       "      <th>№</th>\n",
       "      <th>category</th>\n",
       "      <th>filename</th>\n",
       "      <th>content</th>\n",
       "      <th>category_id</th>\n",
       "    </tr>\n",
       "  </thead>\n",
       "  <tbody>\n",
       "    <tr>\n",
       "      <th>0</th>\n",
       "      <td>0</td>\n",
       "      <td>math.AP</td>\n",
       "      <td>math.AP_37</td>\n",
       "      <td>['bound', 'pseudodiﬀerenti', 'oper', 'wiener',...</td>\n",
       "      <td>0</td>\n",
       "    </tr>\n",
       "    <tr>\n",
       "      <th>1</th>\n",
       "      <td>1</td>\n",
       "      <td>math.AP</td>\n",
       "      <td>math.AP_88</td>\n",
       "      <td>['mathematisch', 'nachrichten', 'june', 'regul...</td>\n",
       "      <td>0</td>\n",
       "    </tr>\n",
       "    <tr>\n",
       "      <th>2</th>\n",
       "      <td>2</td>\n",
       "      <td>math.AP</td>\n",
       "      <td>math.AP_63</td>\n",
       "      <td>['kam', 'nonlinear', 'beam', 'equat', 'solut',...</td>\n",
       "      <td>0</td>\n",
       "    </tr>\n",
       "    <tr>\n",
       "      <th>3</th>\n",
       "      <td>3</td>\n",
       "      <td>math.AP</td>\n",
       "      <td>math.AP_67</td>\n",
       "      <td>['one', 'dimension', 'quantum', 'zakharov', 's...</td>\n",
       "      <td>0</td>\n",
       "    </tr>\n",
       "    <tr>\n",
       "      <th>4</th>\n",
       "      <td>4</td>\n",
       "      <td>math.AP</td>\n",
       "      <td>math.AP_54</td>\n",
       "      <td>['asymmetr', 'domain', 'wall', 'small', 'angl'...</td>\n",
       "      <td>0</td>\n",
       "    </tr>\n",
       "  </tbody>\n",
       "</table>\n",
       "</div>"
      ],
      "text/plain": [
       "   № category    filename                                            content  \\\n",
       "0  0  math.AP  math.AP_37  ['bound', 'pseudodiﬀerenti', 'oper', 'wiener',...   \n",
       "1  1  math.AP  math.AP_88  ['mathematisch', 'nachrichten', 'june', 'regul...   \n",
       "2  2  math.AP  math.AP_63  ['kam', 'nonlinear', 'beam', 'equat', 'solut',...   \n",
       "3  3  math.AP  math.AP_67  ['one', 'dimension', 'quantum', 'zakharov', 's...   \n",
       "4  4  math.AP  math.AP_54  ['asymmetr', 'domain', 'wall', 'small', 'angl'...   \n",
       "\n",
       "   category_id  \n",
       "0            0  \n",
       "1            0  \n",
       "2            0  \n",
       "3            0  \n",
       "4            0  "
      ]
     },
     "execution_count": 27,
     "metadata": {},
     "output_type": "execute_result"
    }
   ],
   "source": [
    "df = pd.read_csv('train.csv')\n",
    "df.rename(columns={'Unnamed: 0':'№'}, inplace=True )\n",
    "df.head()"
   ]
  },
  {
   "cell_type": "markdown",
   "metadata": {},
   "source": [
    "### Разбиваем обучающую выборку на тренировочную и валидационную"
   ]
  },
  {
   "cell_type": "code",
   "execution_count": 28,
   "metadata": {},
   "outputs": [],
   "source": [
    "Train_X, Test_X, Train_Y, Test_Y = model_selection.train_test_split(df['content'], df['category_id'],test_size=0.2)"
   ]
  },
  {
   "cell_type": "code",
   "execution_count": 29,
   "metadata": {},
   "outputs": [],
   "source": [
    "Encoder = LabelEncoder()\n",
    "Train_Y = Encoder.fit_transform(Train_Y)\n",
    "Test_Y = Encoder.fit_transform(Test_Y)"
   ]
  },
  {
   "cell_type": "code",
   "execution_count": 30,
   "metadata": {},
   "outputs": [],
   "source": [
    "Tfidf_vect = TfidfVectorizer(max_features=5000)\n",
    "Tfidf_vect.fit(df['content'])\n",
    "Train_X_Tfidf = Tfidf_vect.transform(Train_X)\n",
    "Test_X_Tfidf = Tfidf_vect.transform(Test_X)"
   ]
  },
  {
   "cell_type": "code",
   "execution_count": 6,
   "metadata": {},
   "outputs": [
    {
     "name": "stdout",
     "output_type": "stream",
     "text": [
      "{'bound': 477, 'oper': 2999, 'wiener': 4843, 'space': 4077, 'laurent': 2400, 'jean': 2256, 'abstract': 13, 'aim': 89, 'extend': 1516, 'deﬁnit': 1106, 'weyl': 4829, 'calculu': 542, 'inﬁnit': 2193, 'dimension': 1141, 'set': 3900, 'replac': 3634, 'phase': 3177, 'ﬁrst': 4972, 'approach': 202, 'gener': 1733, 'integr': 2149, 'use': 4695, 'wigner': 4845, 'function': 1698, 'symbol': 4339, 'deﬁn': 1105, 'belong': 380, 'gaussian': 1726, 'measur': 2622, 'quadrat': 3454, 'form': 1645, 'dens': 1060, 'subspac': 4248, 'exampl': 1471, 'stochast': 4182, 'extens': 1517, 'sens': 3878, 'gross': 1823, 'continu': 868, 'second': 3841, 'satisﬁ': 3784, 'diﬀerenti': 1202, 'condit': 827, 'analog': 142, 'ﬁnite': 4970, 'one': 2990, 'need': 2847, 'introduc': 2178, 'hybrid': 1990, 'act': 43, 'variabl': 4714, 'subset': 4245, 'rest': 3663, 'ﬁnal': 4962, 'limit': 2463, 'rather': 3531, 'weak': 4811, 'give': 1762, 'monomi': 2754, 'link': 2471, 'construct': 859, 'classic': 698, 'ator': 276, 'theori': 4437, 'relat': 3607, 'ﬁeld': 4950, 'previou': 3335, 'work': 4872, 'subject': 4233, 'content': 865, 'introduct': 2179, 'heat': 1886, 'semigroup': 3869, 'decomposit': 1020, 'partial': 3096, 'plan': 3224, 'proof': 3385, 'theorem': 4435, 'coher': 745, 'state': 4155, 'transform': 4548, 'converg': 881, 'proposit': 3394, 'associ': 254, 'everi': 1461, 'call': 545, 'denot': 1059, 'eyl': 1528, 'schwartz': 3816, 'dual': 1256, 'formal': 1647, 'lebesgu': 2417, 'well': 4825, 'deriv': 1075, 'see': 3852, 'applic': 200, 'valu': 4706, 'equival': 1411, 'alreadi': 117, 'case': 577, 'speciﬁc': 4094, 'small': 4029, 'modiﬁc': 2734, 'present': 3329, 'paper': 3073, 'hypothesi': 2002, 'weaker': 4813, 'author': 293, 'also': 119, 'type': 4618, 'result': 3666, 'context': 866, 'shall': 3910, 'appear': 196, 'instead': 2137, 'section': 3846, 'robert': 3724, 'inde': 2084, 'express': 1514, 'even': 1457, 'suppos': 4309, 'spirit': 4120, 'bilinear': 419, 'conveni': 879, 'assumpt': 256, 'gauss': 1725, 'coupl': 929, 'prove': 3403, 'main': 2548, 'success': 4261, 'indic': 2091, 'readi': 3545, 'real': 3549, 'separ': 3886, 'hilbert': 1927, 'conﬁgur': 887, 'scalar': 3794, 'product': 3366, 'two': 4616, 'element': 1329, 'norm': 2925, 'sinc': 3985, 'imposs': 2057, 'banach': 333, 'contain': 863, 'adequ': 56, 'frame': 1668, 'tripl': 4579, 'inject': 2116, 'mention': 2641, 'usual': 4697, 'identiﬁ': 2020, 'preced': 3312, 'impli': 2050, 'embed': 1345, 'follow': 1637, 'dualiti': 1257, 'articl': 238, 'resp': 3659, 'note': 2932, 'posit': 3296, 'probabl': 3356, 'dim': 1139, 'restrict': 3665, 'satisfi': 3783, 'densiti': 1061, 'basi': 348, 'orthonorm': 3025, 'depend': 1065, 'choic': 664, 'proper': 3388, 'precis': 3314, 'borel': 468, 'properti': 3390, 'recal': 3557, 'given': 1763, 'notion': 2935, 'seen': 3856, 'uniqu': 4664, 'isomorph': 2224, 'symmetr': 4340, 'fock': 1631, 'sometim': 4062, 'thank': 4433, 'possibl': 3298, 'brownian': 512, 'motion': 2778, 'interact': 2155, 'lattic': 2398, 'let': 2433, 'isometr': 2222, 'rapidli': 3527, 'decreas': 1024, 'union': 4662, 'taken': 4368, 'vector': 4723, 'polynomi': 3277, 'number': 2954, 'constant': 853, 'often': 2981, 'chapter': 637, 'notic': 2934, 'equal': 1404, 'consid': 849, 'inclus': 2071, 'linear': 2467, 'map': 2567, 'point': 3259, 'appli': 199, 'turn': 4609, 'random': 3522, 'process': 3364, 'write': 4882, 'sake': 3770, 'simplic': 3977, 'modifi': 2732, 'accord': 27, 'anoth': 173, 'almost': 111, 'equip': 1409, 'symplect': 4343, 'adapt': 51, 'want': 4790, 'conduct': 828, 'contrari': 873, 'diﬃculti': 1206, 'overcom': 3047, 'way': 4809, 'initi': 2114, 'exist': 1487, 'genuin': 1737, 'formula': 1651, 'growth': 1830, 'enough': 1383, 'step': 4172, 'concern': 820, 'term': 4422, 'nonneg': 2921, 'integ': 2148, 'sup': 4282, 'degre': 1043, 'respect': 3660, 'argument': 223, 'necessari': 2845, 'consequ': 847, 'relationship': 3608, 'come': 772, 'compar': 793, 'fourier': 1662, 'complex': 803, 'admit': 63, 'kind': 2321, 'explicitli': 1505, 'written': 4883, 'last': 2387, 'found': 1658, 'class': 697, 'howev': 1974, 'abl': 7, 'whose': 4839, 'would': 4879, 'multipl': 2797, 'lack': 2360, 'neglig': 2852, 'make': 2553, 'remain': 3618, 'get': 1750, 'treat': 4564, 'upper': 4687, 'must': 2811, 'specifi': 4092, 'strongli': 4217, 'version': 4736, 'hereaft': 1907, 'choos': 665, 'index': 2088, 'countabl': 925, 'except': 1475, 'famili': 1553, 'arbitrari': 212, 'motiv': 2779, 'meyer': 2671, 'standard': 4147, 'quantiz': 3465, 'remark': 3620, 'inspir': 2129, 'ﬁnd': 4965, 'model': 2728, 'squar': 4133, 'assum': 255, 'right': 3707, 'hand': 1857, 'side': 3950, 'moreov': 2765, 'max': 2603, 'sequenc': 3889, 'order': 3015, 'behav': 371, 'obtain': 2964, 'increas': 2080, 'cauchi': 590, 'coincid': 749, 'particular': 3099, 'chosen': 668, 'fact': 1539, 'mation': 2597, 'estim': 1440, 'establish': 1438, 'realli': 3554, 'studi': 4222, 'without': 4863, 'organ': 3019, 'induc': 2095, 'euclidean': 1446, 'may': 2609, 'refer': 3588, 'say': 3791, 'veriﬁ': 4731, 'easier': 1284, 'henc': 1904, 'start': 4153, 'analogu': 143, 'correspond': 909, 'hall': 1850, 'smaller': 4030, 'corollari': 902, 'closer': 715, 'speciﬁ': 4093, 'help': 1901, 'regard': 3593, 'allow': 110, 'split': 4123, 'implicitli': 2053, 'understood': 4651, 'system': 4354, 'paramet': 3082, 'biject': 418, 'avail': 303, 'likewis': 2460, 'lie': 2449, 'mainli': 2549, 'diﬀer': 1201, 'includ': 2070, 'orthogon': 3024, 'complement': 800, 'span': 4082, 'reli': 3614, 'domain': 1217, 'vect': 4722, 'notat': 2931, 'combin': 769, 'sum': 4271, 'run': 3757, 'empti': 1357, 'therefor': 4440, 'least': 2415, 'stay': 4162, 'independ': 2086, 'wherea': 4833, 'tend': 4413, 'could': 921, 'think': 4450, 'prof': 3367, 'lim': 2461, 'nevertheless': 2879, 'check': 647, 'everywher': 1463, 'end': 1366, 'next': 2884, 'suitabl': 4269, 'yield': 4895, 'hold': 1943, 'cylindr': 978, 'cylind': 977, 'normal': 2926, 'natur': 2835, 'project': 3376, 'word': 4871, 'addit': 54, 'canon': 557, 'rang': 3524, 'time': 4483, 'fulﬁll': 1696, 'said': 3767, 'distribut': 1190, 'transfer': 4547, 'explicit': 1504, 'comput': 813, 'complexiﬁ': 804, 'deal': 1004, 'translat': 4551, 'deduc': 1027, 'inequ': 2099, 'still': 4179, 'necessarili': 2846, 'provid': 3405, 'lemma': 2429, 'omit': 2988, 'irrelev': 2208, 'take': 4367, 'uniformli': 4660, 'situat': 4005, 'vari': 4713, 'repres': 3638, 'complet': 802, 'investig': 2185, 'conjug': 838, 'expon': 1509, 'loss': 2512, 'jensen': 2258, 'convent': 880, 'transit': 4550, 'convolut': 885, 'elsewher': 1339, 'similar': 3969, 'dilat': 1136, 'global': 1769, 'gave': 1727, 'regular': 3600, 'known': 2333, 'know': 2331, 'isometri': 2223, 'justiﬁ': 2291, 'surject': 4316, 'imag': 2033, 'decompos': 1019, 'mutual': 2813, 'proce': 3361, 'similarli': 3970, 'treatment': 4565, 'begin': 370, 'schwarz': 3817, 'suﬃc': 4327, 'show': 3939, 'true': 4587, 'chang': 633, 'announc': 167, 'claim': 692, 'rewrit': 3683, 'kernel': 2310, 'name': 2820, 'commut': 785, 'dimens': 1140, 'lipschitz': 2475, 'fix': 1619, 'tef': 4402, 'subsequ': 4244, 'extract': 1523, 'suﬃcient': 4328, 'verifi': 4730, 'domin': 1218, 'return': 3671, 'thu': 4464, 'along': 113, 'direct': 1152, 'design': 1080, 'supremum': 4311, 'part': 3094, 'schur': 3814, 'easili': 1285, 'involv': 2189, 'ﬁxed': 4980, 'inﬁniti': 2195, 'go': 1774, 'taylor': 4392, 'vanish': 4710, 'valid': 4703, 'ﬁnish': 4969, 'par': 3074, 'ﬁnalli': 4963, 'alway': 125, 'due': 1261, 'conclud': 821, 'origin': 3022, 'schmidt': 3804, 'free': 1674, 'mass': 2583, 'boson': 472, 'support': 4308, 'local': 2490, 'develop': 1099, 'reed': 3586, 'statement': 4156, 'exce': 1472, 'zero': 4906, 'tame': 4371, 'factor': 1540, 'inf': 2103, 'greater': 1809, 'supplement': 4305, 'grow': 1828, 'quotient': 3493, 'ident': 2018, 'harmon': 1868, 'eft': 1304, 'consist': 851, 'eigenvector': 1313, 'eigenvalu': 1312, 'left': 2424, 'amount': 134, 'expect': 1496, 'ﬁltration': 4961, 'sight': 3952, 'equat': 1405, 'former': 1649, 'easi': 1283, 'total': 4523, 'us': 4692, 'ing': 2109, 'final': 1606, 'unitari': 4667, 'exponenti': 1510, 'vol': 4771, 'sect': 3845, 'survey': 4320, 'suppress': 4310, 'creation': 942, 'annihil': 165, 'remind': 3622, 'oscil': 3026, 'nearest': 2841, 'neighbour': 2855, 'smooth': 4036, 'site': 4001, 'unit': 4665, 'ball': 330, 'multidimension': 2793, 'preprint': 3325, 'march': 2569, 'proceed': 3363, 'spectral': 4098, 'method': 2663, 'analysi': 145, 'kluwer': 2329, 'acad': 17, 'publ': 3419, 'russian': 3761, 'pure': 3431, 'physic': 3195, 'academ': 18, 'press': 3331, 'new': 2880, 'algebra': 102, 'quantum': 3467, 'statist': 4160, 'mechan': 2624, 'equilibrium': 1408, 'edit': 1297, 'text': 4430, 'monograph': 2750, 'verlag': 4733, 'berlin': 393, 'math': 2592, 'proc': 3360, 'nat': 2832, 'sci': 3819, 'del': 1044, 'de': 1001, 'mathemat': 2593, 'theoret': 4436, 'springer': 4132, 'dordrecht': 1224, 'multivari': 2805, 'tran': 4545, 'compact': 788, 'bounded': 479, 'funct': 1697, 'anal': 141, 'comm': 775, 'phi': 3182, 'annal': 163, 'princeton': 3344, 'univers': 4670, 'amer': 129, 'soc': 4044, 'berkeley': 391, 'sym': 4337, 'stat': 4154, 'potenti': 3303, 'lectur': 2420, 'modern': 2730, 'holomorph': 1948, 'first': 1611, 'summer': 4278, 'school': 3807, 'iii': 2029, 'cambridg': 549, 'tract': 4536, 'univ': 4669, 'ann': 161, 'inst': 2130, 'york': 4897, 'aux': 301, 'une': 4654, 'sur': 4312, 'paul': 3115, 'exp': 1493, 'dan': 986, 'pour': 3305, 'analys': 144, 'pari': 3089, 'centr': 613, 'sobolev': 4043, 'apr': 206, 'metric': 2666, 'non': 2910, 'der': 1074, 'region': 3596, 'confer': 831, 'seri': 3893, 'publish': 3421, 'board': 449, 'scienc': 3820, 'washington': 4794, 'american': 130, 'societi': 4046, 'nonlinear': 2919, 'simon': 3971, 'field': 1597, 'grenobl': 1815, 'le': 2408, 'relativist': 3609, 'laboratoir': 2358, 'cnr': 725, 'franc': 1670, 'june': 2288, 'fraction': 1666, 'dirichlet': 1154, 'neumann': 2872, 'lem': 2428, 'depart': 1063, 'receiv': 3558, 'revis': 3677, 'accept': 21, 'onlin': 2992, 'power': 3306, 'realiz': 3553, 'ellipt': 1335, 'differenti': 1127, 'interpol': 2170, 'boundari': 478, 'problem': 3358, 'demonstr': 1054, 'full': 1694, 'scale': 3795, 'solut': 4057, 'low': 2516, 'recent': 3559, 'overview': 3051, 'variou': 4719, 'laplacian': 2379, 'line': 2466, 'current': 963, 'great': 1808, 'interest': 2157, 'describ': 1078, 'nonloc': 2920, 'obviou': 2965, 'sever': 3904, 'suggest': 4267, 'enter': 1390, 'pde': 3122, 'import': 2054, 'shown': 3942, 'detail': 1089, 'mani': 2559, 'year': 4892, 'account': 29, 'certain': 620, 'tan': 4372, 'brieﬂi': 496, 'discu': 1169, 'izat': 2244, 'lead': 2409, 'brief': 495, 'expand': 1494, 'primari': 3339, 'purpos': 3435, 'put': 3439, 'forward': 1657, 'stand': 4146, 'either': 1317, 'mean': 2619, 'drawn': 1243, 'earli': 1279, 'far': 1559, 'reach': 3539, 'coefﬁcient': 739, 'readili': 3546, 'attent': 282, 'keep': 2302, 'explan': 1503, 'simpl': 3972, 'open': 2998, 'togeth': 4501, 'lower': 2517, 'spectrum': 4103, 'consider': 850, 'formul': 1650, 'handl': 1859, 'base': 345, 'resolv': 3655, 'around': 231, 'view': 4748, 'differ': 1126, 'common': 782, 'label': 2357, 'actual': 47, 'terminolog': 4424, 'good': 1781, 'tion': 4489, 'fundament': 1702, 'unbound': 4640, 'cours': 931, 'repeat': 3631, 'framework': 1669, 'explain': 1502, 'appropri': 203, 'special': 4090, 'descript': 1079, 'extra': 1522, 'three': 4459, 'fourth': 1663, 'although': 122, 'slightli': 4021, 'complic': 805, 'primarili': 3340, 'ad': 49, 'extrapol': 1524, 'requir': 3645, 'distanc': 1185, 'freeli': 1676, 'observ': 2960, 'homeomorph': 1953, 'character': 640, 'bundl': 526, 'breviti': 492, 'simpli': 3976, 'convers': 882, 'min': 2696, 'nontrivi': 2923, 'best': 401, 'contrast': 874, 'optim': 3007, 'induct': 2096, 'higher': 1922, 'immedi': 2043, 'improv': 2059, 'sufﬁcient': 4266, 'impos': 2056, 'throughout': 4462, 'elementari': 1330, 'reader': 3544, 'onto': 2995, 'intersect': 2172, 'invers': 2183, 'arbitrarili': 213, 'larg': 2381, 'eigenfunct': 1308, 'draw': 1240, 'conclus': 822, 'trace': 4533, 'compil': 799, 'interv': 2174, 'much': 2791, 'role': 3732, 'resembl': 3648, 'sharp': 3918, 'carri': 571, 'emb': 1344, 'assur': 257, 'connect': 841, 'trick': 4575, 'invert': 2184, 'like': 2458, 'notabl': 2930, 'seem': 3855, 'decis': 1014, 'moment': 2743, 'clear': 706, 'whether': 4835, 'compactli': 790, 'closur': 717, 'remov': 3625, 'earlier': 1280, 'contribut': 875, 'silvestr': 3967, 'strategi': 4197, 'perturb': 3169, 'coordin': 896, 'incorpor': 2078, 'systemat': 4355, 'inform': 2107, 'list': 2477, 'effort': 1302, 'maxim': 2604, 'vast': 4720, 'literatur': 2479, 'stage': 4143, 'focu': 1632, 'latest': 2392, 'toward': 4527, 'solvabl': 4059, 'parabol': 3076, 'relev': 3613, 'ajk': 94, 'cover': 933, 'exactli': 1469, 'latter': 2397, 'larger': 2382, 'knowledg': 2332, 'made': 2541, 'book': 463, 'conorm': 842, 'address': 55, 'discuss': 1170, 'miss': 2715, 'rough': 3746, 'convex': 884, 'homogen': 1954, 'outsid': 3042, 'chen': 651, 'song': 4066, 'frank': 1672, 'exact': 1468, 'preserv': 3330, 'supp': 4303, 'dist': 1184, 'blowup': 445, 'close': 714, 'prescrib': 3326, 'reduc': 3581, 'represent': 3639, 'analyt': 146, 'structur': 4220, 'manifold': 2561, 'analyz': 147, 'truncat': 4591, 'singular': 3992, 'green': 1813, 'geometri': 1743, 'determin': 1092, 'topolog': 4514, 'residu': 3652, 'question': 3483, 'aris': 225, 'dxdi': 1270, 'variat': 4717, 'rise': 3714, 'twice': 4612, 'balanc': 329, 'lieb': 2450, 'yau': 4890, 'kim': 2320, 'robin': 3725, 'behavior': 372, 'acknowledg': 36, 'grate': 1803, 'wood': 4868, 'japan': 2255, 'quasilinear': 3473, 'basel': 346, 'asymptot': 269, 'markov': 2576, 'paciﬁc': 3063, 'stabl': 4141, 'behaviour': 373, 'porou': 3291, 'medium': 2628, 'root': 3738, 'adv': 67, 'appl': 198, 'fulli': 1695, 'radial': 3503, 'extrem': 1526, 'semilinear': 3870, 'poisson': 3261, 'thought': 4456, 'old': 2984, 'multipli': 2799, 'mem': 2632, 'reﬁn': 3686, 'semiclass': 3865, 'laplac': 2378, 'rein': 3602, 'angew': 155, 'archiv': 217, 'mech': 2623, 'pisa': 3214, 'progress': 3374, 'boston': 473, 'issu': 2236, 'foundat': 1659, 'stabil': 4140, 'instabl': 2131, 'matter': 2601, 'chicago': 656, 'roy': 3752, 'obstacl': 2962, 'rel': 3605, 'capac': 561, 'advanc': 68, 'evolut': 1465, 'tokyo': 4503, 'kam': 2294, 'beam': 360, 'toru': 4521, 'amplitud': 137, 'invari': 2181, 'persist': 3164, 'linearli': 2468, 'hyperbol': 1995, 'unstabl': 4682, 'vicin': 4745, 'creat': 941, 'agreement': 86, 'popular': 3288, 'belief': 377, 'hamiltonian': 1854, 'chaotic': 636, 'public': 3420, 'admiss': 62, 'divisor': 1198, 'reson': 3656, 'basic': 349, 'frequenc': 1679, 'procedur': 3362, 'elimin': 1332, 'rescal': 3646, 'normalis': 2927, 'matrix': 2599, 'classiﬁc': 702, 'key': 2314, 'phrase': 3194, 'appendix': 197, 'typic': 4619, 'neighbourhood': 2856, 'besid': 399, 'among': 132, 'idea': 2015, 'technic': 4398, 'eﬀort': 1530, 'wave': 4799, 'quit': 3490, 'goal': 1775, 'excit': 1478, 'examin': 1470, 'achiev': 34, 'mild': 2690, 'control': 876, 'perform': 3151, 'programm': 3373, 'outlin': 3039, 'pictur': 3202, 'believ': 378, 'late': 2389, 'unperturb': 4677, 'kdv': 2300, 'realis': 3550, 'nl': 2896, 'eﬃcient': 1533, 'later': 2391, 'sin': 3984, 'tical': 4470, 'nondegener': 2914, 'signiﬁcantli': 3960, 'endow': 1368, 'becom': 368, 'primit': 3342, 'diagon': 1114, 'coeﬃcient': 741, 'quartic': 3470, 'momentum': 2744, 'compon': 806, 'etc': 1443, 'ﬂow': 4994, 'node': 2903, 'certainli': 621, 'sphere': 4109, 'event': 1458, 'obvious': 2966, 'subclass': 4229, 'radiu': 3509, 'high': 1921, 'clearli': 707, 'intern': 2166, 'extern': 1520, 'read': 3543, 'curv': 964, 'simpliﬁ': 3980, 'loos': 2508, 'mea': 2618, 'smoothli': 4037, 'modulu': 2738, 'bigger': 416, 'trivial': 4581, 'ratio': 3532, 'parametris': 3085, 'accordingli': 28, 'disjoint': 1173, 'assert': 250, 'size': 4008, 'hausdorﬀ': 1876, 'unknown': 4674, 'crucial': 950, 'otherwis': 3031, 'plex': 3247, 'cardin': 567, 'transpos': 4558, 'diag': 1112, 'pair': 3068, 'interpret': 2171, 'pare': 3086, 'realiti': 3552, 'inﬁmum': 2192, 'research': 3647, 'agenc': 80, 'grant': 1797, 'subsect': 4243, 'insert': 2124, 'column': 765, 'row': 3751, 'sign': 3954, 'third': 4451, 'det': 1087, 'lost': 2513, 'strip': 4211, 'width': 4842, 'perpendicular': 3163, 'volum': 4774, 'segment': 3857, 'four': 1660, 'guarante': 1833, 'opposit': 3004, 'move': 2783, 'reason': 3556, 'serf': 3892, 'suit': 4268, 'mostli': 2775, 'agre': 85, 'tation': 4386, 'exclud': 1480, 'weight': 4823, 'drop': 1251, 'involut': 2188, 'never': 2878, 'weakli': 4814, 'vers': 4734, 'cient': 677, 'const': 852, 'proven': 3404, 'toroid': 4517, 'enumer': 1395, 'pa': 3060, 'absolut': 10, 'diﬀeomorph': 1200, 'mode': 2727, 'aﬃn': 319, 'devot': 1103, 'item': 2239, 'remaind': 3619, 'unless': 4675, 'ﬁve': 4978, 'apart': 188, 'cubic': 959, 'transvers': 4559, 'bracket': 481, 'calcul': 541, 'generalis': 1734, 'action': 45, 'hard': 1863, 'furthermor': 1703, 'contradict': 872, 'discret': 1167, 'proport': 3391, 'angl': 156, 'abbrevi': 3, 'simpliﬁc': 3981, 'price': 3338, 'abus': 15, 'forget': 1644, 'substitut': 4251, 'modiﬁ': 2733, 'gradient': 1789, 'singl': 3989, 'block': 439, 'imaginari': 2035, 'divid': 1196, 'place': 3220, 'numer': 2955, 'justifi': 2290, 'quadrupl': 3457, 'ber': 389, 'length': 2431, 'spond': 4126, 'composit': 808, 'send': 3877, 'identifi': 2019, 'quantifi': 3462, 'count': 924, 'discrimin': 1168, 'varieti': 4718, 'stratiﬁ': 4198, 'monodromi': 2749, 'cut': 970, 'tant': 4380, 'virtu': 4758, 'annulu': 169, 'play': 3241, 'rule': 3756, 'branch': 485, 'arrang': 233, 'symmetri': 4341, 'ue': 4622, 'sent': 3881, 'signatur': 3956, 'plu': 3252, 'deform': 1038, 'touch': 4524, 'tonian': 4509, 'eye': 1527, 'jointli': 2272, 'smallest': 4031, 'simplifi': 3979, 'summand': 4273, 'jet': 2259, 'dot': 1226, 'quantiti': 3464, 'circl': 681, 'front': 1687, 'altern': 121, 'decay': 1009, 'happen': 1862, 'big': 415, 'chose': 667, 'soon': 4068, 'meet': 2630, 'interior': 2164, 'int': 2146, 'feel': 1579, 'collect': 754, 'slowli': 4028, 'slow': 4026, 'ﬁlled': 4956, 'other': 3030, 'unclear': 4644, 'anyth': 185, 'phenomenon': 3181, 'energi': 1374, 'cascad': 576, 'predict': 3317, 'turbul': 4606, 'topic': 4513, 'major': 2552, 'commun': 784, 'violat': 4755, 'hermitian': 1910, 'neither': 2857, 'instanc': 2133, 'sion': 3997, 'govern': 1785, 'characterist': 642, 'learn': 2413, 'short': 3932, 'lagrangian': 2364, 'find': 1607, 'cartan': 573, 'tell': 4406, 'plain': 3223, 'disc': 1158, 'rotat': 3743, 'cube': 958, 'straightforward': 4190, 'bit': 432, 'celebr': 606, 'back': 320, 'triangl': 4571, 'pass': 3106, 'better': 404, 'summat': 4277, 'arnold': 230, 'duke': 1262, 'quasi': 3471, 'period': 3157, 'eur': 1449, 'comment': 778, 'approxim': 205, 'tao': 4381, 'defocus': 1037, 'eme': 1348, 'ma': 2533, 'es': 1429, 'ergod': 1422, 'dynam': 1275, 'itali': 2238, 'lect': 2419, 'tial': 4466, 'hardi': 1865, 'wright': 4881, 'oxford': 3055, 'park': 3091, 'nearli': 2842, 'levin': 2440, 'entir': 1391, 'graph': 1799, 'am': 126, 'algorithm': 104, 'london': 2500, 'wang': 4789, 'institut': 2138, 'umr': 4636, 'nant': 2828, 'rue': 3755, 'ere': 1419, 'cedex': 605, 'zakharov': 4901, 'jiang': 2263, 'lin': 2464, 'shao': 3914, 'tum': 4600, 'data': 991, 'figur': 1599, 'especi': 1433, 'care': 568, 'envelop': 1396, 'electr': 1324, 'plasma': 3234, 'ﬂuctuat': 4995, 'dimensionless': 1142, 'ion': 2197, 'plasmon': 3235, 'electron': 1328, 'thermal': 4442, 'planck': 3226, 'boltzmann': 457, 'ﬂuid': 4997, 'temperatur': 4408, 'adiabat': 57, 'neglect': 2851, 'recov': 3570, 'mension': 2638, 'intend': 2152, 'therein': 4441, 'unlik': 4676, 'focus': 1633, 'guo': 1839, 'zhang': 4909, 'conserv': 848, 'law': 2401, 'dispers': 1178, 'propos': 3393, 'vri': 4780, 'variant': 4716, 'spatial': 4085, 'challeng': 628, 'away': 310, 'prohibit': 3375, 'quantit': 3463, 'worth': 4878, 'ingredi': 2110, 'lowest': 2518, 'heurist': 1915, 'denomin': 1058, 'track': 4535, 'emphas': 1353, 'sound': 4071, 'speed': 4106, 'eﬀect': 1529, 'layer': 2404, 'occur': 2970, 'near': 2839, 'futur': 1705, 'vation': 4721, 'hydrodynam': 1991, 'built': 521, 'build': 520, 'occurr': 2971, 'uniform': 4659, 'inner': 2117, 'counter': 926, 'principl': 3346, 'auxiliari': 302, 'produc': 3365, 'reproduc': 3640, 'noether': 2904, 'gaug': 1724, 'tive': 4495, 'tain': 4364, 'log': 2496, 'long': 2501, 'reduct': 3582, 'solv': 4058, 'neg': 2849, 'review': 3676, 'entri': 1393, 'rewritten': 3684, 'group': 1826, 'retard': 3668, 'contract': 871, 'ensur': 1386, 'within': 4862, 'tor': 4515, 'done': 1219, 'stream': 4201, 'sketch': 4010, 'insid': 2126, 'slight': 4020, 'minkowski': 2704, 'imbed': 2039, 'unchang': 4643, 'integrand': 2150, 'jacobian': 2249, 'relabel': 3606, 'desir': 1081, 'aﬀect': 318, 'strict': 4207, 'ize': 2245, 'switch': 4335, 'enjoy': 1381, 'employ': 1356, 'poss': 3297, 'featur': 1571, 'magnitud': 2546, 'minimum': 2702, 'expans': 1495, 'absorb': 11, 'partit': 3101, 'closest': 716, 'strictli': 4208, 'largest': 2383, 'locat': 2492, 'fortun': 1655, 'monoton': 2756, 'center': 612, 'nation': 2834, 'council': 923, 'valuabl': 4707, 'draft': 1236, 'nsf': 2943, 'anonym': 172, 'refere': 3589, 'journal': 2279, 'koch': 2336, 'geom': 1741, 're': 3538, 'transact': 4546, 'packet': 3066, 'ical': 2010, 'oscillatori': 3027, 'mathematica': 2594, 'rim': 3711, 'kyoto': 2353, 'critic': 947, 'collaps': 753, 'sov': 4075, 'jetp': 2260, 'china': 659, 'lawrenc': 2402, 'usa': 4693, 'asymmetr': 267, 'wall': 4786, 'soft': 4049, 'ferromagnet': 1589, 'ﬁlm': 4958, 'januari': 2254, 'minim': 2699, 'rigor': 3709, 'bifurc': 414, 'caus': 591, 'keyword': 2315, 'gap': 1718, 'magnet': 2545, 'scribe': 3830, 'sampl': 3774, 'parallel': 3081, 'co': 726, 'mathematik': 2595, 'email': 1341, 'asymmetri': 268, 'tri': 4569, 'avoid': 307, 'netic': 2869, 'charg': 644, 'bulk': 522, 'surfac': 4315, 'via': 4742, 'maxwel': 2607, 'constraint': 858, 'bar': 338, 'poincaré': 3258, 'level': 2437, 'incompat': 2074, 'attain': 280, 'essenti': 1435, 'diverg': 1194, 'simul': 3982, 'bloch': 438, 'thick': 4447, 'expens': 1497, 'favor': 1564, 'experiment': 1500, 'ou': 3032, 'regim': 3595, 'judg': 2282, 'conjectur': 837, 'solid': 4055, 'dash': 990, 'error': 1426, 'across': 42, 'whole': 4838, 'mental': 2640, 'distinguish': 1188, 'kerr': 2311, 'microscopi': 2681, 'sec': 3839, 'wind': 4852, 'deg': 1039, 'top': 4512, 'bottom': 475, 'energet': 1373, 'strong': 4214, 'reﬂect': 3688, 'conjunct': 840, 'tail': 4362, 'ari': 224, 'averag': 306, 'match': 2589, 'tanh': 4379, 'odd': 2975, 'vertic': 4740, 'lagrang': 2363, 'ﬁnding': 4966, 'hemispher': 1902, 'rem': 3617, 'sgn': 3906, 'prop': 3386, 'mod': 2725, 'vortex': 4776, 'young': 4898, 'doubl': 1227, 'directli': 1153, 'qualiti': 3460, 'crystallin': 953, 'anisotropi': 160, 'exchang': 1477, 'strength': 4203, 'static': 4157, 'conﬁrm': 890, 'render': 3627, 'page': 3067, 'favour': 1565, 'gain': 1710, 'core': 900, 'proﬁl': 3408, 'visibl': 4762, 'disappear': 1157, 'thin': 4448, 'exhibit': 1486, 'logarithm': 2497, 'diagram': 1116, 'evalu': 1453, 'nucleat': 2949, 'ﬁt': 4975, 'reformul': 3591, 'reconstruct': 3568, 'alon': 112, 'select': 3861, 'lock': 2494, 'program': 3372, 'might': 2688, 'implicit': 2052, 'pressur': 3332, 'stoke': 4183, 'ramet': 3516, 'neighborhood': 2854, 'priori': 3349, 'correct': 906, 'ferenc': 1585, 'degeneraci': 1041, 'pursu': 3436, 'identiﬁc': 2021, 'cosin': 913, 'test': 4427, 'cutoﬀ': 971, 'hessian': 1913, 'tangenti': 4377, 'entail': 1388, 'satur': 3786, 'exploit': 1506, 'arriv': 235, 'display': 1180, 'ward': 4791, 'loc': 2489, 'tangent': 4376, 'unfortun': 4657, 'stronger': 4215, 'adopt': 65, 'proxim': 3407, 'argu': 222, 'half': 1849, 'therebi': 4439, 'ansatz': 174, 'search': 3837, 'ﬁxe': 4979, 'blend': 437, 'anymor': 184, 'yet': 4894, 'tool': 4511, 'imax': 2037, 'cast': 580, 'sequel': 3888, 'box': 480, 'trajectori': 4543, 'parametr': 3084, 'els': 1337, 'recoveri': 3571, 'cross': 948, 'datum': 995, 'cor': 899, 'leaf': 2411, 'iti': 2242, 'disk': 1175, 'retract': 3669, 'hospit': 1968, 'ordinari': 3017, 'textbook': 4431, 'roger': 3731, 'physica': 3196, 'statu': 4161, 'braid': 483, 'var': 4712, 'repuls': 3642, 'evan': 1454, 'graduat': 1791, 'matic': 2596, 'ture': 4607, 'heidelberg': 1891, 'presenc': 3328, 'excess': 1476, 'nal': 2819, 'lion': 2472, 'arch': 215, 'ration': 3533, 'beij': 375, 'transport': 4557, 'dissip': 1182, 'drift': 1247, 'hope': 1961, 'absent': 9, 'maximum': 2605, 'roughli': 3747, 'categori': 587, 'versu': 4737, 'viscos': 4760, 'eventu': 1459, 'awar': 308, 'date': 994, 'novemb': 2939, 'plot': 3251, 'novel': 2938, 'look': 2506, 'ode': 2976, 'blow': 444, 'cusp': 966, 'understand': 4650, 'ignor': 2028, 'add': 53, 'serv': 3896, 'diﬀus': 1204, 'strengthen': 4204, 'picard': 3200, 'fairli': 1548, 'kth': 2346, 'creas': 940, 'interchang': 2156, 'bad': 324, 'answer': 175, 'scenario': 3798, 'evolv': 1467, 'slope': 4024, 'piecewis': 3204, 'ﬁgure': 4952, 'propag': 3387, 'attempt': 281, 'hit': 1938, 'quickli': 3487, 'everyth': 1462, 'manipul': 2562, 'though': 4455, 'weaken': 4812, 'summari': 4275, 'win': 4851, 'stop': 4185, 'guidanc': 1836, 'wish': 4860, 'forc': 1640, 'format': 1648, 'veloc': 4727, 'dong': 1220, 'criterion': 946, 'activ': 46, 'yang': 4889, 'dept': 1071, 'rice': 3699, 'stationari': 4159, 'conﬁn': 888, 'comparison': 794, 'collabor': 752, 'subsolut': 4246, 'degener': 1040, 'intrigu': 2176, 'octob': 2974, 'princip': 3345, 'jump': 2285, 'scope': 3825, 'dition': 1192, 'surprisingli': 4318, 'sophist': 4069, 'secondli': 3843, 'ate': 270, 'steadi': 4163, 'ation': 271, 'unabl': 4637, 'enc': 1360, 'super': 4283, 'evid': 1464, 'discontinu': 1162, 'simpler': 3973, 'diﬃcult': 1205, 'user': 4696, 'guid': 1835, 'concept': 818, 'exterior': 1519, 'speak': 4087, 'discount': 1163, 'share': 3917, 'aspect': 246, 'counterpart': 928, 'permit': 3160, 'ness': 2865, 'qualit': 3459, 'robust': 3727, 'face': 1535, 'sult': 4270, 'invok': 2187, 'imum': 2064, 'semicontinu': 3867, 'complementari': 801, 'request': 3644, 'compat': 795, 'whenev': 4832, 'horizon': 1963, 'supersolut': 4298, 'pend': 3133, 'preliminari': 3323, 'drive': 1249, 'justiﬁc': 2292, 'meanwhil': 2621, 'perhap': 3152, 'diam': 1118, 'gather': 1722, 'led': 2421, 'lution': 2529, 'superscript': 4296, 'exclus': 1481, 'lip': 2474, 'fore': 1642, 'sub': 4225, 'intermedi': 2165, 'ﬁxing': 4981, 'inherit': 2112, 'tional': 4490, 'vide': 4746, 'iter': 2240, 'properli': 3389, 'concentr': 817, 'sume': 4272, 'exposit': 1512, 'fall': 1551, 'viscou': 4761, 'mix': 2719, 'diﬀ': 1199, 'jacobi': 2248, 'revisit': 3678, 'ior': 2199, 'exit': 1488, 'siam': 3947, 'bull': 523, 'nakamura': 2817, 'nate': 2833, 'physiqu': 3198, 'tour': 4525, 'umi': 4635, 'universidad': 4671, 'profil': 3369, 'decoupl': 1023, 'soliton': 4056, 'radiat': 3505, 'scatter': 3797, 'backward': 323, 'zrn': 4919, 'ground': 1825, 'merl': 2650, 'classiﬁ': 701, 'threshold': 4461, 'bubbl': 516, 'break': 489, 'resolut': 3654, 'light': 2455, 'cone': 829, 'prevent': 3334, 'rigid': 3708, 'channel': 634, 'carlo': 569, 'kvk': 2352, 'stick': 4178, 'superposit': 4292, 'previous': 3336, 'ambigu': 128, 'trap': 4560, 'stem': 4171, 'plane': 3227, 'fals': 1552, 'nonzero': 2924, 'self': 3862, 'renorm': 3628, 'seek': 3854, 'wit': 4861, 'captur': 563, 'copi': 898, 'finit': 1608, 'fashion': 1560, 'adjust': 60, 'manner': 2564, 'subtract': 4256, 'cancel': 555, 'thing': 4449, 'bootstrap': 466, 'quenc': 3479, 'bessel': 400, 'hankel': 1860, 'highlight': 1925, 'virial': 4757, 'modul': 2735, 'andrew': 153, 'equivari': 1412, 'benjamin': 388, 'thoma': 4453, 'art': 237, 'invent': 2182, 'acta': 44, 'relax': 3610, 'liu': 2482, 'daniel': 987, 'shen': 3924, 'mat': 2588, 'avenu': 305, 'extinct': 1521, 'climat': 709, 'environ': 1397, 'speci': 4089, 'popul': 3287, 'impact': 2045, 'travel': 4561, 'reaction': 3540, 'social': 4045, 'illustr': 2032, 'pioneer': 3211, 'inﬂuenc': 2196, 'warm': 4792, 'biolog': 427, 'sensit': 3879, 'compet': 797, 'lewi': 2442, 'zone': 4916, 'per': 3141, 'rate': 3530, 'longer': 2502, 'competit': 798, 'pendenc': 3134, 'shift': 3929, 'pointwis': 3260, 'season': 3838, 'surround': 4319, 'highli': 1924, 'wonder': 4866, 'surviv': 4321, 'object': 2958, 'fair': 1547, 'fast': 1561, 'straight': 4189, 'aij': 88, 'intrins': 2177, 'resourc': 3658, 'ment': 2639, 'liouvil': 2473, 'pace': 3062, 'pulsat': 3426, 'heterogen': 1914, 'subtl': 4255, 'outward': 3043, 'hopf': 1962, 'routin': 3750, 'nonempti': 2916, 'infer': 2104, 'corner': 901, 'enabl': 1359, 'scheme': 3803, 'shrink': 3943, 'enlarg': 1382, 'prepar': 3324, 'signiﬁc': 3959, 'dead': 1002, 'increasingli': 2081, 'tialli': 4467, 'whenc': 4831, 'lastli': 2388, 'transpar': 4556, 'axi': 313, 'phd': 3178, 'professor': 3368, 'henri': 1906, 'luca': 2522, 'technolog': 4400, 'encourag': 1365, 'friendli': 1683, 'stimul': 4180, 'atmospher': 274, 'visit': 4764, 'thesi': 4445, 'port': 3292, 'held': 1895, 'john': 2268, 'logist': 2499, 'tempor': 4410, 'hess': 1912, 'world': 4875, 'scientiﬁc': 3823, 'edg': 1296, 'dyn': 1274, 'syst': 4353, 'practic': 3310, 'feng': 1582, 'spread': 4130, 'capabl': 560, 'sive': 4006, 'occupi': 2969, 'fund': 1701, 'central': 614, 'stefan': 4166, 'die': 1124, 'beneﬁt': 387, 'destroy': 1085, 'revers': 3675, 'daili': 982, 'ﬁrstli': 4973, 'firstli': 1612, 'squeez': 4134, 'occup': 2968, 'stress': 4205, 'abil': 6, 'area': 220, 'beyond': 406, 'regardless': 3594, 'friedman': 1682, 'heal': 1883, 'zhou': 4912, 'superior': 4288, 'peng': 3137, 'liang': 2447, 'termin': 4423, 'http': 1979, 'allen': 107, 'si': 3946, 'ser': 3891, 'wiley': 4847, 'son': 4065, 'wei': 4820, 'zhao': 4910, 'ogi': 2983, 'torr': 4519, 'trujillo': 4588, 'secondari': 3842, 'continuum': 869, 'game': 1715, 'outcom': 3035, 'rearrang': 3555, 'straint': 4193, 'autonom': 299, 'charact': 639, 'advantag': 69, 'attract': 284, 'path': 3112, 'reﬂex': 3690, 'orem': 3018, 'rememb': 3621, 'spheric': 4110, 'vii': 4750, 'rabinowitz': 3499, 'perimet': 3156, 'tice': 4471, 'symposium': 4344, 'ding': 1146, 'chines': 660, 'mors': 2772, 'mar': 2568, 'royal': 3753, 'doi': 1214, 'lett': 2434, 'grad': 1787, 'walk': 4784, 'anomal': 170, 'driven': 1250, 'delay': 1045, 'alexand': 100, 'tere': 4421, 'hungari': 1987, 'autom': 295, 'chemic': 649, 'frequent': 1680, 'discov': 1164, 'past': 3110, 'realist': 3551, 'histor': 1936, 'simplest': 3974, 'rare': 3528, 'met': 2655, 'underli': 4649, 'fruit': 1691, 'wider': 4841, 'bring': 501, 'clarifi': 694, 'inﬁnitesim': 2194, 'def': 1031, 'submanifold': 4237, 'particularli': 3100, 'chart': 645, 'ten': 4412, 'thm': 4452, 'dft': 1110, 'confus': 835, 'ic': 2009, 'ampl': 135, 'print': 3347, 'engin': 1378, 'van': 4709, 'electrodynam': 1326, 'canada': 554, 'ed': 1293, 'handbook': 1858, 'elsevi': 1338, 'north': 2928, 'amsterdam': 140, 'geometr': 1742, 'attractor': 285, 'shape': 3915, 'stratiﬁc': 4199, 'feedback': 1578, 'neutral': 2875, 'lag': 2362, 'plicat': 3249, 'accret': 30, 'juli': 2284, 'prandtl': 3311, 'shear': 3920, 'cial': 676, 'emat': 1342, 'incompress': 2076, 'obstruct': 2963, 'dramat': 1238, 'biliti': 420, 'reveal': 3674, 'convect': 878, 'euler': 1447, 'lot': 2514, 'moor': 2762, 'background': 321, 'impuls': 2061, 'circular': 684, 'rayleigh': 3536, 'plug': 3253, 'famou': 1555, 'outer': 3036, 'ponent': 3281, 'horizont': 1964, 'respond': 3661, 'mal': 2554, 'dsn': 1255, 'sourc': 4072, 'simultan': 3983, 'veriﬁc': 4732, 'task': 4385, 'attribut': 286, 'hong': 1958, 'nguyen': 2886, 'tot': 4522, 'wong': 4867, 'arxiv': 242, 'germani': 1749, 'spontan': 4127, 'citi': 689, 'shanghai': 3912, 'fold': 1635, 'pose': 3294, 'characteris': 641, 'techniqu': 4399, 'excel': 1474, 'fail': 1543, 'cal': 539, 'tie': 4475, 'ask': 244, 'ulat': 4627, 'demand': 1053, 'joint': 2271, 'window': 4853, 'kobayashi': 2335, 'dent': 1062, 'record': 3569, 'erat': 1418, 'rais': 3512, 'mth': 2790, 'dirac': 1151, 'uniti': 4668, 'ant': 176, 'mate': 2590, 'lation': 2395, 'rh': 3692, 'ye': 4891, 'atom': 275, 'india': 2090, 'facil': 1537, 'unimodular': 4661, 'librari': 2448, 'spec': 4088, 'conf': 830, 'ralph': 3513, 'august': 289, 'cell': 607, 'tissu': 4492, 'periment': 3155, 'contact': 862, 'diffus': 1130, 'riemannian': 3706, 'letter': 2435, 'mind': 2697, 'uniﬁ': 4673, 'efﬁcient': 1306, 'ple': 3243, 'puls': 3424, 'molecul': 2740, 'namic': 2821, 'transmiss': 4552, 'ear': 1278, 'hidden': 1917, 'effect': 1300, 'afﬁn': 77, 'cation': 589, 'lift': 2454, 'arg': 221, 'minimis': 2701, 'mere': 2645, 'sufﬁc': 4265, 'experi': 1498, 'difﬁcult': 1131, 'pay': 3118, 'ergi': 1421, 'ever': 1460, 'prefer': 3320, 'overlap': 3050, 'mission': 2716, 'cost': 916, 'feasibl': 1570, 'network': 2870, 'code': 733, 'ghz': 1755, 'softwar': 4050, 'eral': 1415, 'intens': 2153, 'polar': 3264, 'eter': 1445, 'accur': 32, 'supplementari': 4306, 'mesh': 2652, 'cassini': 579, 'adam': 50, 'ter': 4419, 'cm': 723, 'sinusoid': 3996, 'voltag': 4773, 'pan': 3070, 'rent': 3629, 'mir': 2709, 'chem': 648, 'lax': 2403, 'industri': 2097, 'rev': 3673, 'tential': 4418, 'resist': 3653, 'implement': 2049, 'ﬁlter': 4959, 'nemat': 2860, 'liquid': 2476, 'crystal': 952, 'flow': 1624, 'sun': 4280, 'colleg': 755, 'macroscop': 2539, 'orient': 3021, 'compress': 811, 'microscop': 2680, 'partner': 3103, 'cuss': 968, 'inhomogen': 2113, 'huang': 1980, 'wen': 4826, 'vacuum': 4700, 'enhanc': 1380, 'div': 1193, 'somewhat': 4063, 'hydrostat': 1993, 'constitut': 856, 'defect': 1033, 'planner': 3231, 'damp': 985, 'diﬀract': 1203, 'imped': 2046, 'acoust': 39, 'bear': 363, 'antisymmetr': 182, 'ideal': 2016, 'mann': 2563, 'riemann': 3705, 'incid': 2068, 'planar': 3225, 'dedic': 1026, 'helmholtz': 1900, 'absorpt': 12, 'obey': 2957, 'vertex': 4739, 'arctan': 219, 'fig': 1598, 'arc': 214, 'outgo': 3037, 'contour': 870, 'erti': 1427, 'pole': 3269, 'watson': 4798, 'ﬁned': 4968, 'faster': 1562, 'sheet': 3922, 'quadrant': 3453, 'unphys': 4678, 'artiﬁci': 241, 'particip': 3097, 'steklov': 4169, 'ra': 3495, 'von': 4775, 'optic': 3006, 'workshop': 4874, 'peter': 3172, 'lang': 2374, 'schwarzschild': 3818, 'und': 4646, 'slit': 4022, 'william': 4849, 'werner': 4827, 'radio': 3507, 'backscatt': 322, 'ieee': 2024, 'editor': 1298, 'meric': 2648, 'electromagnet': 1327, 'barrier': 342, 'faculti': 1541, 'moscow': 2773, 'russia': 3760, 'permut': 3162, 'releas': 3612, 'recurr': 3575, 'bij': 417, 'δij': 4933, 'upon': 4686, 'accumul': 31, 'accomplish': 26, 'bernoulli': 396, 'sole': 4053, 'transmit': 4553, 'coagul': 727, 'decemb': 1010, 'massless': 2586, 'encod': 1362, 'thermodynam': 4443, 'rom': 3734, 'wide': 4840, 'kinet': 2323, 'isotherm': 2227, 'insight': 2127, 'penros': 3138, 'zheng': 4911, 'bution': 532, 'tron': 4584, 'enclos': 1361, 'setup': 3902, 'subscript': 4242, 'noth': 2933, 'particl': 3098, 'eulerian': 1448, 'probabilist': 3355, 'sde': 3833, 'intuit': 2180, 'automat': 296, 'reciproc': 3561, 'fij': 1600, 'empir': 1355, 'tight': 4477, 'settl': 3901, 'vlasov': 4766, 'ﬁltere': 4960, 'ﬂat': 4986, 'entropi': 1394, 'piec': 3203, 'perfect': 3149, 'fusion': 1704, 'fluid': 1626, 'februari': 1573, 'curvatur': 965, 'nou': 2936, 'ca': 535, 'que': 3477, 'est': 1437, 'sure': 4313, 'signal': 3955, 'pattern': 3114, 'recognit': 3563, 'speech': 4105, 'servic': 3899, 'bodi': 451, 'polyhedron': 3275, 'store': 4187, 'land': 2371, 'geograph': 1739, 'valley': 4704, 'cap': 559, 'saddl': 3765, 'zrd': 4918, 'shorter': 3934, 'mimic': 2694, 'sinh': 3993, 'atla': 273, 'glu': 1770, 'pij': 3206, 'geodes': 1738, 'tij': 4479, 'xij': 4885, 'vij': 4752, 'bold': 455, 'join': 2270, 'pick': 3201, 'wise': 4859, 'distort': 1189, 'lee': 2422, 'wavelength': 4804, 'emit': 1351, 'peak': 3124, 'tailor': 4363, 'prior': 3348, 'refract': 3592, 'adjoint': 59, 'nois': 2906, 'discrep': 1166, 'pull': 3422, 'spike': 4115, 'lobe': 2488, 'delta': 1052, 'eigenspac': 1310, 'ker': 2309, 'jordan': 2275, 'triangular': 4573, 'eas': 1282, 'oppos': 3003, 'materi': 2591, 'emerg': 1349, 'chow': 669, 'perspect': 3166, 'noisi': 2908, 'mol': 2739, 'sparsiti': 4084, 'subwavelength': 4259, 'beat': 364, 'microwav': 2683, 'tech': 4397, 'uncertainti': 4642, 'metal': 2656, 'april': 207, 'perfectli': 3150, 'narrow': 2830, 'modal': 2726, 'raman': 3514, 'spectroscopi': 4102, 'detect': 1090, 'drude': 1253, 'ministri': 2703, 'educ': 1299, 'korea': 2341, 'multipol': 2800, 'pack': 3064, 'array': 234, 'elast': 1322, 'insul': 2145, 'zeta': 4907, 'gamma': 1716, 'tabl': 4358, 'shade': 3908, 'height': 1892, 'cartesian': 574, 'cosh': 912, 'coth': 920, 'locu': 2495, 'legendr': 2426, 'ﬂux': 4999, 'owe': 3053, 'recurs': 3576, 'acquisit': 41, 'toler': 4504, 'huge': 1983, 'dover': 1232, 'ﬁne': 4967, 'smith': 4035, 'ﬁber': 4943, 'yin': 4896, 'granular': 1798, 'carrier': 572, 'stiﬀ': 4181, 'davi': 996, 'adjac': 58, 'keller': 2304, 'moon': 2761, 'luo': 2528, 'photon': 3192, 'dielectr': 1125, 'nanoparticl': 2824, 'respons': 3662, 'dimer': 1143, 'opt': 3005, 'memori': 2635, 'fredholm': 1673, 'isotrop': 2230, 'passag': 3107, 'seven': 3903, 'pli': 3248, 'ind': 2083, 'projector': 3378, 'concav': 815, 'sibl': 3948, 'implic': 2051, 'shell': 3923, 'academi': 19, 'plate': 3236, 'junction': 2287, 'astronom': 263, 'noncompact': 2912, 'nauk': 2836, 'tensor': 4416, 'abc': 4, 'concret': 823, 'haar': 1844, 'encount': 1364, 'rank': 3525, 'heisenberg': 1894, 'ricci': 3698, 'kato': 2297, 'sition': 4003, 'decid': 1012, 'sider': 3951, 'bec': 365, 'nilpot': 2891, 'subgroup': 4232, 'counterexampl': 927, 'ori': 3020, 'modular': 2736, 'descend': 1076, 'french': 1678, 'trend': 4568, 'gong': 1780, 'eric': 1424, 'fisher': 1614, 'yan': 4888, 'michel': 2676, 'unpublish': 4679, 'mueller': 2792, 'universit': 4672, 'restor': 3664, 'promin': 3380, 'viewpoint': 4749, 'deepli': 1030, 'miller': 2692, 'pop': 3286, 'ordin': 3016, 'interfac': 2160, 'english': 1379, 'varianc': 4715, 'anc': 148, 'spain': 4081, 'commonli': 783, 'hyperplan': 1999, 'schwab': 3815, 'increment': 2082, 'minor': 2705, 'stant': 4150, 'hyper': 1994, 'anisotrop': 159, 'cheng': 652, 'jul': 2283, 'stanley': 4149, 'econom': 1292, 'adler': 61, 'heavi': 1887, 'fit': 1617, 'assess': 251, 'irregular': 2207, 'stein': 4167, 'watanab': 4795, 'texa': 4429, 'austin': 290, 'conform': 834, 'uhlmann': 4624, 'absenc': 8, 'sink': 3994, 'substanti': 4250, 'greatli': 1811, 'gij': 1758, 'minu': 2706, 'hull': 1984, 'attenu': 283, 'ray': 3535, 'round': 3748, 'inward': 2191, 'do': 1211, 'santo': 3777, 'david': 997, 'tomographi': 4506, 'tian': 4468, 'languag': 2376, 'tackl': 4360, 'classif': 699, 'candid': 556, 'delet': 1046, 'schema': 3801, 'roll': 3733, 'hypersurfac': 2000, 'han': 1856, 'septemb': 3887, 'dolbeault': 1215, 'unifi': 4658, 'ene': 1371, 'born': 469, 'qui': 3485, 'stab': 4139, 'proach': 3354, 'surpris': 4317, 'sumption': 4279, 'appar': 194, 'endpoint': 1369, 'invit': 2186, 'taxi': 4389, 'zhu': 4913, 'wrong': 4884, 'rectangl': 3572, 'berg': 390, 'pendent': 3135, 'henceforth': 1905, 'altogeth': 124, 'afterward': 76, 'intent': 2154, 'nice': 2888, 'summar': 4274, 'reﬁnement': 3687, 'duce': 1260, 'nelson': 2859, 'peculiar': 3128, 'bibliographi': 410, 'myer': 2814, 'diamet': 1119, 'nodal': 2902, 'rapid': 3526, 'tral': 4544, 'report': 3636, 'shi': 3926, 'psl': 3416, 'maxwellian': 2608, 'collision': 761, 'collis': 760, 'angular': 157, 'null': 2953, 'landau': 2372, 'ric': 3696, 'hermit': 1909, 'laguerr': 2365, 'compos': 807, 'monic': 2746, 'rad': 3500, 'viii': 4751, 'binomi': 426, 'pariti': 3090, 'beta': 402, 'jone': 2273, 'slater': 4018, 'er': 1413, 'ga': 1709, 'michigan': 2677, 'kingdom': 2325, 'util': 4698, 'aforement': 75, 'binari': 423, 'reus': 3672, 'prescript': 3327, 'portion': 3293, 'advect': 70, 'ysi': 4900, 'pushforward': 3438, 'pullback': 3423, 'phism': 3185, 'alter': 120, 'leav': 2416, 'problemat': 3359, 'constitu': 855, 'clue': 720, 'pivot': 3218, 'save': 3789, 'paragraph': 3080, 'chain': 627, 'newton': 2883, 'train': 4542, 'style': 4224, 'man': 2556, 'chern': 653, 'einstein': 1316, 'parker': 3092, 'mari': 2573, 'strike': 4209, 'emphasi': 1354, 'quot': 3492, 'messag': 2654, 'drawback': 1241, 'sentenc': 3883, 'proportion': 3392, 'hoc': 1941, 'interplay': 2169, 'resort': 3657, 'someth': 4061, 'guess': 1834, 'kolmogorov': 2340, 'none': 2915, 'issn': 2235, 'url': 4690, 'equilibr': 1407, 'indirect': 2092, 'submit': 4239, 'san': 3775, 'francisco': 1671, 'shannon': 3913, 'costa': 917, 'mum': 2806, 'music': 2810, 'longitudin': 2505, 'wavenumb': 4806, 'correspondingli': 910, 'decad': 1008, 'servat': 3897, 'pseudo': 3411, 'λmin': 4935, 'λmax': 4934, 'tanc': 4374, 'exceed': 1473, 'cluster': 722, 'schneider': 3806, 'unexpect': 4655, 'distinct': 1187, 'calli': 546, 'percent': 3144, 'broken': 507, 'spacetim': 4080, 'lorentzian': 2510, 'fermi': 1587, 'modulo': 2737, 'ian': 2005, 'paradigm': 3078, 'shortest': 3935, 'timelik': 4484, 'gular': 1838, 'anderson': 151, 'howard': 1973, 'ular': 4626, 'ifold': 2026, 'fer': 1583, 'heavili': 1889, 'len': 2430, 'causal': 592, 'logic': 2498, 'txm': 4617, 'codimens': 737, 'tip': 4491, 'covari': 932, 'black': 434, 'hole': 1944, 'mine': 2698, 'kill': 2319, 'lorentz': 2509, 'ein': 1315, 'cosmolog': 915, 'tem': 4407, 'shield': 3928, 'devic': 1101, 'laboratori': 2359, 'plete': 3246, 'clock': 712, 'massiv': 2585, 'white': 4837, 'behind': 374, 'instantan': 2135, 'spacelik': 4079, 'imagin': 2034, 'server': 3898, 'gravit': 1805, 'kept': 2308, 'ted': 4401, 'south': 4073, 'circumst': 685, 'parameter': 3083, 'conic': 836, 'longest': 2503, 'concaten': 814, 'finland': 1609, 'ivanov': 2243, 'ﬁlling': 4957, 'bridg': 494, 'phantom': 3176, 'fischer': 1613, 'hawk': 1877, 'gromov': 1822, 'fill': 1602, 'holonomi': 1949, 'histori': 1937, 'graviti': 1806, 'incomplet': 2075, 'street': 4202, 'west': 4828, 'czech': 979, 'republ': 3641, 'station': 4158, 'shock': 3931, 'european': 1450, 'exot': 1492, 'suppli': 4307, 'plausibl': 3240, 'sit': 4000, 'ballist': 331, 'accommod': 24, 'gao': 1717, 'chemistri': 650, 'maliz': 2555, 'schrödinger': 3811, 'hartre': 1872, 'star': 4151, 'tanaka': 4373, 'eqn': 1403, 'island': 2214, 'titl': 4494, 'jin': 2265, 'movement': 2784, 'randomli': 3523, 'shadow': 3909, 'sem': 3863, 'segreg': 3858, 'interf': 2159, 'unbias': 4639, 'sen': 3876, 'escap': 1431, 'load': 2487, 'interfer': 2161, 'focal': 1630, 'attack': 279, 'individu': 2094, 'consum': 860, 'compound': 809, 'bias': 409, 'manifest': 2560, 'coexist': 740, 'cellular': 608, 'aggreg': 83, 'tmax': 4496, 'convert': 883, 'lose': 2511, 'accuraci': 33, 'nonsingular': 2922, 'destabil': 1083, 'cate': 585, 'methodolog': 2664, 'eﬃcienc': 1532, 'fan': 1556, 'iron': 2203, 'fang': 1557, 'relay': 3611, 'morpholog': 2771, 'theor': 4434, 'condens': 826, 'axial': 314, 'cooper': 895, 'winter': 4856, 'bbgki': 357, 'hierarchi': 1919, 'fermion': 1588, 'king': 2324, 'interparticl': 2168, 'tribut': 4574, 'middl': 2685, 'prefactor': 3319, 'repeatedli': 3632, 'wors': 4876, 'meth': 2661, 'california': 544, 'brown': 511, 'divis': 1197, 'georg': 1746, 'hamilton': 1853, 'clockwis': 713, 'repair': 3630, 'poorli': 3285, 'silicon': 3964, 'solar': 4052, 'glass': 1765, 'silver': 3966, 'electrod': 1325, 'devis': 1102, 'today': 4499, 'emitt': 1352, 'schemat': 3802, 'ongo': 2991, 'debat': 1005, 'colloid': 762, 'aid': 87, 'poor': 3284, 'circuit': 682, 'semiconductor': 3866, 'chu': 674, 'wedg': 4818, 'rectangular': 3573, 'predominantli': 3318, 'kbt': 2299, 'permitt': 3161, 'output': 3041, 'cumul': 962, 'deviat': 1100, 'facilit': 1538, 'gate': 1721, 'command': 776, 'explor': 1507, 'grid': 1818, 'imat': 2036, 'updat': 4684, 'chanc': 631, 'nth': 2946, 'matlab': 2598, 'access': 23, 'fewer': 1591, 'patch': 3111, 'littl': 2481, 'ax': 312, 'net': 2867, 'arrow': 236, 'conﬁdenc': 886, 'spot': 4128, 'overal': 3046, 'naiv': 2816, 'maintain': 2550, 'ond': 2989, 'tunnel': 4603, 'moder': 2729, 'mont': 2757, 'pleas': 3244, 'acm': 37, 'exciton': 1479, 'schubert': 3812, 'richardson': 3702, 'illumin': 2031, 'sol': 4051, 'ac': 16, 'choi': 663, 'bauer': 353, 'nanoscal': 2825, 'hsieh': 1977, 'nonequilibrium': 2917, 'diod': 1147, 'film': 1603, 'bipolar': 429, 'prog': 3370, 'cohen': 744, 'confin': 833, 'agent': 81, 'mobil': 2724, 'margin': 2572, 'irreduc': 2206, 'indeﬁnit': 2089, 'conﬁnement': 889, 'cij': 678, 'retain': 3667, 'conceiv': 816, 'opinion': 3001, 'broad': 502, 'mixtur': 2720, 'ist': 2237, 'app': 193, 'subsystem': 4254, 'life': 2451, 'dfg': 1109, 'align': 106, 'kinemat': 2322, 'anna': 162, 'slower': 4027, 'failur': 1544, 'rij': 3710, 'vortic': 4777, 'evolutionari': 1466, 'switzerland': 4336, 'sonic': 4067, 'depict': 1067, 'cite': 688, 'transon': 4555, 'disturb': 1191, 'mark': 2574, 'subson': 4247, 'air': 92, 'acceler': 20, 'superson': 4299, 'forthcom': 1653, 'ﬂatten': 4987, 'mach': 2535, 'polytrop': 3279, 'lai': 2366, 'serr': 3895, 'richard': 3701, 'paradox': 3079, 'seoul': 3884, 'coulomb': 922, 'strain': 4192, 'manuscript': 2566, 'fin': 1605, 'despit': 1082, 'drastic': 1239, 'ultim': 4628, 'spring': 4131, 'lui': 2523, 'elong': 1336, 'spectiv': 4097, 'dex': 1104, 'cdx': 602, 'superﬂuid': 4302, 'bose': 471, 'emiss': 1350, 'hint': 1932, 'cold': 751, 'reactiv': 3541, 'drag': 1237, 'clariti': 695, 'struction': 4219, 'shallow': 3911, 'water': 4796, 'nucl': 2947, 'human': 1985, 'isol': 2220, 'eigenmod': 1309, 'partli': 3102, 'scientist': 3822, 'suzuki': 4325, 'ﬂock': 4992, 'friction': 1681, 'nearbi': 2840, 'astrophys': 266, 'ativ': 272, 'fornasi': 1652, 'consensu': 846, 'hierarch': 1918, 'robot': 3726, 'breakdown': 490, 'nowaday': 2940, 'lamin': 2370, 'cent': 610, 'solenoid': 4054, 'member': 2633, 'triplet': 4580, 'affect': 73, 'collinear': 759, 'rindler': 3712, 'lyon': 2531, 'hom': 1950, 'dxi': 1271, 'qian': 3448, 'instituto': 2139, 'discoveri': 1165, 'execut': 1482, 'tension': 4415, 'storag': 4186, 'discharg': 1160, 'grain': 1793, 'ice': 2012, 'ﬁlament': 4953, 'bate': 350, 'penetr': 3136, 'oﬀer': 3058, 'doubli': 1229, 'opportun': 3002, 'innov': 2119, 'chin': 658, 'hot': 1970, 'ce': 603, 'chan': 630, 'akad': 95, 'kuznetsov': 2351, 'ﬁfth': 4951, 'divers': 1195, 'airi': 93, 'suppl': 4304, 'eq': 1402, 'tal': 4369, 'ring': 3713, 'classifi': 700, 'exhaust': 1485, 'synergi': 4348, 'essenc': 1434, 'tube': 4597, 'toy': 4529, 'explos': 1508, 'russel': 3759, 'tradit': 4539, 'accompani': 25, 'centuri': 617, 'niqu': 2893, 'dilut': 1138, 'interestingli': 2158, 'redund': 3583, 'pertain': 3168, 'importantli': 2055, 'departur': 1064, 'enforc': 1376, 'ﬂexibl': 4989, 'bump': 524, 'sort': 4070, 'inspect': 2128, 'strang': 4195, 'worst': 4877, 'stack': 4142, 'tile': 4480, 'band': 334, 'steep': 4164, 'imping': 2048, 'incom': 2073, 'head': 1882, 'detach': 1088, 'morawetz': 2763, 'smear': 4034, 'psfrag': 3415, 'reflect': 3590, 'attach': 278, 'obliqu': 2959, 'tempt': 4411, 'assign': 252, 'ramp': 3519, 'cot': 918, 'molecular': 2741, 'hadamard': 1846, 'award': 309, 'netherland': 2868, 'solver': 4060, 'den': 1055, 'da': 980, 'mit': 2717, 'collin': 758, 'stanford': 4148, 'woodward': 4869, 'comp': 787, 'retriev': 3670, 'hardli': 1866, 'wavefront': 4801, 'lociti': 2493, 'push': 3437, 'strongest': 4216, 'weinberg': 4824, 'cern': 619, 'instruct': 2141, 'ampliﬁ': 138, 'shed': 3921, 'fragment': 1667, 'sd': 3831, 'genet': 1735, 'roth': 3744, 'floquet': 1623, 'cyclic': 974, 'klein': 2327, 'promot': 3382, 'rocki': 3729, 'string': 4210, 'vibrat': 4743, 'ﬁbere': 4944, 'singapor': 3987, 'miao': 2674, 'pin': 3207, 'foliat': 1636, 'shortli': 3937, 'riccati': 3697, 'slice': 4019, 'blue': 446, 'red': 3577, 'color': 763, 'seriou': 3894, 'seed': 3853, 'displac': 1179, 'dictat': 1122, 'descent': 1077, 'suﬀer': 4326, 'gµν': 1843, 'grey': 1817, 'gray': 1807, 'visual': 4765, 'trχ': 4594, 'torsion': 4520, 'highest': 1923, 'slab': 4017, 'latin': 2394, 'rie': 3704, 'tab': 4357, 'shorthand': 3936, 'compens': 796, 'entiti': 1392, 'straightforwardli': 4191, 'took': 4510, 'manag': 2557, 'lar': 2380, 'compris': 812, 'loop': 2507, 'jth': 2281, 'companion': 792, 'extent': 1518, 'phillip': 3183, 'compactiﬁc': 789, 'necess': 2844, 'gordon': 1783, 'undergo': 4648, 'ther': 4438, 'gion': 1759, 'discard': 1159, 'era': 1414, 'quant': 3461, 'grav': 1804, 'privat': 3353, 'physik': 3197, 'vice': 4744, 'versa': 4735, 'genu': 1736, 'trust': 4592, 'spiral': 4119, 'immers': 2044, 'catenoid': 588, 'elucid': 1340, 'exercis': 1483, 'assembl': 249, 'sector': 3847, 'disconnect': 1161, 'travers': 4562, 'sweep': 4332, 'strand': 4194, 'elabor': 1321, 'road': 3722, 'graphic': 1801, 'denc': 1056, 'weierstrass': 4821, 'meromorph': 2651, 'flat': 1621, 'silva': 3965, 'martin': 2580, 'massachusett': 2584, 'arizona': 227, 'santa': 3776, 'tucson': 4598, 'definit': 1036, 'semideﬁnit': 3868, 'herein': 1908, 'consecut': 845, 'homotopi': 1957, 'dom': 1216, 'schmitt': 3805, 'galaxi': 1712, 'resid': 3651, 'secur': 3849, 'morphism': 2770, 'stellar': 4170, 'ﬁed': 4949, 'schr': 3809, 'marco': 2571, 'ﬂight': 4990, 'neutron': 2877, 'orbit': 3014, 'ago': 84, 'bia': 408, 'feder': 1576, 'levi': 2439, 'metri': 2665, 'broader': 506, 'evapor': 1456, 'ellipsoid': 1334, 'madrid': 2543, 'quadratur': 3455, 'vapor': 4711, 'reynold': 3685, 'droplet': 1252, 'melt': 2631, 'disloc': 1176, 'lifetim': 2452, 'substrat': 4252, 'ext': 1515, 'md': 2615, 'witten': 4864, 'dri': 1246, 'gaseou': 1720, 'hill': 1930, 'geophys': 1745, 'fractal': 1665, 'sasaki': 3779, 'correl': 908, 'axiom': 315, 'sme': 4033, 'subbundl': 4227, 'dµν': 1277, 'hodg': 1942, 'imf': 2041, 'submers': 4238, 'prime': 3341, 'erg': 1420, 'conjugaci': 839, 'walter': 4788, 'kleinian': 2328, 'cocycl': 731, 'determinist': 1094, 'meaning': 2620, 'frontier': 1689, 'bell': 379, 'chao': 635, 'singleton': 3991, 'busi': 531, 'israel': 2234, 'polyhedr': 3274, 'facet': 1536, 'rich': 3700, 'schaefer': 3799, 'kuiper': 2347, 'shapiro': 3916, 'ap': 187, 'toda': 4498, 'jost': 2278, 'hxi': 1989, 'simplex': 3975, 'unitar': 4666, 'nova': 2937, 'darboux': 988, 'apn': 192, 'appreci': 201, 'stephen': 4173, 'andrea': 152, 'wolf': 4865, 'seismic': 3860, 'diseas': 1171, 'commerci': 779, 'anyway': 186, 'secant': 3840, 'peopl': 3140, 'quarter': 3469, 'diminish': 1144, 'dress': 1245, 'stripe': 4212, 'christoph': 670, 'depth': 1072, 'nomin': 2909, 'uncertain': 4641, 'orsay': 3023, 'insensit': 2123, 'tude': 4599, 'thousand': 4457, 'pool': 3283, 'merg': 2646, 'input': 2121, 'quantiﬁ': 3466, 'uncorrel': 4645, 'ith': 2241, 'calibr': 543, 'snapshot': 4039, 'regress': 3599, 'ﬁtting': 4977, 'ﬁtted': 4976, 'el': 1320, 'packag': 3065, 'coron': 903, 'circul': 683, 'johnson': 2269, 'reliabl': 3615, 'lo': 2486, 'angel': 154, 'team': 4396, 'scott': 3827, 'intellig': 2151, 'lindblad': 2465, 'quir': 3489, 'dipol': 1149, 'job': 2267, 'bueno': 519, 'theta': 4446, 'pauli': 3116, 'quenci': 3481, 'approv': 204, 'gram': 1794, 'synthesi': 4351, 'axisymmetr': 316, 'quasiparticl': 3474, 'phonon': 3187, 'helium': 1899, 'jan': 2253, 'anharmon': 158, 'sitter': 4004, 'spin': 4116, 'stone': 4184, 'spinor': 4117, 'mad': 2540, 'spinori': 4118, 'chiral': 662, 'default': 1032, 'hbi': 1879, 'superradi': 4294, 'tang': 4375, 'takahashi': 4366, 'langevin': 2375, 'tic': 4469, 'protein': 3397, 'neuron': 2874, 'bind': 424, 'rout': 3749, 'migrat': 2689, 'target': 4383, 'becam': 366, 'prolong': 3379, 'polym': 3276, 'lambert': 2368, 'phenomenolog': 3180, 'mediat': 2626, 'ton': 4507, 'murray': 2809, 'grand': 1796, 'cep': 618, 'brazil': 488, 'cao': 558, 'constrain': 857, 'ﬁll': 4955, 'sequenti': 3890, 'albeit': 98, 'conv': 877, 'pairwis': 3069, 'passiv': 3109, 'tracer': 4534, 'coat': 730, 'irrespect': 2209, 'familiar': 1554, 'functor': 1699, 'apertur': 190, 'ran': 3521, 'doubt': 1230, 'satisfactori': 3782, 'chord': 666, 'instrument': 2144, 'membership': 2634, 'saw': 3790, 'brook': 508, 'reinforc': 3603, 'presum': 3333, 'secular': 3848, 'ping': 3209, 'median': 2625, 'lh': 2445, 'polygon': 3273, 'hexagon': 1916, 'dell': 1049, 'fellowship': 1580, 'finsler': 1610, 'zhai': 4908, 'yamamoto': 4887, 'raw': 3534, 'earth': 1281, 'waveform': 4800, 'eigenfrequ': 1307, 'cdf': 598, 'augment': 288, 'placement': 3221, 'prospect': 3395, 'geophi': 1744, 'caviti': 594, 'pear': 3125, 'bond': 460, 'emax': 1343, 'te': 4393, 'ceas': 604, 'mer': 2643, 'deep': 1028, 'shu': 3944, 'codim': 736, 'cohomolog': 747, 'poland': 3263, 'alonso': 114, 'joseph': 2276, 'inc': 2067, 'michael': 2675, 'sensor': 3880, 'ecm': 1291, 'eight': 1314, 'nine': 2892, 'azimuth': 317, 'tout': 4526, 'rainbow': 3511, 'inelast': 2098, 'bjorken': 433, 'hadron': 1847, 'detector': 1091, 'collid': 756, 'chamber': 629, 'tpc': 4530, 'calorimet': 547, 'bemc': 382, 'meson': 2653, 'spectromet': 4100, 'fm': 1629, 'trigger': 4576, 'pion': 3210, 'quark': 3468, 'gluon': 1771, 'qgp': 3447, 'heavier': 1888, 'nuclear': 2948, 'rhic': 3694, 'brookhaven': 509, 'lhc': 2446, 'nucleu': 2952, 'probe': 3357, 'projectil': 3377, 'proton': 3399, 'muon': 2808, 'lepton': 2432, 'nucleon': 2950, 'virtual': 4759, 'parton': 3104, 'talk': 4370, 'di': 1111, 'rection': 3574, 'pdf': 3123, 'qcd': 3444, 'acquir': 40, 'inconsist': 2077, 'recombin': 3565, 'panel': 3071, 'valenc': 4702, 'sea': 3835, 'boost': 465, 'timescal': 4485, 'glauber': 1766, 'gold': 1776, 'incoher': 2072, 'onset': 2994, 'nonetheless': 2918, 'cloud': 718, 'deloc': 1050, 'live': 2483, 'qed': 3445, 'disord': 1177, 'tree': 4566, 'anticip': 180, 'freedom': 1675, 'intact': 2147, 'gev': 1751, 'phobo': 3186, 'postul': 3302, 'cle': 704, 'deuteron': 1097, 'recoil': 3564, 'preferenti': 3321, 'broaden': 505, 'peripher': 3158, 'deconﬁn': 1021, 'instant': 2134, 'clean': 705, 'bunch': 525, 'brought': 510, 'hour': 1972, 'six': 4007, 'phenix': 3179, 'ioniz': 2198, 'scintil': 3824, 'newli': 2881, 'instal': 2132, 'bbc': 356, 'meter': 2660, 'teract': 4420, 'methan': 2662, 'readout': 3548, 'tower': 4528, 'shower': 3940, 'machin': 2536, 'decod': 1017, 'pmt': 3256, 'cosmic': 914, 'wire': 4857, 'coverag': 934, 'psd': 3410, 'mip': 2708, 'mask': 2582, 'mount': 2782, 'innermost': 2118, 'halo': 1851, 'reject': 3604, 'luminos': 2526, 'puzzl': 3441, 'quick': 3486, 'prototyp': 3402, 'east': 1286, 'schedul': 3800, 'nlo': 2897, 'pqcd': 3309, 'prompt': 3383, 'amplifi': 136, 'contamin': 864, 'monitor': 2747, 'older': 2985, 'digit': 1133, 'adc': 52, 'deposit': 1070, 'centroid': 616, 'deeper': 1029, 'leakag': 2412, 'architectur': 216, 'mhz': 2673, 'pipelin': 3212, 'suscept': 4322, 'fake': 1550, 'clude': 719, 'lighter': 2457, 'ﬁle': 4954, 'combinatori': 771, 'neighbor': 2853, 'nmax': 2899, 'blur': 447, 'pythia': 3443, 'histogram': 1935, 'combinator': 770, 'tune': 4602, 'parent': 3087, 'deliv': 1048, 'stretch': 4206, 'distant': 1186, 'rithm': 3716, 'catalog': 583, 'degrad': 1042, 'bin': 422, 'tom': 4505, 'scan': 3796, 'inset': 2125, 'tween': 4610, 'harder': 1864, 'recogn': 3562, 'khz': 2316, 'mid': 2684, 'conﬁrmat': 891, 'ﬁducial': 4948, 'million': 2693, 'rm': 3717, 'underestim': 4647, 'percentag': 3145, 'superimpos': 4287, 'mev': 2669, 'nent': 2861, 'overestim': 3048, 'abund': 14, 'ticl': 4472, 'gradual': 1790, 'pseudorapid': 3413, 'alic': 105, 'tev': 4428, 'hardwar': 1867, 'faith': 1549, 'inevit': 2102, 'instr': 2140, 'kaon': 2295, 'bsc': 514, 'secret': 3844, 'student': 4221, 'teach': 4394, 'leader': 2410, 'host': 1969, 'expert': 1501, 'kick': 2318, 'doppler': 1223, 'dilepton': 1137, 'pac': 3061, 'peratur': 3142, 'boo': 462, 'timat': 4482, 'atur': 287, 'trum': 4590, 'culat': 960, 'resent': 3649, 'grammar': 1795, 'lab': 2356, 'alamo': 96, 'illinoi': 2030, 'sezion': 3905, 'dubna': 1259, 'disagr': 1155, 'expos': 1511, 'apparatu': 195, 'reviv': 3679, 'surement': 4314, 'tainti': 4365, 'radi': 3502, 'iment': 2040, 'ds': 1254, 'helic': 1896, 'inal': 2065, 'ref': 3587, 'databas': 992, 'bend': 384, 'hydrogen': 1992, 'msr': 2788, 'fwhm': 1707, 'hr': 1975, 'ure': 4689, 'carbon': 565, 'precess': 3313, 'bon': 459, 'rail': 3510, 'platform': 3238, 'ble': 436, 'leg': 2425, 'ensembl': 1385, 'mismatch': 2713, 'indistinguish': 2093, 'arm': 228, 'mentum': 2642, 'oﬀset': 3059, 'polarimetri': 3266, 'mitig': 2718, 'quadrupol': 3458, 'fring': 1685, 'downward': 1235, 'likelihood': 2459, 'certainti': 622, 'tio': 4488, 'redistribut': 3579, 'ent': 1387, 'ob': 2956, 'tent': 4417, 'document': 1212, 'gle': 1767, 'misalign': 2712, 'collim': 757, 'alli': 108, 'fect': 1574, 'zoom': 4917, 'baryon': 344, 'spectat': 4096, 'jain': 2250, 'wavefunct': 4802, 'ﬂip': 4991, 'infrar': 2108, 'feynman': 1592, 'promis': 3381, 'ﬂavor': 4988, 'isovector': 2232, 'isoscalar': 2225, 'tari': 4384, 'jackson': 2247, 'quench': 3480, 'initio': 2115, 'bare': 340, 'eigenst': 1311, 'monopol': 2755, 'ferent': 1586, 'tractabl': 4537, 'carlson': 570, 'fisica': 1615, 'infn': 2106, 'cla': 690, 'instrum': 2143, 'annual': 168, 'braun': 487, 'jhep': 2262, 'aip': 91, 'walker': 4785, 'neutrino': 2876, 'observatori': 2961, 'astronomi': 264, 'day': 998, 'zenith': 4905, 'benchmark': 383, 'laser': 2385, 'heart': 1885, 'anneal': 164, 'card': 566, 'deploy': 1069, 'inclin': 2069, 'marker': 2575, 'mac': 2534, 'pect': 3127, 'imperfect': 2047, 'trial': 4570, 'ambient': 127, 'sigma': 3953, 'northern': 2929, 'para': 3075, 'recip': 3560, 'sp': 4076, 'snn': 4041, 'epoch': 1401, 'higg': 1920, 'eo': 1399, 'crossov': 949, 'cool': 893, 'categor': 586, 'percentil': 3146, 'npart': 2941, 'opac': 2997, 'hrg': 1976, 'supersymmetr': 4300, 'nitrogen': 2895, 'eccentr': 1289, 'hotter': 1971, 'wait': 4783, 'midrapid': 2687, 'pronounc': 3384, 'heinz': 1893, 'hirano': 1934, 'petersen': 3173, 'kumar': 2348, 'pygmi': 3442, 'isotop': 2228, 'reactor': 3542, 'nucleosynthesi': 2951, 'cyclotron': 975, 'enrich': 1384, 'age': 79, 'telescop': 4405, 'kev': 2313, 'citat': 687, 'unfold': 4656, 'ridg': 3703, 'sudden': 4262, 'giant': 1756, 'baselin': 347, 'unresolv': 4681, 'ting': 4487, 'skin': 4014, 'ﬂuoresc': 4998, 'dissoci': 1183, 'scr': 3828, 'gen': 1731, 'bohr': 454, 'cameron': 551, 'harvey': 1874, 'endr': 1370, 'butler': 533, 'mainz': 2551, 'perman': 3159, 'radioact': 3508, 'hundr': 1986, 'dark': 989, 'ﬂag': 4982, 'minut': 2707, 'ampliﬁc': 139, 'usag': 4694, 'nel': 2858, 'week': 4819, 'val': 4701, 'correctli': 907, 'deutsch': 1098, 'spp': 4129, 'budapest': 517, 'mexico': 2670, 'paulo': 3117, 'koester': 2339, 'isr': 2233, 'dijet': 1135, 'raa': 3496, 'tra': 4532, 'tof': 4500, 'ject': 2257, 'inat': 2066, 'hyperon': 1998, 'feed': 1577, 'mon': 2745, 'regist': 3597, 'tsalli': 4595, 'dataset': 993, 'gy': 1841, 'anti': 179, 'velop': 4728, 'modest': 2731, 'twist': 4614, 'nef': 2848, 'steeper': 4165, 'room': 3737, 'siti': 4002, 'estado': 1439, 'jun': 2286, 'clark': 696, 'emc': 1347, 'specul': 4104, 'sgr': 3907, 'superconduct': 4285, 'dalitz': 984, 'mott': 2781, 'safe': 3766, 'undesir': 4652, 'singlet': 3990, 'wilson': 4850, 'bag': 326, 'encompass': 1363, 'goodman': 1782, 'vogt': 4768, 'ibid': 2007, 'ross': 3741, 'tag': 4361, 'isospin': 2226, 'cnot': 724, 'lithium': 2480, 'oxygen': 3056, 'doublet': 1228, 'sato': 3785, 'nakayama': 2818, 'chiang': 655, 'greiner': 1814, 'po': 3257, 'multiparticl': 2796, 'unambigu': 4638, 'tendenc': 4414, 'pta': 3418, 'ﬁssion': 4974, 'gsi': 1832, 'mercuri': 2644, 'optimum': 3008, 'option': 3009, 'synthet': 4352, 'amev': 131, 'web': 4815, 'berna': 394, 'creativ': 943, 'goldston': 1779, 'isobar': 2217, 'diamond': 1120, 'offer': 2979, 'caption': 562, 'comprehens': 810, 'spite': 4121, 'ﬁnancial': 4964, 'stephenson': 4174, 'pol': 3262, 'knutson': 2334, 'specif': 4091, 'exert': 1484, 'arithmet': 226, 'repetit': 3633, 'bombard': 458, 'cycl': 973, 'pling': 3250, 'microcanon': 2678, 'saturn': 3787, 'roper': 3739, 'sky': 4015, 'purpl': 3434, 'skyrm': 4016, 'stanc': 4145, 'yrast': 4899, 'spectroscop': 4101, 'breakup': 491, 'yellow': 4893, 'file': 1601, 'dwba': 1269, 'reid': 3601, 'krau': 2345, 'hen': 1903, 'gupta': 1840, 'schulz': 3813, 'cox': 936, 'thompson': 4454, 'bender': 385, 'campbel': 553, 'hansen': 1861, 'dip': 1148, 'plateau': 3237, 'toric': 4516, 'ﬁrebal': 4971, 'corona': 904, 'feb': 1572, 'sloan': 4023, 'polish': 3271, 'spectrograph': 4099, 'avalanch': 304, 'admixtur': 64, 'assist': 253, 'ford': 1641, 'symp': 4342, 'love': 2515, 'ghost': 1754, 'lap': 2377, 'hbt': 1880, 'deplet': 1068, 'ass': 248, 'mirror': 2711, 'csi': 954, 'dye': 1273, 'budget': 518, 'puriti': 3433, 'artifact': 239, 'effici': 1301, 'andersen': 150, 'commensur': 777, 'cultur': 961, 'turbid': 4605, 'planet': 3228, 'frost': 1690, 'amorph': 133, 'conceptu': 819, 'committe': 781, 'omega': 2987, 'roch': 3728, 'bernstein': 397, 'urqmd': 4691, 'transient': 4549, 'durat': 1265, 'venu': 4729, 'destruct': 1086, 'gorenstein': 1784, 'anomali': 171, 'engag': 1377, 'fectiv': 1575, 'pump': 3427, 'sic': 3949, 'pinch': 3208, 'inher': 2111, 'greatest': 1810, 'kink': 2326, 'shf': 3925, 'rmf': 3719, 'orang': 3012, 'ren': 3626, 'steiner': 4168, 'tap': 4382, 'monochromat': 2748, 'colour': 764, 'remnant': 3623, 'forbidden': 1639, 'diagnost': 1113, 'beth': 403, 'ultraviolet': 4632, 'sublead': 4235, 'cooler': 894, 'lambda': 2367, 'truth': 4593, 'isotropi': 2231, 'bernd': 395, 'pluto': 3254, 'sph': 4108, 'recommend': 3566, 'jame': 2252, 'campaign': 552, 'australia': 291, 'aut': 292, 'emuls': 1358, 'unusu': 4683, 'alpha': 115, 'configur': 832, 'singh': 3988, 'bimod': 421, 'latent': 2390, 'entangl': 1389, 'irradi': 2205, 'pitch': 3217, 'pixel': 3219, 'isom': 2221, 'inertia': 2101, 'tr': 4531, 'rotor': 3745, 'incorrect': 2079, 'manual': 2565, 'hollow': 1945, 'ror': 3740, 'feshbach': 1590, 'fission': 1616, 'aston': 260, 'month': 2758, 'stewart': 4175, 'molybdenum': 2742, 'parti': 3095, 'five': 1618, 'vote': 4778, 'faint': 1545, 'photometri': 3191, 'photometr': 3190, 'griﬃth': 1819, 'stroming': 4213, 'pearson': 3126, 'sakurai': 3771, 'saito': 3769, 'steﬀen': 4176, 'cliﬀord': 711, 'astron': 262, 'idl': 2022, 'supernova': 4290, 'strate': 4196, 'tno': 4497, 'struct': 4218, 'nari': 2829, 'rab': 3497, 'chip': 661, 'border': 467, 'metast': 2658, 'isochron': 2218, 'graham': 1792, 'belgium': 376, 'environment': 1398, 'mag': 2544, 'forest': 1643, 'mutat': 2812, 'medic': 2627, 'waist': 4782, 'plant': 3232, 'impur': 2062, 'dec': 1007, 'gemini': 1730, 'sustain': 4324, 'person': 3165, 'ppm': 3308, 'col': 750, 'barn': 341, 'launch': 2399, 'matthew': 2602, 'guillot': 1837, 'landscap': 2373, 'proxi': 3406, 'skew': 4011, 'ss': 4137, 'ellips': 1333, 'interferometri': 2163, 'pbpb': 3120, 'screen': 3829, 'efﬁcienc': 1305, 'ofﬂin': 2982, 'hip': 1933, 'sep': 3885, 'mst': 2789, 'turkey': 4608, 'polici': 3270, 'imbal': 2038, 'walsh': 4787, 'weber': 4816, 'hartmann': 1871, 'sim': 3968, 'chandra': 632, 'newman': 2882, 'winn': 4855, 'harri': 1870, 'bai': 327, 'berri': 398, 'revolut': 3680, 'frontal': 1688, 'hyperﬁn': 2001, 'ree': 3585, 'radic': 3506, 'photodetector': 3189, 'risk': 3715, 'bandwidth': 337, 'suffici': 4264, 'significantli': 3958, 'burst': 530, 'summaris': 4276, 'filter': 1604, 'signific': 3957, 'exposur': 1513, 'difficult': 1128, 'influenc': 2105, 'europhi': 1451, 'fluctuat': 1625, 'ultracold': 4629, 'fastest': 1563, 'hypothet': 2003, 'motor': 2780, 'albedo': 97, 'flux': 1628, 'mayor': 2610, 'ibm': 2008, 'sentat': 3882, 'upward': 4688, 'percol': 3147, 'lrc': 2519, 'macro': 2537, 'bath': 351, 'ﬂash': 4985, 'piston': 3215, 'por': 3289, 'stagger': 4144, 'lifshitz': 2453, 'ida': 2014, 'doorway': 1222, 'twin': 4613, 'supervis': 4301, 'suffer': 4263, 'experienc': 1499, 'ˆpt': 4923, 'et': 1441, 'tau': 4387, 'nasa': 2831, 'galact': 1711, 'spacecraft': 4078, 'spars': 4083, 'pute': 3440, 'caution': 593, 'coin': 748, 'nir': 2894, 'smart': 4032, 'protect': 3396, 'stark': 4152, 'ccd': 596, 'satellit': 3781, 'beer': 369, 'ladder': 2361, 'dof': 1213, 'reservoir': 3650, 'eject': 1318, 'synchron': 4346, 'ribbon': 3695, 'tilt': 4481, 'asp': 245, 'morita': 2769, 'storm': 4188, 'defin': 1035, 'automaton': 297, 'susi': 4323, 'ner': 2864, 'marley': 2578, 'truli': 4589, 'tightli': 4478, 'burn': 528, 'oct': 2972, 'oliv': 2986, 'qmc': 3449, 'arr': 232, 'ara': 211, 'hysteresi': 2004, 'declin': 1016, 'baraﬀ': 339, 'astrophi': 265, 'herwig': 1911, 'fabric': 1534, 'liter': 2478, 'cpu': 938, 'bragg': 482, 'spie': 4113, 'salpet': 3773, 'pott': 3304, 'gibb': 1757, 'metropoli': 2668, 'binder': 425, 'autocorrel': 294, 'mcmc': 2614, 'markovian': 2577, 'ise': 2212, 'eri': 1423, 'threefold': 4460, 'overhead': 3049, 'cartier': 575, 'trip': 4578, 'nest': 2866, 'bogoliubov': 453, 'irrevers': 2210, 'mai': 2547, 'nian': 2887, 'tautolog': 4388, 'dme': 1209, 'pbc': 3119, 'zeeman': 4904, 'suﬃx': 4329, 'grassmannian': 1802, 'hubbard': 1982, 'antiferromagnet': 181, 'frustrat': 1692, 'undirect': 4653, 'chromat': 671, 'triangul': 4572, 'penalti': 3132, 'subgraph': 4231, 'indetermin': 2087, 'bipartit': 428, 'queue': 3484, 'matroid': 2600, 'wherebi': 4834, 'josephson': 2277, 'leggett': 2427, 'ham': 1852, 'worker': 4873, 'jij': 2264, 'decim': 1013, 'replica': 3635, 'southern': 4074, 'com': 766, 'bounc': 476, 'rod': 3730, 'master': 2587, 'equipartit': 1410, 'voter': 4779, 'comb': 768, 'antenna': 178, 'tunabl': 4601, 'compani': 791, 'sublattic': 4234, 'determinant': 1093, 'hop': 1960, 'kpz': 2344, 'blockag': 441, 'grade': 1788, 'graphen': 1800, 'inerti': 2100, 'multimod': 2795, 'noncommut': 2911, 'antiunitari': 183, 'gardin': 1719, 'zoller': 4914, 'pmax': 3255, 'websit': 4817, 'grown': 1829, 'ternari': 4425, 'conﬂict': 892, 'iso': 2216, 'onsag': 2993, 'destin': 1084, 'hat': 1875, 'casimir': 578, 'alg': 101, 'jam': 2251, 'protocol': 3398, 'predic': 3316, 'plaquett': 3233, 'synergist': 4349, 'swap': 4331, 'deng': 1057, 'car': 564, 'adsorpt': 66, 'anchor': 149, 'ism': 2215, 'monom': 2753, 'rmin': 3720, 'ﬂuenc': 4996, 'nano': 2822, 'dna': 1210, 'monolay': 2752, 'multilay': 2794, 'morgan': 2766, 'ar': 210, 'kepler': 2306, 'dlp': 1208, 'catalogu': 584, 'concurr': 824, 'ramiﬁc': 3518, 'declar': 1015, 'post': 3299, 'forum': 1656, 'brain': 484, 'kic': 2317, 'teﬀ': 4432, 'brillouin': 500, 'pfaﬃan': 3175, 'mandel': 2558, 'essling': 1436, 'lewenstein': 2441, 'dalibard': 983, 'cirac': 680, 'radar': 3501, 'footprint': 1638, 'remot': 3624, 'imprint': 2058, 'reﬂector': 3689, 'ultrason': 4631, 'imput': 2063, 'consumpt': 861, 'veget': 4725, 'femtosecond': 1581, 'philosoph': 3184, 'gene': 1732, 'grn': 1821, 'boolean': 464, 'hub': 1981, 'internet': 2167, 'localis': 2491, 'synthes': 4350, 'ﬁbre': 4946, 'atp': 277, 'sistema': 3999, 'γmin': 4931, 'goldman': 1777, 'hij': 1926, 'afm': 74, 'coars': 729, 'bayesian': 355, 'neural': 2873, 'tier': 4476, 'torqu': 4518, 'pitaevskii': 3216, 'video': 4747, 'chi': 654, 'trail': 4541, 'leung': 2436, 'abelian': 5, 'gcd': 1728, 'decor': 1022, 'fuel': 1693, 'erasur': 1417, 'memoryless': 2636, 'punctur': 3428, 'catalan': 582, 'veﬀ': 4741, 'vert': 4738, 'superpos': 4291, 'neq': 2863, 'vehicl': 4726, 'motif': 2777, 'cond': 825, 'subsurfac': 4253, 'fbm': 1566, 'bay': 354, 'kummer': 2349, 'outperform': 3040, 'ˆh': 4922, 'ˆρ': 4926, 'becker': 367, 'δdd': 4932, 'codd': 732, 'mckay': 2613, 'patient': 3113, 'navig': 2837, 'bc': 358, 'custom': 969, 'queri': 3482, 'void': 4769, 'ab': 2, 'char': 638, 'scientif': 3821, 'coeffici': 738, 'shibata': 3927, 'mori': 2767, 'batteri': 352, 'lda': 2407, 'polaron': 3268, 'sij': 3961, 'aerosol': 72, 'sublim': 4236, 'tropic': 4586, 'perceiv': 3143, 'purcel': 3430, 'harvest': 1873, 'difﬁculti': 1132, 'ˆsz': 4925, 'ˆsi': 4924, 'nonconcav': 2913, 'kawaguchi': 2298, 'prioriti': 3350, 'hmf': 1940, 'spitzer': 4122, 'apj': 191, 'tremain': 4567, 'bright': 497, 'indecompos': 2085, 'cayley': 595, 'whilst': 4836, 'ramanujan': 3515, 'cotang': 919, 'camera': 550, 'prism': 3351, 'child': 657, 'cach': 536, 'knot': 2330, 'download': 1234, 'dummi': 1264, 'thread': 4458, 'nnn': 2900, 'git': 1761, 'wade': 4781, 'nijenhui': 2890, 'sheaf': 3919, 'homomorph': 1956, 'quaternion': 3475, 'subcategori': 4228, 'algebroid': 103, 'endomorph': 1367, 'automorph': 298, 'functori': 1700, 'skewsymmetr': 4012, 'frobeniu': 1686, 'ﬁbration': 4945, 'koszul': 2343, 'homolog': 1955, 'hitchin': 1939, 'fano': 1558, 'groupoid': 1827, 'semisimpl': 3874, 'dab': 981, 'kähler': 2355, 'subalgebra': 4226, 'gerb': 1747, 'lefschetz': 2423, 'rham': 3693, 'orbifold': 3013, 'delign': 1047, 'planetari': 3229, 'galilean': 1713, 'calabi': 540, 'umbil': 4634, 'warp': 4793, 'quadric': 3456, 'unipot': 4663, 'zariski': 4902, 'preimag': 3322, 'fibrat': 1596, 'coset': 911, 'gmn': 1773, 'equatori': 1406, 'tupl': 4604, 'valuat': 4708, 'isotopi': 2229, 'polytop': 3278, 'posterior': 3300, 'home': 1951, 'galoi': 1714, 'idv': 2023, 'meek': 2629, 'zbl': 4903, 'energia': 1375, 'schottki': 3808, 'shilov': 3930, 'semist': 3875, 'gauduchon': 1723, 'dougla': 1231, 'lumin': 2525, 'centroaﬃn': 615, 'simplici': 3978, 'kodaira': 2338, 'betti': 405, 'birat': 430, 'hut': 1988, 'grk': 1820, 'vision': 4763, 'templat': 4409, 'germ': 1748, 'horn': 1965, 'edf': 1295, 'sale': 3772, 'mot': 2776, 'cai': 538, 'holman': 1946, 'tide': 4474, 'cohomogen': 746, 'bicategori': 413, 'bibundl': 412, 'cat': 581, 'butterﬂi': 534, 'preﬁx': 3337, 'horospher': 1967, 'dl': 1207, 'diagonaliz': 1115, 'sweepout': 4333, 'fiber': 1594, 'subdivis': 4230, 'instanti': 2136, 'mumford': 2807, 'martinet': 2581, 'cdi': 599, 'dimk': 1145, 'oval': 3045, 'sing': 3986, 'cryptographi': 951, 'como': 786, 'subvarieti': 4258, 'redden': 3578, 'lck': 2406, 'acycl': 48, 'unramiﬁ': 4680, 'achron': 35, 'stratum': 4200, 'negat': 2850, 'mira': 2710, 'slot': 4025, 'prym': 3409, 'grp': 1831, 'cheat': 646, 'cuspid': 967, 'ramiﬁ': 3517, 'hyperellipt': 1996, 'coxet': 937, 'octic': 2973, 'fourfold': 1661, 'pezzo': 3174, 'pic': 3199, 'pervers': 3170, 'noetherian': 2905, 'étale': 4921, 'subschem': 4241, 'grothendieck': 1824, 'trop': 4585, 'sturmfel': 4223, 'skeleton': 4009, 'dream': 1244, 'gln': 1768, 'lexicograph': 2444, 'voisin': 4770, 'tableau': 4359, 'submodular': 4240, 'syzygi': 4356, 'dualiz': 1258, 'substack': 4249, 'idempot': 2017, 'repq': 3637, 'quiver': 3491, 'ascend': 243, 'vir': 4756, 'monoid': 2751, 'coh': 743, 'bs': 513, 'semiregular': 3873, 'freeness': 1677, 'paracanon': 3077, 'berkovich': 392, 'irr': 2204, 'brauer': 486, 'codeword': 735, 'perf': 3148, 'crepant': 944, 'semiorthogon': 3872, 'mmp': 2722, 'sat': 3780, 'jonquièr': 2274, 'cop': 897, 'autr': 300, 'πr': 4936, 'dedekind': 1025, 'snake': 4038, 'relin': 3616, 'redx': 3584, 'trn': 4582, 'τγmin': 4938, 'disj': 1172, 'spn': 4125, 'rγc': 3764, 'svm': 4330, 'iff': 2025, 'vectγ': 4724, 'ﬂop': 4993, 'rmax': 3718, 'multiset': 2801, 'weierstraß': 4822, 'cvn': 972, 'superpotenti': 4293, 'isogeni': 2219, 'sdb': 3832, 'player': 3242, 'alphabet': 116, 'poset': 3295, 'cliqu': 710, 'pir': 3213, 'hilbp': 1928, 'shortcut': 3933, 'fibonacci': 1595, 'dyck': 1272, 'eastward': 1287, 'inw': 2190, 'img': 2042, 'noboru': 2901, 'qmd': 3450, 'vocabulari': 4767, 'certiﬁc': 623, 'flexibl': 1622, 'superalgebra': 4284, 'elev': 1331, 'xyzt': 4886, 'minimil': 2700, 'dictionari': 1123, 'greedi': 1812, 'token': 4502, 'mdi': 2616, 'operad': 3000, 'subtre': 4257, 'repς': 3643, 'spi': 4111, 'eras': 1416, 'reconnect': 3567, 'bd': 359, 'oyt': 3057, 'depthz': 1073, 'bot': 474, 'acon': 38, 'leverag': 2438, 'gge': 1753, 'fflo': 1593, 'ketterl': 2312, 'vin': 4753, 'tangl': 4378, 'pig': 3205, 'gpe': 1786, 'qnm': 3451, 'evanesc': 1455, 'rashba': 3529, 'wavevector': 4808, 'spielman': 4114, 'eﬁmov': 1531, 'trimer': 4577, 'metrolog': 2667, 'detun': 1096, 'wing': 4854, 'armi': 229, 'iωn': 2246, 'pseudogap': 3412, 'keldysh': 2303, 'dick': 1121, 'optomechan': 3010, 'decoher': 1018, 'rabi': 3498, 'broadband': 503, 'ﬁdeliti': 4947, 'dipolar': 1150, 'supersolid': 4297, 'bandgap': 335, 'diffract': 1129, 'microcav': 2679, 'eso': 1432, 'lll': 2484, 'nbe': 2838, 'waveguid': 4803, 'cir': 679, 'polariton': 3267, 'lase': 2384, 'scalabl': 3793, 'etch': 1444, 'linewidth': 2469, 'blockad': 440, 'clad': 691, 'nanowir': 2827, 'speckl': 4095, 'coupler': 930, 'thermometri': 4444, 'artifici': 240, 'psf': 3414, 'eddi': 1294, 'interferomet': 2162, 'splitter': 4124, 'quasicryst': 3472, 'wavepacket': 4807, 'noiseless': 2907, 'fade': 1542, 'bonifacio': 461, 'cdw': 601, 'rydberg': 3763, 'ugc': 4623, 'mri': 2786, 'clanci': 693, 'sb': 3792, 'clump': 721, 'als': 118, 'ultrafast': 4630, 'ˆσz': 4927, 'teleport': 4404, 'horodecki': 1966, 'tongu': 4508, 'elect': 1323, 'offset': 2980, 'dephas': 1066, 'ignit': 2027, 'brighter': 499, 'redshift': 3580, 'ici': 2013, 'ramsey': 3520, 'corot': 905, 'shot': 3938, 'srt': 4135, 'benecchi': 386, 'terrestri': 4426, 'icaru': 2011, 'keck': 2301, 'semimajor': 3871, 'heliocentr': 1897, 'belt': 381, 'protoplanetari': 3400, 'nebula': 2843, 'neptun': 2862, 'centaur': 611, 'myr': 2815, 'hst': 1978, 'hook': 1959, 'astrometr': 261, 'arcsec': 218, 'keplerian': 2307, 'longitud': 2504, 'latitud': 2396, 'disrupt': 1181, 'eclips': 1290, 'occult': 2967, 'planetesim': 3230, 'goldreich': 1778, 'tidal': 4473, 'gyr': 1842, 'ephemeri': 1400, 'kyr': 2354, 'primordi': 3343, 'dwarf': 1268, 'protostar': 3401, 'jewitt': 2261, 'asteroid': 258, 'barucci': 343, 'boehnhardt': 452, 'morbidelli': 2764, 'tegler': 4403, 'doressoundiram': 1225, 'sed': 3850, 'dust': 1266, 'circumstellar': 686, 'interstellar': 2173, 'dullemond': 1263, 'exoplanet': 1490, 'poloid': 3272, 'silic': 3962, 'blackbodi': 435, 'fainter': 1546, 'jovian': 2280, 'mnra': 2723, 'latex': 2393, 'extrasolar': 1525, 'pericent': 3153, 'quiet': 3488, 'menou': 2637, 'habit': 1845, 'exoplanetari': 1491, 'merger': 2647, 'jupit': 2289, 'debri': 1006, 'harp': 1869, 'embryo': 1346, 'pasp': 3105, 'marci': 2570, 'laskar': 2386, 'efroimski': 1303, 'zonal': 4915, 'titan': 4493, 'volatil': 4772, 'borucki': 470, 'comet': 773, 'iau': 2006, 'crater': 939, 'lunar': 2527, 'ρmin': 4937, 'eros': 1425, 'ejecta': 1319, 'outﬂow': 3044, 'euv': 1452, 'chromospher': 672, 'lami': 2369, 'altitud': 123, 'lte': 2521, 'snr': 4042, 'plage': 3222, 'intervent': 2175, 'bako': 328, 'annot': 166, 'seager': 3836, 'queloz': 3478, 'pont': 3282, 'fortney': 1654, 'burrow': 529, 'mospher': 2774, 'chabrier': 626, 'hawley': 1878, 'mhd': 2672, 'midplan': 2686, 'papaloiz': 3072, 'dynamo': 1276, 'lecaveli': 2418, 'lyα': 2532, 'charbonneau': 643, 'sti': 4177, 'etang': 1442, 'throughput': 4463, 'bandpass': 336, 'madhusudhan': 2542, 'bolometr': 456, 'ﬂare': 4984, 'cen': 609, 'irwin': 2211, 'cometari': 774, 'night': 2889, 'regolith': 3598, 'lightcurv': 2456, 'coma': 767, 'perihelion': 3154, 'hainaut': 1848, 'irac': 2202, 'outlier': 3038, 'daysid': 999, 'ira': 2201, 'taxonomi': 4391, 'taxonom': 4390, 'bob': 450, 'vincendon': 4754, 'bibr': 411, 'crism': 945, 'martian': 2579, 'agglomer': 82, 'ula': 4625, 'lulin': 2524, 'polarimetr': 3265, 'fov': 1664, 'sofi': 4048, 'jitter': 2266, 'delsanti': 1051, 'uma': 4633, 'exomoon': 1489, 'kast': 2296, 'limb': 2462, 'radianc': 3504, 'photospher': 3193, 'saumon': 3788, 'sunspot': 4281, 'brighten': 498, 'montmessin': 2759, 'schreier': 3810, 'cowan': 935, 'jwst': 2293, 'superrot': 4295, 'esa': 1430, 'morishima': 2768, 'ωlmpq': 4940, 'asplund': 247, 'grevess': 1816, 'pulsar': 3425, 'thz': 4465, 'βsph': 4930, 'βcrit': 4929, 'αsph': 4928, 'ttv': 4596, 'peer': 3129, 'luu': 2530, 'outburst': 3034, 'erupt': 1428, 'fluoresc': 1627, 'mb': 2611, 'rgb': 3691, 'calvin': 548, 'meridion': 2649, 'showman': 3941, 'kurucz': 2350, 'skill': 4013, 'symbiot': 4338, 'baer': 325, 'balmer': 332, 'romanishin': 3735, 'peixinho': 3131, 'mboss': 2612, 'trojan': 4583, 'hilda': 1929, 'bu': 515, 'beamsplitt': 362, 'duval': 1267, 'multispectr': 2802, 'waterloo': 4797, 'buoyanc': 527, 'alloc': 109, 'aquif': 208, 'birch': 431, 'rossbi': 3742, 'cdo': 600, 'disjunct': 1174, 'pupil': 3429, 'silica': 3963, 'holograph': 1947, 'rv': 3762, 'anteced': 177, 'transmitt': 4554, 'owa': 3052, 'srv': 4136, 'µhz': 4920, 'cyg': 976, 'porb': 3290, 'decent': 1011, 'pleiad': 3245, 'peg': 3130, 'ngc': 2885, 'pars': 3093, 'beamform': 361, 'swipt': 4334, 'wireless': 4858, 'downlink': 1233, 'qo': 3452, 'sdp': 3834, 'broadcast': 504, 'sinr': 3995, 'awgn': 311, 'dbm': 1000, 'mimo': 2695, 'eavesdropp': 1288, 'isit': 2213, 'pareto': 3088, 'cognit': 742, 'uplink': 4685, 'tradeoff': 4538, 'miso': 2714, 'csit': 955, 'codebook': 734, 'multius': 2804, 'precod': 3315, 'ofdm': 2978, 'mmf': 2721, 'runtim': 3758, 'multiplex': 2798, 'outag': 3033, 'semant': 3864, 'militari': 2691, 'adversari': 71, 'mse': 2787, 'rrh': 3754, 'sir': 3998, 'coalit': 728, 'trc': 4563, 'ipu': 2200, 'trafﬁc': 4540, 'wifi': 4844, 'syndrom': 4347, 'gd': 1729, 'wavelet': 4805, 'chunk': 675, 'somp': 4064, 'commit': 780, 'succ': 4260, 'qubit': 3476, 'oracl': 3011, 'deadlin': 1003, 'macrobond': 2538, 'reward': 3682, 'client': 708, 'lccr': 2405, 'constel': 854, 'sperner': 4107, 'blocklength': 442, 'puri': 3432, 'disambigu': 1156, 'segu': 3859, 'uav': 4621, 'aperiod': 189, 'mdp': 2617, 'bna': 448, 'dialogu': 1117, 'privaci': 3352, 'learner': 2414, 'hypergraph': 1997, 'petal': 3171, 'ua': 4620, 'fuzzi': 1706, 'rdf': 3537, 'fol': 1634, 'tweet': 4611, 'score': 3826, 'roa': 3721, 'wilf': 4848, 'revolutionari': 3681, 'gmin': 1772, 'metamateri': 2657, 'metasurfac': 2659, 'inp': 2120, 'rook': 3736, 'microspher': 2682, 'blood': 443, 'nanospher': 2826, 'fdtd': 1569, 'nanoantenna': 2823, 'poynt': 3307, 'nrphc': 2942, 'pcf': 3121, 'sapphir': 3778, 'wgm': 4830, 'fwm': 1708, 'lsp': 2520, 'persuas': 3167, 'astigmat': 259, 'shutter': 3945, 'sail': 3768, 'ins': 2122, 'dfb': 1108, 'donor': 1221, 'acceptor': 22, 'photoacoust': 3188, 'superlumin': 4289, 'ontolog': 2996, 'contextu': 867, 'chsh': 673, 'postselect': 3301, 'conscious': 844, 'consciou': 843, 'drink': 1248, 'enemi': 1372, 'spdc': 4086, 'qfi': 3446, 'forma': 1646, 'claus': 703, 'ctc': 957, 'otc': 3029, 'symptom': 4345, 'cgm': 624, 'maxsat': 2606, 'aaai': 0, 'lexic': 2443, 'owl': 3054, 'wikipedia': 4846, 'linguist': 2470, 'utter': 4699, 'defici': 1034, 'cadet': 537, 'platoon': 3239, 'passeng': 3108, 'teachabl': 4395, 'aac': 1, 'alcohol': 99, 'twitter': 4615, 'improvis': 2060, 'ntcc': 2944, 'ccfomi': 597, 'ntccrt': 2945, 'digraph': 1134, 'mooc': 2760, 'instructor': 2142, 'geoloc': 1740, 'readmiss': 3547, 'bfg': 407, 'hdtm': 1881, 'timestamp': 4486, 'hedg': 1890, 'pomdp': 3280, 'kelp': 2305, 'progenitor': 3371, 'homeless': 1952, 'healer': 1884, 'lmdp': 2485, 'aiml': 90, 'вероятностных': 4941, 'распределения': 4942, 'fcm': 1568, 'briberi': 493, 'wpmaxsat': 4880, 'ferc': 1584, 'ψnk': 4939, 'osp': 3028, 'moyal': 2785, 'quˆantica': 3494, 'hamiltoniano': 1855, 'valor': 4705, 'sedeon': 3851, 'ﬂame': 4983, 'aquitard': 209, 'neuman': 2871, 'drawdown': 1242, 'multisymplect': 2803, 'sode': 4047, 'nlte': 2898, 'agb': 78, 'spicul': 4112, 'wd': 4810, 'helioseismolog': 1898, 'gizon': 1764, 'kosovichev': 2342, 'supergi': 4286, 'psr': 3417, 'woosley': 4870, 'sspp': 4138, 'hillebrandt': 1931, 'sne': 4040, 'deton': 1095, 'deﬂagr': 1107, 'flare': 1620, 'ch': 625, 'kochukhov': 2337, 'oea': 2977, 'pentagram': 3139, 'fclt': 1567, 'girth': 1760, 'gft': 1752, 'robber': 3723, 'friez': 1684, 'csmc': 956}\n"
     ]
    }
   ],
   "source": [
    "print(Tfidf_vect.vocabulary_)"
   ]
  },
  {
   "cell_type": "code",
   "execution_count": 7,
   "metadata": {
    "scrolled": true
   },
   "outputs": [
    {
     "name": "stdout",
     "output_type": "stream",
     "text": [
      "  (0, 4999)\t0.03646304998975176\n",
      "  (0, 4980)\t0.00592904755648553\n",
      "  (0, 4978)\t0.0068230099002327405\n",
      "  (0, 4977)\t0.0035932528894421817\n",
      "  (0, 4976)\t0.01551208475184481\n",
      "  (0, 4975)\t0.007244877897641702\n",
      "  (0, 4972)\t0.0028520550680891515\n",
      "  (0, 4966)\t0.002910533573391333\n",
      "  (0, 4965)\t0.005303194030800465\n",
      "  (0, 4962)\t0.005109482036537906\n",
      "  (0, 4959)\t0.012843522174753647\n",
      "  (0, 4956)\t0.008034066055890188\n",
      "  (0, 4950)\t0.007633883595999377\n",
      "  (0, 4898)\t0.0038635160702162334\n",
      "  (0, 4897)\t0.0025474227914392385\n",
      "  (0, 4889)\t0.019281640694990027\n",
      "  (0, 4879)\t0.026903156163172435\n",
      "  (0, 4877)\t0.004808415136443551\n",
      "  (0, 4872)\t0.007271487036136323\n",
      "  (0, 4862)\t0.04358004221015644\n",
      "  (0, 4840)\t0.0026567940166420897\n",
      "  (0, 4837)\t0.010249436795617966\n",
      "  (0, 4833)\t0.005589598142304095\n",
      "  (0, 4825)\t0.00906497160800462\n",
      "  (0, 4823)\t0.0027168188734440213\n",
      "  :\t:\n",
      "  (1199, 196)\t0.0043770134135965935\n",
      "  (1199, 188)\t0.0059934328718787\n",
      "  (1199, 161)\t0.002197864239308043\n",
      "  (1199, 155)\t0.003979217552667981\n",
      "  (1199, 142)\t0.0058951687099607075\n",
      "  (1199, 135)\t0.007055910287311987\n",
      "  (1199, 134)\t0.0042984910355708195\n",
      "  (1199, 132)\t0.004032782009945472\n",
      "  (1199, 129)\t0.005530137413924685\n",
      "  (1199, 121)\t0.0020014471571910475\n",
      "  (1199, 119)\t0.009144173622351896\n",
      "  (1199, 117)\t0.012481235031777635\n",
      "  (1199, 113)\t0.056903528807122385\n",
      "  (1199, 112)\t0.003049352935345132\n",
      "  (1199, 111)\t0.0019686350450898115\n",
      "  (1199, 104)\t0.0022562130390134045\n",
      "  (1199, 102)\t0.011023425969291236\n",
      "  (1199, 89)\t0.004455542481682482\n",
      "  (1199, 88)\t0.01275457142971822\n",
      "  (1199, 67)\t0.002769121727316113\n",
      "  (1199, 47)\t0.001892774325612787\n",
      "  (1199, 44)\t0.003239779772224157\n",
      "  (1199, 27)\t0.004896451276499395\n",
      "  (1199, 21)\t0.002567916511767703\n",
      "  (1199, 13)\t0.0013369957489438083\n"
     ]
    }
   ],
   "source": [
    "print(Train_X_Tfidf)"
   ]
  },
  {
   "cell_type": "markdown",
   "metadata": {},
   "source": [
    "### Обучим модель и посмотрим на меру accuracy на валидационной выборке"
   ]
  },
  {
   "cell_type": "code",
   "execution_count": 31,
   "metadata": {},
   "outputs": [
    {
     "name": "stdout",
     "output_type": "stream",
     "text": [
      "SVM Accuracy Score ->  87.33333333333333\n"
     ]
    }
   ],
   "source": [
    "# Classifier - Algorithm - SVM\n",
    "# fit the training dataset on the classifier\n",
    "SVM = svm.SVC(C=1.0, kernel='linear', degree=3, gamma='auto')\n",
    "SVM.fit(Train_X_Tfidf,Train_Y)\n",
    "# predict the labels on validation dataset\n",
    "predictions_SVM = SVM.predict(Test_X_Tfidf)\n",
    "# Use accuracy_score function to get the accuracy\n",
    "print(\"SVM Accuracy Score -> \",accuracy_score(predictions_SVM, Test_Y)*100)"
   ]
  },
  {
   "cell_type": "code",
   "execution_count": 32,
   "metadata": {},
   "outputs": [
    {
     "name": "stdout",
     "output_type": "stream",
     "text": [
      "Naive Bayes Accuracy Score ->  83.0\n"
     ]
    }
   ],
   "source": [
    "# fit the training dataset on the NB classifier\n",
    "Naive = naive_bayes.MultinomialNB()\n",
    "Naive.fit(Train_X_Tfidf,Train_Y)\n",
    "# predict the labels on validation dataset\n",
    "predictions_NB = Naive.predict(Test_X_Tfidf)\n",
    "# Use accuracy_score function to get the accuracy\n",
    "print(\"Naive Bayes Accuracy Score -> \",round(accuracy_score(predictions_NB, Test_Y)*100,3))"
   ]
  },
  {
   "cell_type": "code",
   "execution_count": 33,
   "metadata": {},
   "outputs": [
    {
     "name": "stdout",
     "output_type": "stream",
     "text": [
      "RF Accuracy Score ->  78.66666666666666\n"
     ]
    }
   ],
   "source": [
    "\n",
    "# fit the training dataset on the classifier\n",
    "RF = RandomForestClassifier(n_estimators=200, max_depth=3, random_state=0)\n",
    "\n",
    "RF.fit(Train_X_Tfidf,Train_Y)\n",
    "# predict the labels on validation dataset\n",
    "predictions_RF = RF.predict(Test_X_Tfidf)\n",
    "# Use accuracy_score function to get the accuracy\n",
    "print(\"RF Accuracy Score -> \",accuracy_score(predictions_RF, Test_Y)*100)"
   ]
  },
  {
   "cell_type": "code",
   "execution_count": 34,
   "metadata": {},
   "outputs": [
    {
     "name": "stderr",
     "output_type": "stream",
     "text": [
      "/home/dubovitsky/anaconda3/lib/python3.7/site-packages/sklearn/linear_model/logistic.py:433: FutureWarning: Default solver will be changed to 'lbfgs' in 0.22. Specify a solver to silence this warning.\n",
      "  FutureWarning)\n",
      "/home/dubovitsky/anaconda3/lib/python3.7/site-packages/sklearn/linear_model/logistic.py:460: FutureWarning: Default multi_class will be changed to 'auto' in 0.22. Specify the multi_class option to silence this warning.\n",
      "  \"this warning.\", FutureWarning)\n"
     ]
    },
    {
     "name": "stdout",
     "output_type": "stream",
     "text": [
      "LR Accuracy Score ->  89.33333333333333\n"
     ]
    }
   ],
   "source": [
    "LR.fit(Train_X_Tfidf,Train_Y)\n",
    "# predict the labels on validation dataset\n",
    "predictions_LR = LR.predict(Test_X_Tfidf)\n",
    "# Use accuracy_score function to get the accuracy\n",
    "print(\"LR Accuracy Score -> \",accuracy_score(predictions_LR, Test_Y)*100)"
   ]
  },
  {
   "cell_type": "markdown",
   "metadata": {},
   "source": [
    "### Подгружаем test датасет"
   ]
  },
  {
   "cell_type": "code",
   "execution_count": 35,
   "metadata": {},
   "outputs": [
    {
     "data": {
      "text/html": [
       "<div>\n",
       "<style scoped>\n",
       "    .dataframe tbody tr th:only-of-type {\n",
       "        vertical-align: middle;\n",
       "    }\n",
       "\n",
       "    .dataframe tbody tr th {\n",
       "        vertical-align: top;\n",
       "    }\n",
       "\n",
       "    .dataframe thead th {\n",
       "        text-align: right;\n",
       "    }\n",
       "</style>\n",
       "<table border=\"1\" class=\"dataframe\">\n",
       "  <thead>\n",
       "    <tr style=\"text-align: right;\">\n",
       "      <th></th>\n",
       "      <th>№</th>\n",
       "      <th>category</th>\n",
       "      <th>filename</th>\n",
       "      <th>content</th>\n",
       "      <th>category_id</th>\n",
       "    </tr>\n",
       "  </thead>\n",
       "  <tbody>\n",
       "    <tr>\n",
       "      <th>0</th>\n",
       "      <td>0</td>\n",
       "      <td>math.AP</td>\n",
       "      <td>math.AP_37</td>\n",
       "      <td>['global', 'stabil', 'equat', 'kerr', 'space',...</td>\n",
       "      <td>0</td>\n",
       "    </tr>\n",
       "    <tr>\n",
       "      <th>1</th>\n",
       "      <td>1</td>\n",
       "      <td>math.AP</td>\n",
       "      <td>math.AP_34</td>\n",
       "      <td>['system', 'steep', 'potenti', 'well', 'indeﬁn...</td>\n",
       "      <td>0</td>\n",
       "    </tr>\n",
       "    <tr>\n",
       "      <th>2</th>\n",
       "      <td>2</td>\n",
       "      <td>math.AP</td>\n",
       "      <td>math.AP_23</td>\n",
       "      <td>['global', 'lorentz', 'estim', 'natur', 'expon...</td>\n",
       "      <td>0</td>\n",
       "    </tr>\n",
       "    <tr>\n",
       "      <th>3</th>\n",
       "      <td>3</td>\n",
       "      <td>math.AP</td>\n",
       "      <td>math.AP_0</td>\n",
       "      <td>['estim', 'dilat', 'map', 'giovanni', 'alessan...</td>\n",
       "      <td>0</td>\n",
       "    </tr>\n",
       "    <tr>\n",
       "      <th>4</th>\n",
       "      <td>4</td>\n",
       "      <td>math.AP</td>\n",
       "      <td>math.AP_4</td>\n",
       "      <td>['new', 'exist', 'symmetri', 'result', 'least'...</td>\n",
       "      <td>0</td>\n",
       "    </tr>\n",
       "  </tbody>\n",
       "</table>\n",
       "</div>"
      ],
      "text/plain": [
       "   № category    filename                                            content  \\\n",
       "0  0  math.AP  math.AP_37  ['global', 'stabil', 'equat', 'kerr', 'space',...   \n",
       "1  1  math.AP  math.AP_34  ['system', 'steep', 'potenti', 'well', 'indeﬁn...   \n",
       "2  2  math.AP  math.AP_23  ['global', 'lorentz', 'estim', 'natur', 'expon...   \n",
       "3  3  math.AP   math.AP_0  ['estim', 'dilat', 'map', 'giovanni', 'alessan...   \n",
       "4  4  math.AP   math.AP_4  ['new', 'exist', 'symmetri', 'result', 'least'...   \n",
       "\n",
       "   category_id  \n",
       "0            0  \n",
       "1            0  \n",
       "2            0  \n",
       "3            0  \n",
       "4            0  "
      ]
     },
     "execution_count": 35,
     "metadata": {},
     "output_type": "execute_result"
    }
   ],
   "source": [
    "test = pd.read_csv('test.csv')\n",
    "test.rename(columns={'Unnamed: 0':'№'}, inplace=True )\n",
    "test.head()"
   ]
  },
  {
   "cell_type": "code",
   "execution_count": 36,
   "metadata": {},
   "outputs": [],
   "source": [
    "Test_X = test.content\n",
    "Test_Y = test.category_id"
   ]
  },
  {
   "cell_type": "code",
   "execution_count": 37,
   "metadata": {},
   "outputs": [],
   "source": [
    "Encoder = LabelEncoder()\n",
    "Test_Y = Encoder.fit_transform(Test_Y)\n",
    "Tfidf_vect = TfidfVectorizer(max_features=5000)\n",
    "Tfidf_vect.fit(df['content'])\n",
    "Test_X_Tfidf = Tfidf_vect.transform(Test_X)"
   ]
  },
  {
   "cell_type": "code",
   "execution_count": 38,
   "metadata": {},
   "outputs": [
    {
     "name": "stdout",
     "output_type": "stream",
     "text": [
      "SVM Accuracy Score ->  86.93333333333332\n"
     ]
    }
   ],
   "source": [
    "predictions_SVM = SVM.predict(Test_X_Tfidf)\n",
    "# Use accuracy_score function to get the accuracy\n",
    "print(\"SVM Accuracy Score -> \",accuracy_score(predictions_SVM, Test_Y)*100)"
   ]
  },
  {
   "cell_type": "code",
   "execution_count": 39,
   "metadata": {},
   "outputs": [
    {
     "name": "stdout",
     "output_type": "stream",
     "text": [
      "NB Accuracy Score ->  84.13333333333334\n"
     ]
    }
   ],
   "source": [
    "predictions_NB = Naive.predict(Test_X_Tfidf)\n",
    "# Use accuracy_score function to get the accuracy\n",
    "print(\"NB Accuracy Score -> \",accuracy_score(predictions_NB, Test_Y)*100)"
   ]
  },
  {
   "cell_type": "code",
   "execution_count": 40,
   "metadata": {},
   "outputs": [
    {
     "name": "stdout",
     "output_type": "stream",
     "text": [
      "RF Accuracy Score ->  79.60000000000001\n"
     ]
    }
   ],
   "source": [
    "predictions_RF = RF.predict(Test_X_Tfidf)\n",
    "# Use accuracy_score function to get the accuracy\n",
    "print(\"RF Accuracy Score -> \",accuracy_score(predictions_RF, Test_Y)*100)"
   ]
  },
  {
   "cell_type": "code",
   "execution_count": 42,
   "metadata": {},
   "outputs": [
    {
     "name": "stdout",
     "output_type": "stream",
     "text": [
      "LR Accuracy Score ->  86.66666666666667\n"
     ]
    }
   ],
   "source": [
    "predictions_LR = LR.predict(Test_X_Tfidf)\n",
    "# Use accuracy_score function to get the accuracy\n",
    "print(\"LR Accuracy Score -> \",accuracy_score(predictions_LR, Test_Y)*100)"
   ]
  },
  {
   "cell_type": "code",
   "execution_count": 44,
   "metadata": {},
   "outputs": [],
   "source": [
    "columns_names = ['model_name','accuracy_score']\n",
    "results = pd.DataFrame(columns = columns_names)\n",
    "results.loc[0] = ['SVM', round(accuracy_score(predictions_SVM, Test_Y)*100,2)]\n",
    "results.loc[1] = ['Random Forest', round(accuracy_score(predictions_RF, Test_Y)*100,2)]\n",
    "results.loc[2] = ['Naive Bayes', round(accuracy_score(predictions_NB, Test_Y)*100,2)]\n",
    "results.loc[3] = ['Logistic Regression', round(accuracy_score(predictions_LR, Test_Y)*100,2)]\n",
    "results.to_csv(r'results.csv')"
   ]
  }
 ],
 "metadata": {
  "kernelspec": {
   "display_name": "Python 3",
   "language": "python",
   "name": "python3"
  },
  "language_info": {
   "codemirror_mode": {
    "name": "ipython",
    "version": 3
   },
   "file_extension": ".py",
   "mimetype": "text/x-python",
   "name": "python",
   "nbconvert_exporter": "python",
   "pygments_lexer": "ipython3",
   "version": "3.7.3"
  }
 },
 "nbformat": 4,
 "nbformat_minor": 2
}
