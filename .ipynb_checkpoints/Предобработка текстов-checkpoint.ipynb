{
 "cells": [
  {
   "cell_type": "markdown",
   "metadata": {},
   "source": [
    "#  Предобработка текстов"
   ]
  },
  {
   "cell_type": "markdown",
   "metadata": {},
   "source": [
    "## Подключаем часть необходимых модулей для предобработки документов"
   ]
  },
  {
   "cell_type": "code",
   "execution_count": 1,
   "metadata": {},
   "outputs": [
    {
     "name": "stderr",
     "output_type": "stream",
     "text": [
      "[nltk_data] Downloading package stopwords to\n",
      "[nltk_data]     /home/dubovitsky/nltk_data...\n",
      "[nltk_data]   Package stopwords is already up-to-date!\n"
     ]
    }
   ],
   "source": [
    "import pandas as pd #для предобработка\n",
    "import numpy as np#линал\n",
    "import os#взаймодействие с файлами\n",
    "import requests #для скачивания\n",
    "\n",
    "\n",
    "#работа с pdf файлами\n",
    "import pdfminer\n",
    "import PyPDF2\n",
    "import io\n",
    "from pdfminer.converter import TextConverter\n",
    "from pdfminer.pdfinterp import PDFPageInterpreter\n",
    "from pdfminer.pdfinterp import PDFResourceManager\n",
    "from pdfminer.pdfpage import PDFPage\n",
    "from pdfminer.layout import LAParams\n",
    "\n",
    "#корпус стоп слов\n",
    "from nltk.corpus import stopwords\n",
    "# You will have to download the set of stop words the first time\n",
    "import nltk\n",
    "nltk.download('stopwords')\n",
    "stop_words = stopwords.words('english')\n",
    "\n",
    "import re #для написания регулярных выражений"
   ]
  },
  {
   "cell_type": "markdown",
   "metadata": {},
   "source": [
    "### В папке '/arxiv.org/ находятся excel таблицы с ссылками на статьи. Скачаем 100 статей по каждой теме."
   ]
  },
  {
   "cell_type": "code",
   "execution_count": 89,
   "metadata": {},
   "outputs": [
    {
     "name": "stdout",
     "output_type": "stream",
     "text": [
      "cond-mat.quant-gas.xlsx\n"
     ]
    }
   ],
   "source": [
    "num_texts = 100 #количество файлов для скачивания для train \n",
    "t = ['cond-mat.quant-gas.xlsx']\n",
    "for filename in t:#os.listdir(os.getcwd() + '/arxiv.org'):\n",
    "    print(filename)\n",
    "    df = pd.read_excel(os.getcwd() + '/arxiv.org/'+filename ,encoding = \"ISO-8859-1\")\n",
    "    folder = filename.replace('.xlsx', '')\n",
    "    if not os.path.isdir(folder):\n",
    "        os.makedirs(folder)\n",
    "    for i in range(len(df.url)):\n",
    "        if(i==num_texts):\n",
    "            break\n",
    "        url=df.url[i].replace('abs', 'pdf')\n",
    "        r = requests.get(url, stream=True)\n",
    "        with open('/home/dubovitsky/Диплом/'+ folder + '/' + str(i) + '.pdf', 'wb') as f:\n",
    "            f.write(r.content)"
   ]
  },
  {
   "cell_type": "markdown",
   "metadata": {},
   "source": [
    "### Необходимо проверить целостность скачанных файлов. Для этого проверяем размер файлов."
   ]
  },
  {
   "cell_type": "code",
   "execution_count": 2,
   "metadata": {},
   "outputs": [
    {
     "name": "stdout",
     "output_type": "stream",
     "text": [
      "math.AP.xlsx\n",
      "0\n",
      "nucl-ex.xlsx\n",
      "0\n",
      "cond-mat.stat-mech.xlsx\n",
      "0\n",
      "math.DG.xlsx\n",
      "0\n",
      "math.AG.xlsx\n",
      "0\n",
      "cond-mat.quant-gas.xlsx\n",
      "0\n",
      "astro-ph.EP.xlsx\n",
      "0\n",
      "cs.IT.xlsx\n",
      "0\n",
      "physics.optics.xlsx\n",
      "0\n",
      "quant-ph.xlsx\n",
      "0\n",
      "cs.AI.xlsx\n",
      "0\n",
      "math-ph.xlsx\n",
      "0\n",
      "astro-ph.SR.xlsx\n",
      "0\n",
      "math.CO.xlsx\n",
      "0\n",
      "nucl-th.xlsx\n",
      "0\n"
     ]
    }
   ],
   "source": [
    "for filename in os.listdir(os.getcwd() + '/arxiv.org'):\n",
    "    print(filename)\n",
    "    df = pd.read_excel(os.getcwd() + '/arxiv.org/' + filename ,encoding = \"ISO-8859-1\")\n",
    "    folder = filename.replace('.xlsx', '')\n",
    "    c = 0\n",
    "    for i in range(0,100):\n",
    "        statinfo = os.stat('/home/dubovitsky/Диплом/' + folder)\n",
    "        if statinfo.st_size < 2000:\n",
    "            c +=1\n",
    "    print(c)"
   ]
  },
  {
   "cell_type": "markdown",
   "metadata": {},
   "source": [
    "### Определеям функции, которые будут необходимы в извлечении текста из pdf файлов."
   ]
  },
  {
   "cell_type": "code",
   "execution_count": 2,
   "metadata": {},
   "outputs": [],
   "source": [
    "laparams = LAParams()\n",
    "\n",
    "def extract_text_from_pdf(pdf_path):\n",
    "    resource_manager = PDFResourceManager()\n",
    "    fake_file_handle = io.StringIO()\n",
    "    converter = TextConverter(resource_manager, fake_file_handle, laparams=laparams)\n",
    "    page_interpreter = PDFPageInterpreter(resource_manager, converter)\n",
    "    with open(pdf_path, 'rb') as fh:\n",
    "        for page in PDFPage.get_pages(fh, \n",
    "                                      caching=True,\n",
    "                                      check_extractable=True):\n",
    "            page_interpreter.process_page(page)\n",
    "        text = fake_file_handle.getvalue()\n",
    "    # close open handles\n",
    "    converter.close()\n",
    "    fake_file_handle.close()\n",
    "    if text:\n",
    "        return text\n",
    "import nltk\n",
    "import string\n",
    "from nltk.corpus import stopwords\n",
    "#nltk.download('punkt')\n",
    "\n",
    "def tokenize_me(file_text):\n",
    "    #firstly let's apply nltk tokenization\n",
    "    tokens = nltk.word_tokenize(file_text)\n",
    " \n",
    "    #let's delete punctuation symbols\n",
    "    tokens = [i for i in tokens if ( i not in string.punctuation )]\n",
    " \n",
    "    #deleting stop_words\n",
    "    stop_words = stopwords.words('russian')\n",
    "    stop_words.extend(['что', 'это', 'так', 'вот', 'быть', 'как', 'в', '—', 'к', 'на'])\n",
    "    tokens = [i for i in tokens if ( i not in stop_words )]\n",
    " \n",
    "    #cleaning words\n",
    "    tokens = [i.replace(\"«\", \"\").replace(\"»\", \"\") for i in tokens]\n",
    " \n",
    "    return tokens"
   ]
  },
  {
   "cell_type": "markdown",
   "metadata": {},
   "source": [
    "### Извлекаем из pdf файлов текст и выбрасываем стоп слова. "
   ]
  },
  {
   "cell_type": "code",
   "execution_count": 29,
   "metadata": {
    "scrolled": true
   },
   "outputs": [
    {
     "name": "stdout",
     "output_type": "stream",
     "text": [
      "nucl-th.xlsx\n",
      "98\n",
      "99\n"
     ]
    }
   ],
   "source": [
    "for filename in os.listdir(os.getcwd() + '/arxiv.org'):\n",
    "    print(filename)\n",
    "    df = pd.read_excel(os.getcwd() + '/arxiv.org/' + filename ,encoding = \"ISO-8859-1\")\n",
    "    folder = filename.replace('.xlsx', '')\n",
    "    for i in range(98,100):\n",
    "        print(i)\n",
    "        k = extract_text_from_pdf(folder + '/' + str(i) + '.pdf')\n",
    "        #.replace('\\xa0', ' ')\n",
    "        tokens = tokenize_me(k.lower())\n",
    "        #k = k.replace('-\\xad', ' ')\n",
    "        #k = k.replace('\\t\\r',' ')\n",
    "        #k = k.replace('\\x0c',' ')\n",
    "        #k = k.replace('\\n','')\n",
    "        #k = k.lower()\n",
    "        #k = re.sub(r'[^a-z]', ' ', e)\n",
    "        #text_split = k.split(' ')\n",
    "        k = []\n",
    "        for t in tokens:\n",
    "            if len(t)>2:         # не учитываем слова длинной <=2\n",
    "                k.append(t)\n",
    "        tokenized_words = [word for word in k if word not in stop_words]\n",
    "        #print(k)\n",
    "        if not os.path.isdir(folder + '/txt'):\n",
    "            os.makedirs(folder + '/txt')\n",
    "        with open('/home/dubovitsky/Диплом/'+ folder + '/txt' + '/' + str(i) + '.txt', 'w') as f:\n",
    "            for item in tokenized_words:\n",
    "                f.write(\"%s\\n\" % item)"
   ]
  },
  {
   "cell_type": "markdown",
   "metadata": {},
   "source": [
    "### Теперь у нас есть для каждого pdf файла есть файл формата txt, который содержит весь текст этого pdf, за исключением стоп слов. Но даже после удаления стоп слов некоторые файлы содержат больше 10000 слов."
   ]
  },
  {
   "cell_type": "code",
   "execution_count": 6,
   "metadata": {},
   "outputs": [],
   "source": [
    "def count_lines(filename, chunk_size=1<<13):\n",
    "    with open(filename) as file:\n",
    "        return sum(chunk.count('\\n')\n",
    "                   for chunk in iter(lambda: file.read(chunk_size), ''))"
   ]
  },
  {
   "cell_type": "code",
   "execution_count": 12,
   "metadata": {},
   "outputs": [
    {
     "name": "stdout",
     "output_type": "stream",
     "text": [
      "номер статьи: 18 количество слов: 10426\n",
      "номер статьи: 26 количество слов: 14025\n",
      "номер статьи: 37 количество слов: 10081\n",
      "номер статьи: 55 количество слов: 11759\n"
     ]
    }
   ],
   "source": [
    "for i in range(0,100):\n",
    "    t = count_lines(\"cs.AI/txt/\" + str(i) + \".txt\")    \n",
    "    if(t>10000):\n",
    "        print(\"номер статьи: \" + str(i) + \" количество слов: \" + str(t))\n",
    "    "
   ]
  },
  {
   "cell_type": "markdown",
   "metadata": {
    "scrolled": true
   },
   "source": [
    "### На это есть несколько причин: \n",
    "1) В первичной обработке не были применены стэминг и лемматизация. Теперь необходимо обработать каждый txt файл. После этого следующие пять слов перестанут быть разными: "
   ]
  },
  {
   "cell_type": "code",
   "execution_count": 14,
   "metadata": {
    "scrolled": true
   },
   "outputs": [
    {
     "data": {
      "image/png": "[encoded data removed]",
      "text/plain": [
       "<IPython.core.display.Image object>"
      ]
     },
     "execution_count": 14,
     "metadata": {},
     "output_type": "execute_result"
    }
   ],
   "source": [
    "from IPython.display import Image\n",
    "Image(\"same_but_different.png\")"
   ]
  },
  {
   "cell_type": "markdown",
   "metadata": {},
   "source": [
    "2) также в файлах присутствует шум в виде переноса текста из pdf в txt. А именно: перенеслись "
   ]
  },
  {
   "cell_type": "code",
   "execution_count": 18,
   "metadata": {},
   "outputs": [
    {
     "data": {
      "text/plain": [
       "['i',\n",
       " 'me',\n",
       " 'my',\n",
       " 'myself',\n",
       " 'we',\n",
       " 'our',\n",
       " 'ours',\n",
       " 'ourselves',\n",
       " 'you',\n",
       " \"you're\",\n",
       " \"you've\",\n",
       " \"you'll\",\n",
       " \"you'd\",\n",
       " 'your',\n",
       " 'yours',\n",
       " 'yourself',\n",
       " 'yourselves',\n",
       " 'he',\n",
       " 'him',\n",
       " 'his',\n",
       " 'himself',\n",
       " 'she',\n",
       " \"she's\",\n",
       " 'her',\n",
       " 'hers',\n",
       " 'herself',\n",
       " 'it',\n",
       " \"it's\",\n",
       " 'its',\n",
       " 'itself',\n",
       " 'they',\n",
       " 'them',\n",
       " 'their',\n",
       " 'theirs',\n",
       " 'themselves',\n",
       " 'what',\n",
       " 'which',\n",
       " 'who',\n",
       " 'whom',\n",
       " 'this',\n",
       " 'that',\n",
       " \"that'll\",\n",
       " 'these',\n",
       " 'those',\n",
       " 'am',\n",
       " 'is',\n",
       " 'are',\n",
       " 'was',\n",
       " 'were',\n",
       " 'be',\n",
       " 'been',\n",
       " 'being',\n",
       " 'have',\n",
       " 'has',\n",
       " 'had',\n",
       " 'having',\n",
       " 'do',\n",
       " 'does',\n",
       " 'did',\n",
       " 'doing',\n",
       " 'a',\n",
       " 'an',\n",
       " 'the',\n",
       " 'and',\n",
       " 'but',\n",
       " 'if',\n",
       " 'or',\n",
       " 'because',\n",
       " 'as',\n",
       " 'until',\n",
       " 'while',\n",
       " 'of',\n",
       " 'at',\n",
       " 'by',\n",
       " 'for',\n",
       " 'with',\n",
       " 'about',\n",
       " 'against',\n",
       " 'between',\n",
       " 'into',\n",
       " 'through',\n",
       " 'during',\n",
       " 'before',\n",
       " 'after',\n",
       " 'above',\n",
       " 'below',\n",
       " 'to',\n",
       " 'from',\n",
       " 'up',\n",
       " 'down',\n",
       " 'in',\n",
       " 'out',\n",
       " 'on',\n",
       " 'off',\n",
       " 'over',\n",
       " 'under',\n",
       " 'again',\n",
       " 'further',\n",
       " 'then',\n",
       " 'once',\n",
       " 'here',\n",
       " 'there',\n",
       " 'when',\n",
       " 'where',\n",
       " 'why',\n",
       " 'how',\n",
       " 'all',\n",
       " 'any',\n",
       " 'both',\n",
       " 'each',\n",
       " 'few',\n",
       " 'more',\n",
       " 'most',\n",
       " 'other',\n",
       " 'some',\n",
       " 'such',\n",
       " 'no',\n",
       " 'nor',\n",
       " 'not',\n",
       " 'only',\n",
       " 'own',\n",
       " 'same',\n",
       " 'so',\n",
       " 'than',\n",
       " 'too',\n",
       " 'very',\n",
       " 's',\n",
       " 't',\n",
       " 'can',\n",
       " 'will',\n",
       " 'just',\n",
       " 'don',\n",
       " \"don't\",\n",
       " 'should',\n",
       " \"should've\",\n",
       " 'now',\n",
       " 'd',\n",
       " 'll',\n",
       " 'm',\n",
       " 'o',\n",
       " 're',\n",
       " 've',\n",
       " 'y',\n",
       " 'ain',\n",
       " 'aren',\n",
       " \"aren't\",\n",
       " 'couldn',\n",
       " \"couldn't\",\n",
       " 'didn',\n",
       " \"didn't\",\n",
       " 'doesn',\n",
       " \"doesn't\",\n",
       " 'hadn',\n",
       " \"hadn't\",\n",
       " 'hasn',\n",
       " \"hasn't\",\n",
       " 'haven',\n",
       " \"haven't\",\n",
       " 'isn',\n",
       " \"isn't\",\n",
       " 'ma',\n",
       " 'mightn',\n",
       " \"mightn't\",\n",
       " 'mustn',\n",
       " \"mustn't\",\n",
       " 'needn',\n",
       " \"needn't\",\n",
       " 'shan',\n",
       " \"shan't\",\n",
       " 'shouldn',\n",
       " \"shouldn't\",\n",
       " 'wasn',\n",
       " \"wasn't\",\n",
       " 'weren',\n",
       " \"weren't\",\n",
       " 'won',\n",
       " \"won't\",\n",
       " 'wouldn',\n",
       " \"wouldn't\"]"
      ]
     },
     "execution_count": 18,
     "metadata": {},
     "output_type": "execute_result"
    }
   ],
   "source": [
    "k = []\n",
    "for t in tokens:\n",
    "    if len(t)>2:\n",
    "        k.append(t)\n",
    "tokenized_words = [word for word in k if word not in stop_words]"
   ]
  },
  {
   "cell_type": "code",
   "execution_count": 16,
   "metadata": {},
   "outputs": [
    {
     "name": "stdout",
     "output_type": "stream",
     "text": [
      "['astronomy', 'astrophysicsmanuscript', 'massloss˙va1', 'november', '2018', 'cid:13', 'eso', '2018', 'mass-loss', 'rates', 'for', 'transiting', 'exoplanets', 'ehrenreich1', 'j.-m.', 'd´esert2', 'institut', 'plan´etologie', 'astrophysique', 'grenoble', 'ipag', 'universit´e', 'joseph', 'fourier-grenoble', 'cnrs', 'umr', '5274', '38041', 'grenoble', 'cedex', 'france', 'e-mail', 'david.ehrenreich', 'obs.ujf-grenoble.fr', 'for', 'astrophysics', 'garden', 'street', 'cambridge', 'massachusetts', '02138', 'usa', 'e-mail', 'harvard-smithsonian', 'center', 'jdesert', 'cfa.harvard.edu', 'abstract', 'exoplanets', 'small', 'orbital', 'distances', 'from', 'their', 'host', 'stars', 'are', 'submitted', 'intense', 'levels', 'energetic', 'radiations', 'x-rays', 'and', 'extreme', 'ultraviolet', 'euv', 'depending', 'the', 'masses', 'and', 'densities', 'the', 'planets', 'and', 'the', 'atmospheric', 'heating', 'eﬃciencies', 'the', 'stellar', 'energetic', 'inputs', 'can', 'lead', 'atmospheric', 'mass', 'loss', 'these', 'evaporation', 'processes', 'are', 'observable', 'the', 'ultraviolet', 'during', 'planetary', 'transits', 'the', 'aim', 'the', 'present', 'work', 'quantify', 'the', 'mass-loss', 'rates', 'heating', 'eﬃciencies', 'and', 'lifetimes', 'for', 'the', 'whole', 'sample', 'transiting', 'exoplanets', 'now', 'including', 'hot', 'jupiters', 'hot', 'neptunes', 'and', 'hot', 'super-earths', 'the', 'mass-loss', 'rates', 'and', 'lifetimes', 'are', 'estimated', 'from', 'energy', 'diagram', 'for', 'exoplanets', 'which', 'compares', 'the', 'planet', 'gravitational', 'potential', 'energy', 'the', 'stellar', 'x/euv', 'energy', 'deposited', 'the', 'atmosphere', 'estimate', 'the', 'mass-loss', 'rates', 'all', 'detected', 'transiting', 'planets', 'within', '106', '1013', 's−1', 'for', 'various', 'conservative', 'assumptions', 'high', 'heating', 'eﬃciencies', 'would', 'imply', 'that', 'hot', 'exoplanets', 'such', 'the', 'gas', 'giants', 'wasp-12b', 'and', 'wasp-17b', 'could', 'completely', 'evaporated', 'within', 'gyr', 'further', 'show', 'that', 'the', 'heating', 'eﬃciency', 'can', 'constrained', 'when', 'inferred', 'from', 'observations', 'and', 'the', 'stellar', 'x/euv', 'luminosity', 'known', 'this', 'leads', 'suggest', 'that', '100', 'the', 'atmosphere', 'the', 'hot', 'jupiter', '209458b', 'while', 'could', 'lower', 'for', '189733b', 'simultaneous', 'observations', 'transits', 'the', 'ultraviolet', 'and', 'x-rays', 'are', 'necessary', 'further', 'constrain', 'the', 'exospheric', 'properties', 'exoplanets', 'key', 'words', 'planets', 'and', 'satellites', 'general', 'planets', 'and', 'satellites', 'atmospheres', 'ultraviolet', 'planetary', 'systems', 'ultraviolet', 'stars', 'x-rays', 'stars', 'introduction', 'more', 'than', '500', 'extrasolar', 'planets', 'have', 'been', 'detected', 'far', 'large', 'fraction', 'them', 'lie', 'close', 'distances', 'from', 'their', 'host', 'stars', 'below', '0.1', 'early', 'the', 'fact', 'that', 'most', 'detected', 'planets', 'were', 'close', 'their', 'stars', 'and', 'massive', 'enough', 'most', 'certainly', 'gaseous', 'deeply', 'questionned', 'theoreticians', 'about', 'their', 'origins', 'and', 'their', 'fates', 'hot', 'jupiters', 'can', 'not', 'form', 'their', 'observed', 'locations', 'but', 'have', 'migrate', 'inward', 'lin', '1996', 'meanwhile', 'why', 'did', 'these', 'planets', 'stop', 'migrating', 'such', 'dis-', 'tances', 'still', 'open', 'question', 'contrast', 'one', 'could', 'wonder', 'what', 'happened', 'those', 'giant', 'planets', 'that', 'migrated', 'further', 'particular', 'interest', 'the', 'question', 'the', 'atmospheric', 'stabil-', 'ity', 'extreme', 'levels', 'irradiation', 'how', 'fast', 'can', 'giant', 'planets', 'despoiled', 'their', 'atmospheres', 'couldn', 'lighter', 'neptune-', 'earth-mass', 'planets', 'form', 'migrate', 'well', 'into', 'environ-', 'ments', 'that', 'would', 'questioned', 'their', 'atmospheric', 'stability', 'can', 'such', 'evaporation', 'exoplanets', 'explain', 'the', 'apparent', 'desert', 'planets', 'below', '0.01', 'fact', 'the', 'closest', 'planets', 'should', 'also', 'the', 'easiest', 'detect', 'because', 'the', 'transit', 'frequency', 'and', 'proba-', 'bility', 'increase', 'inversely', 'the', 'semi-major', 'axis', 'observations', 'exoplanet', 'transits', 'hold', 'the', 'keys', 'these', 'questions', 'for', 'the', '100', 'known', 'transiting', 'planets', 'possible', 'measure', 'the', 'planet-to-star', 'radius', 'ratio', 'and', 'for', 'the', 'few', 'planets', 'observed', 'the', 'ultraviolet', 'constrain', 'the', 'size', 'and', 'mass-loss', 'rate', 'their', 'evaporating', 'upper', 'atmospheres', 'transit', 'observations', 'hot', 'jupiters', 'the', 'stellar', 'lyman-α', 'emission', 'neutral', 'hydrogen', 'lyα', '215.67', 'yield', 'typical', 'estimations', 'the', 'mass-', 'loss', 'rates', '1010', '1011', 's−1', 'for', 'the', 'planets', '209458b', 'vidal-madjar', '2003', '2004', '2008', 'ehrenreich', '2008', 'send', 'oﬀprint', 'requests', 'ehrenreich', 'linsky', '2010', '189733b', 'lecavelier', 'des', 'etangs', '2010', 'and', 'wasp-12b', 'fossati', '2010', 'such', 'values', 'are', 'pre-', 'dicted', 'numerous', 'theoretical', 'works', 'and', 'imply', 'that', 'the', 'evo-', 'lution', 'known', 'hot', 'jupiters', 'not', 'signiﬁcantly', 'impacted', 'atmospheric', 'evaporation', 'lammer', '2003', 'lecavelier', 'des', 'etangs', '2004', 'baraﬀe', '2004', '2005', '2006', 'yelle', '2004', '2006', 'jaritz', '2005', 'tian', '2005', 'garc´ıa-mu˜noz', '2007', 'holmstr¨om', '2008', 'stone', 'proga', '2009', 'murray-clay', '2009', 'lecavelier', 'des', 'etangs', '2007', 'compares', 'the', 'stellar', 'energy', 're-', 'ceived', 'the', 'upper', 'atmospheres', 'the', 'gravitational', 'energies', 'the', 'planets', 'so-called', 'energy', 'diagram', 'this', 'diagram', 'allows', 'estimations', 'the', 'mass-loss', 'rates', 'and', 'lifetimes', 'for', 'the', 'population', 'close-in', 'planets', 'this', 'author', 'uses', 'the', 'sample', 'exoplanets', 'known', 'june', '2006', 'including', 'ten', 'transiting', 'plan-', 'ets', 'recently', 'davis', 'wheatley', '2009', 'have', 'provided', 'up-', 'dated', 'energy', 'diagram', 'containing', 'transiting', 'hot', 'jupiters', 'while', 'lammer', '2009', 'have', 'determined', 'the', 'mass', 'loss', 'limit', 'for', 'transiting', 'planets', 'these', 'studies', 'pointed', 'out', 'that', 'there', 'should', 'ex-', 'ist', 'evaporation-forbidden', 'region', 'into', 'which', 'lost', 'population', 'planets', 'have', 'been', 'signiﬁcantly', 'eroded', 'this', 'process', 'pos-', 'sibly', 'leaving', 'evaporation', 'remnants', 'coined', 'chthonian', 'planets', 'lecavelier', 'des', 'etangs', '2004', 'this', 'article', 'aim', 'providing', 'comparative', 'estimations', 'the', 'mass-loss', 'rates', 'and', 'lifetimes', 'the', 'whole', 'sample', 'tran-', 'siting', 'planets', 'currently', 'known', 'october', '2010', '105', 'planets', 'the', 'sample', 'transiting', 'planets', 'steadily', 'increases', 'time', 'the', 'explored', 'ranges', 'mass', 'and', 'density', 'expand', 'new', 'kinds', 'exoplanets', 'hot', 'neptunes', 'and', 'hot', 'super-earths', 'the', 'existence', 'such', 'close-in', 'low-mass', 'and', 'high-density', 'planets', 'test', 'for', 'at-', 'mospheric', 'evaporation', 'theories', 'moreover', 'predictions', 'from', 'the', 'ehrenreich', 'd´esert', 'mass-loss', 'rates', 'for', 'transiting', 'exoplanets', 'energy', 'diagram', 'enable', 'estimate', 'the', 'observable', 'transit', 'signa-', 'ture', 'evaporating', 'planets', 'e.g.', 'ehrenreich', '2011', 'the', 'method', 'derive', 'the', 'energy', 'diagram', 'detailed', 'sect', 'afore-mentioned', 'theoretical', 'studies', 'point', 'out', 'the', 'role', 'and', 'extreme', 'ultraviolet', 'euv', 'stellar', 'radiations', 'the', 'main', 'source', 'exospheric', 'heating', 'leading', 'mass', 'loss', 'recent', 'x/euv', 'surveys', 'were', 'dedicated', 'exoplanet', 'host', 'stars', 'kashyap', '2008', 'sanz-forcada', '2010', 'poppenhaeger', '2010', 'examine', 'the', 'impact', 'the', 'constraints', 'brought', 'these', 'stud-', 'ies', 'the', 'energy', 'diagram', 'sect', 'few', 'cases', 'measure-', 'ments', 'the', 'stellar', 'ﬂux', 'and', 'estimations', 'the', 'mass-loss', 'rate', 'from', 'observations', 'ultraviolet', 'transits', 'make', 'possible', 'con-', 'strain', 'the', 'mechanisms', 'atmospheric', 'evaporation', 'terms', 'heating', 'eﬃciency', 'this', 'discussed', 'sect', 'finally', 'the', 'esti-', 'mation', 'the', 'atmospheric', 'mass-loss', 'rates', 'raises', 'questions', 'about', 'the', 'atmospheric', 'stability', 'and', 'the', 'lifetime', 'evaporating', 'planets', 'which', 'discussed', 'sect', 'updated', 'energy', 'diagram', 'the', 'energy', 'diagram', 'for', 'extrasolar', 'planets', 'measures', 'the', 'gravi-', 'tational', 'potential', 'energy', 'per', 'mass', 'unit', 'planet', 'func-', 'tion', 'the', 'and', 'euv', 'irradiations', 'received', 'the', 'planet', 'next', 'recall', 'the', 'main', 'steps', 'the', 'calculations', 'further', 'detailed', 'lecavelier', 'des', 'etangs', '2007', 'all', 'the', 'properties', 'the', 'plan-', 'ets', 'and', 'host', 'stars', 'used', 'for', 'these', 'calculations', 'are', 'extracted', 'from', 'the', 'extrasolar', 'planets', 'encyclopædia', 'schneider', '2010', 'and', 'are', 'given', 'table', 'the', 'framework', 'that', 'energy-limited', 'escape', 'i.e.', 'at-', 'mospheric', 'mass', 'unit', 'can', 'escape', 'when', 'the', 'gravitational', 'potential', 'ﬁlled', 'the', 'stellar', 'x/euv', 'energetic', 'input', 'dex/euv', 'de′', 'into', 'the', 'planet', 'upper', 'atmosphere', 'de′', 'ηdex/euv', 'the', 'key', 'factor', 'the', 'heating', 'eﬃciency', 'the', 'exoplanet', 'thermosphere', 'that', 'encapsulates', 'most', 'the', 'physics', 'the', 'prob-', 'lem', 'this', 'factor', 'value', 'high', 'when', 'most', 'the', 'incoming', 'stellar', 'energy', 'eﬀectively', 'used', 'escape', 'the', 'atmosphere', 'depends', 'mainly', 'the', 'fraction', 'energetic', 'photons', 'absorbed', 'atmo-', 'spheric', 'atoms', 'how', 'deep', 'the', 'atmosphere', 'the', 'absorption', 'takes', 'place', 'and', 'how', 'thick', 'the', 'absorbing', 'region', 'lecavelier', 'des', 'etangs', '2007', 'consider', 'the', 'extreme', 'case', 'where', 'all', 'the', 'stellar', 'ﬂux', 'used', 'escape', 'the', 'at-', 'mosphere', 'considering', 'without', 'quantifying', 'energetic', 'losses', 'due', 'thermal', 'emission', 'atmospheric', 'hydrogen', 'tian', '2005', 'model', 'the', 'atmospheric', 'escape', 'process', 'the', 'hot', 'jupiter', '209458b', 'using', '0.15.', 'this', 'value', 'was', 'initially', 'chosen', 'watson', 'donahue', 'walker', '1981', 'their', 'pioneering', 'work', 'about', 'earth', 'atmospheric', 'escape', 'similar', 'value', '0.1', 'was', 'also', 'employed', 'valencia', '2010', 'who', 'estimate', 'the', 'atmospheric', 'loss', 'for', 'corot-7b', 'fact', 'the', 'value', 'for', 'the', 'strongly', 'irradiated', 'atmospheres', 'extrasolar', 'planets', 'remains', 'largely', 'unconstrained', 'though', 'see', 'cecchi-pestellini', '2009', 'and', 'sect', 'the', 'following', 'treat', 'free', 'parameter', 'with', 'possible', 'value', 'between', '0.01', 'and', 'until', 'detail', 'sect', 'how', 'could', 'possible', 'obtain', 'observing', 'constraints', 'this', 'parameter', 'present', 'the', 'updated', 'energy', 'diagram', 'fig', 'with', 'transiting', 'planets', 'the', 'vertical', 'axis', 'the', 'energy', 'diagram', 'mea-', 'sures', 'the', 'potential', 'energy', 'required', 'escape', 'the', 'planetary', 'atmo-', 'sphere', 'the', 'potential', 'energy', 'per', 'atmospheric', 'mass', 'unit', 'de′', 'p/dm', 'planet', 'radius', 'and', 'mass', 'includes', 'the', 'contribution', 'tidal', 'forces', 'and', 'calculated', 'according', 'lecavelier', 'des', 'etangs', '2007', 'fig', 'the', 'energy', 'diagram', 'for', 'transiting', 'planets', 'the', 'energy', 'needed', 'escape', 'unit', 'mass', 'the', 'planet', 'atmosphere', 'ver-', 'sus', 'the', 'x/euv', 'ﬂux', 'reaching', 'the', 'top', 'the', 'atmosphere', 'per', 'unit', 'time', 'the', 'dotted', 'lines', 'indicates', 'constant', 'mass', 'loss', 'rates', '1014', '105', 's−1', 'from', 'left', 'right', 'data', 'points', 'are', 'calcu-', 'lated', 'with', 'variations', 'between', 'and', '100', 'are', 'represented', 'with', 'horizontal', 'gray', 'error', 'bars', 'coloured', 'points', 'and', 'labels', 'indicate', 'transiting', 'planets', 'particular', 'interest', 'which', 'are', 'discussed', 'the', 'text', 'the', 'horizontal', 'axis', 'the', 'energy', 'diagram', 'measures', 'the', 'amount', 'stellar', 'energy', 'available', 'top', 'the', 'planetary', 'atmo-', 'sphere', 'cecchi-pestellini', '2009', 'have', 'studied', 'how', 'euv', 'photons', '30–912', 'and', 'x-rays', '1–30', 'can', 'heat', 'the', 'upper', 'and', 'lower', 'atmospheric', 'layers', 'respectively', 'this', 'heating', 'makes', 'the', 'atoms', 'and', 'ions', 'the', 'upper', 'atmosphere', 'escaping', 'the', 'gravita-', 'tional', 'well', 'the', 'planet', 'lecavelier', 'des', 'etangs', '2007', 'estimates', 'the', 'amount', 'x/euv', 'energy', 'received', 'per', 'unit', 'time', 'dex/euv', 'pa−2', 'lx/euv', 'the', 'x/euv', 'luminosity', 'lx/euv', '1–912', 'generally', 'not', 'known', 'for', 'host', 'stars', 'transiting', 'planets', 'but', 'see', 'sect', 'lecavelier', 'des', 'etangs', '2007', 'uses', 'the', 'wood', '1994', 'corre-', 'lation', 'between', 'the', 'stellar', 'rotation', 'velocity', 'vrot', 'and', 'the', 'euv', 'ﬂux', 'feuv', 'measured', 'the', 'bandpass', 'the', 'rosat', 'satellite', '110–', '195', 'proxy', 'estimate', 'the', 'euv', 'ﬂux', 'the', 'transited', 'stars', 'known', '2007', 'feuv', '4.6', 'vrot', '2.0', 's−1', '1.4', 'erg', 'cm−2', 's−1', 'the', 'luminosity', 'and', 'ﬂux', 'are', 'related', 'through', 'leuv', '2feuv', 'caution', 'here', 'that', 'such', 'activity-', 'rotation', 'relation', 'only', 'valid', 'for', 'stars', 'with', 'convective', 'zone', 'therefore', 'consider', 'this', 'estimation', 'doubtful', 'for', 'stars', 'earlier', 'than', '∼f5', 'about', 'transited', 'stars', 'particular', 'the', 'position', 'wasp-33b', 'star', 'fig', 'should', 'regarded', 'with', 'caution', 'the', 'measured', 'vrot', 'sin', 'have', 'been', 'retrieved', 'from', 'the', 'liter-', 'ature', 'for', 'stars', 'table', 'also', 'assumed', 'that', 'the', 'sine', 'the', 'stellar', 'inclination', 'for', 'transiting', 'systems', 'the', 'data', 'points', 'fig', 'are', 'calculated', 'assuming', '0.15.', 'the', 'value', 'this', 'factor', 'dominates', 'the', 'uncertainties', 'such', 'calculations', 'therefore', 'the', 'positions', 'planets', 'the', 'diagram', 'are', 'shown', 'with', 'conservative', 'error', 'bars', 'representing', 'possible', 'values', 'the', 'range', '0.01', 'curves', 'constant', 'mass-loss', 'rates', 'are', 'over-', 'plotted', 'fig', 'all', 'transiting', 'planets', 'the', 'diagram', 'have', 'ehrenreich', 'd´esert', 'mass-loss', 'rates', 'for', 'transiting', 'exoplanets', '0.1', '1.0', 'mjup', '10.0', '15.0', '14.5', '14.0', '13.5', '13.0', '12.5', '12.0', '11.5', 'sweeps-11', 'hd189733', 'ogle-tr-10', 'hd209458b', '436', 'log', 'dex/euv/dt', 'erg', 's-1', 'fig', 'mass-loss', 'rate', '0.15', 'function', 'the', 'planet', 'mass', 'for', 'transiting', 'planets', 'the', 'vertical', 'error', 'bars', 'represent', 'vari-', 'ation', 'from', '0.01', 'lower', 'values', 'higher', 'values', 'planets', 'interest', 'are', 'coloured', 'accordingly', 'fig', 'fig', 'the', 'energy', 'diagram', 'for', 'transiting', 'planets', 'with', 'x-ray', 'emission', 'detections', 'upper', 'limits', 'arrows', 'reported', 'the', 'lit-', 'erature', 'caption', 'the', 'same', 'for', 'fig', 'data', 'points', 'are', 'calcu-', 'lated', 'with', 'planets', 'interest', 'are', 'outlined', 'with', 'diﬀerent', 'colours', 'values', 'between', '106', 's−1', 'and', '1013', 's−1', 'assuming', 'all', 'possible', 'values', 'two', 'outliers', 'wasp-33b', 'and', '80606b', 'appear', 'the', 'di-', 'agram', 'with', 'the', 'highest', 'and', 'lowest', 'mass-loss', 'rates', 'respectively', 'meanwhile', 'the', 'mass-loss', 'rate', 'wasp-33b', 'probably', 'over-', 'estimated', 'for', 'the', 'afore-mentioned', 'reason', 'the', 'mass-loss', 'rate', 'the', 'extremely', 'eccentric', '0.93', 'planet', '80606b', 'likely', 'underestimated', 'least', 'when', 'the', 'planet', 'periastron', 'since', 'the', 'mass', 'loss', 'rates', 'are', 'calculated', 'with', 'the', 'semi-major', 'axis', 'transiting', 'planets', 'instead', 'the', 'periastron', 'distances', 'the', 'iso-mass-loss', 'rates', 'are', 'represented', 'linear', 'curves', 'fig', 'the', 'mass-loss', 'rate', 'also', 'plotted', 'function', 'the', 'planet', 'mass', 'fig', 'both', 'figs', 'and', 'show', 'that', 'maximum', 'mass', 'loss', 'rates', '10.5', 'log', 'are', 'reached', 'with', '0.15', 'for', 'planets', 'with', 'masses', 'between', '0.4', 'and', 'fig', 'there', 'dearth', 'low-mass', 'planets', 'with', 'high', 'which', 'ex-', 'pected', 'low-mass', 'planets', 'are', 'despoiled', 'their', 'atmosphere', 'high', 'the', 'remaining', 'cores', 'chthonian', 'planets', 'would', 'more', 'diﬃcult', 'detect', 'transit', 'assuming', 'diﬀerent', 'value', 'for', 'would', 'simply', 'scale', 'down', 'the', 'resulting', 'mass', 'loss', 'rates', 'one', 'assumes', 'similar', 'value', 'for', 'all', 'planets', 'see', 'sect', 'for', 'discussion', 'about', 'this', 'aspect', 'measurements', 'x/euv', 'ﬂuxes', 'take', 'into', 'account', 'the', 'highest-energy', 'photons', 'able', 'heat', 'the', 'upper', 'atmospheres', 'the', 'transiting', 'planets', 'necessary', 'es-', 'timate', 'the', 'x/euv', 'ﬂuxes', 'planet-hosting', 'stars', 'observational', 'and', 'archival', 'surveys', 'have', 'been', 'started', 'for', 'this', 'purpose', 'kashyap', '2008', 'carried', 'out', 'survey', 'x-ray', 'emission', 'combining', 'archival', 'and', 'targeted', 'data', 'from', 'asca', 'exosat', 'einstein', 'rosat', 'xmm-newton', 'and', 'chandra', 'missions', 'these', 'authors', 'present', 'x-ray', 'ﬂux', 'values', 'upper', 'limits', 'for', '235', 'planet-hosting', 'stars', 'these', 'values', 'cover', 'pass', 'band', '0.1–4.5', 'kev', '3–124', 'there', 'are', 'transiting', 'systems', 'among', 'their', 'sample', 'among', 'which', 'only', 'have', 'detected', 'x-ray', 'emission', '436', '209458', '189733', 'ogle-tr-10', 'and', 'sweeps-11', 'sanz-forcada', '2010', 'study', 'sample', 'planetary', 'systems', 'with', 'xmm-newton', 'and', 'chandra', 'archival', 'data', 'the', 'data', 'sets', 'are', 'the', 'same', 'kashyap', '2008', 'but', 'some', 'estima-', 'tions', 'stellar', 'luminosities', 'are', 'revised', 'according', 'sanz-', 'forcada', '2010', 'these', 'diﬀerences', 'appear', 'some', 'cases', 'noticeably', 'for', '209458', 'where', 'the', 'stellar', 'proper', 'motion', 'not', 'taken', 'into', 'account', 'leading', 'suspicious', 'source', 'identiﬁca-', 'tion', 'concerning', 'transiting', 'systems', 'sanz-forcada', '2010', 'report', 'lower', 'values', 'than', 'kashyap', '2008', 'for', '189733', '0.2', 'dex', 'and', '436', 'dex', 'they', 'give', 'upper', 'limit', 'for', '209458', 'signiﬁcantly', 'lower', '0.7', 'dex', 'than', 'the', 'values', 'reported', 'elsewhere', 'poppenhaeger', '2010', 'present', 'similar', 'work', 'the', 'above-quoted', 'studies', 'they', 'add', 'new', 'xmm-newton', 'data', 'points', 'for', 'stars', 'previously', 'devoided', 'x-ray', 'measurements', 'unfortunately', 'their', 'new', 'data', 'set', 'does', 'not', 'encompass', 'additional', 'transiting', 'systems', 'they', 'report', 'similar', 'x-ray', 'luminosity', 'values', 'for', '189733', 'and', '436', 'although', 'their', 'calculated', 'uncertain-', 'ties', 'are', 'larger', 'than', 'those', 'estimated', 'kashyap', '2008', 'for', 'some', 'active', 'stars', 'the', 'x-ray', 'luminosity', 'may', 'vary', 'outside', 'the', 'range', 'allowed', 'the', 'uncertainties', 'reported', 'these', 'works', 'fact', 'detailed', 'analysis', 'archival', 'xmm-newton', 'observations', 'the', 'active', 'star', '189733', 'two', 'diﬀerent', 'epochs', 'show', 'that', 'these', 'uncertainties', 'probably', 'underestimate', 'the', 'intrinsic', 'source', 'variability', 'pillitteri', '2010', 'pillitteri', '2010', 'indeed', 'ﬁnd', 'that', 'the', 'x-ray', 'ﬂux', 'this', 'star', 'has', 'variated', 'between', '2007', 'and', '2009.', 'the', 'values', 'lx/euv', 'found', 'the', 'literature', 'have', 'been', 'in-', 'jected', 'obtain', 'the', 'energy', 'diagram', 'shown', 'fig', 'among', 'the', 'ﬁve', 'transiting', 'systems', 'with', 'measured', 'x-ray', 'emis-', 'sions', 'kashyap', '2008', '189733b', 'and', '436b', 'stay', 'about', 'the', 'same', 'location', 'fig', 'for', '0.15', 'with', 'be-', 'tween', '1010', 'and', '1011', 's−1', 'for', '189733b', 'and', '109', 's−1', 'for', '436b', 'contrast', 'the', 'mass', 'loss', 'rate', '209458b', 'about', '1.5', 'order-of-magnitude', 'lower', 'than', 'with', 'the', 'previous', 'es-', 'timation', 'noticeably', 'the', 'value', 'for', 'ogle-tr-10b', 'dramati-', 'cally', 'increases', 'orders', 'magnitude', 'finally', 'the', 'case', 'sweeps-11', 'troublesome', 'there', 'reported', 'value', 'for', 'the', 'rotational', 'velocity', 'this', 'star', 'the', 'literature', 'were', 'not', 'able', 'include', 'this', 'object', 'fig', 'the', 'x/euv', 'ﬂux', 'reported', 'kashyap', '2008', 'for', 'this', 'star', 'more', 'than', 'times', 'higher', 'than', 'for', '189733.', 'sweeps-11', '20th-magnitude', 'star', 'be-', 'ehrenreich', 'd´esert', 'mass-loss', 'rates', 'for', 'transiting', 'exoplanets', 'table', 'multiple', 'x-ray', 'detection', 'reports', 'the', 'literature', 'for', 'stars', 'hosting', 'transiting', 'planets', 'star', 'h¨unsch', 'kashyap', 'sanz-forcada', 'log', 'erg', 's−1', '1999', '28.44a', '2008', '189733', '209458', '436', 'notes', 'rosat/pspc', 'xmm-newton/epic', '28.43', '0.01a', '27.02', '0.20b', '27.16', '0.19a', '26.85a', '2010', '28.18b', '26.12b', '25.96b', 'poppenhaeger', '2010', 'pillitteri', '2010', '28.26', '0.12b', '27.72b–28.29b', '27.16', '0.34a', 'longing', 'crowded', 'region', 'the', 'galactic', 'bulge.1', 'the', 'possi-', 'bility', 'that', 'the', 'detected', 'emission', 'does', 'not', 'come', 'from', 'this', 'star', 'therefore', 'not', 'negligible', 'overall', 'there', 'are', 'multiple', 'reports', 'the', 'x-ray', 'emissions', 'only', 'three', 'transiting', 'systems', 'the', 'literature', 'these', 'are', '189733', '209458', 'and', '436.', 'the', 'diﬀerent', 'values', 're-', 'ported', 'for', 'these', 'three', 'systems', 'are', 'summarized', 'table', 'constraints', 'the', 'heating', 'efﬁciency', 'for', 'the', 'majority', 'transiting', 'planets', 'the', 'two', 'largest', 'uncertain-', 'ties', 'the', 'calculation', 'are', 'the', 'heating', 'eﬃciency', 'and', 'the', 'x/euv', 'luminosity', 'cecchi-pestellini', '2009', 'have', 'stud-', 'ied', 'the', 'relative', 'role', 'x/euv', 'radiation', 'the', 'heating', 'the', 'hydrogen-rich', 'atmosphere', '209458b', 'their', 'model', 'the', 'ﬂux', 'stellar', 'x/euv', 'photons', 'incident', 'upon', 'the', 'planetary', 'atmo-', 'sphere', 'solar-like', 'composition', 'photo-ionizes', 'the', 'gas', 'produc-', 'ing', 'ﬂux', 'high', 'energy', 'photo-electrons', 'which', 'deposit', 'their', 'energy', 'into', 'the', 'gas', 'they', 'have', 'calculated', 'heating', 'eﬃciencies', 'function', 'photon', 'energy', 'electron', 'fraction', 'the', 'gas', 'and', 'ver-', 'tical', 'column', 'density', 'the', 'atmosphere', 'the', 'results', 'strongly', 'de-', 'pend', 'the', 'coupled', 'ionization', 'and', 'density', 'structures', 'shown', 'yelle', '2004', 'garc´ıa-mu˜noz', '2007', 'and', 'murray-clay', '2009', 'for', 'fractional', 'electron', 'concentration', 'cecchi-', 'pestellini', '2009', 'found', 'heating', 'eﬃciencies', '0.9', '0.75', 'and', '0.7', 'for', 'column', 'densities', '1019', '1021', 'and', '1022', 'cm−2', 're-', 'spectively', 'and', 'for', 'photon', 'energies', '248', '300', 'and', '000', 'respectively', 'these', 'eﬃciencies', 'de-', 'crease', '0.18', '0.04', 'and', '0.02', 'when', 'the', 'electron', 'fraction', '10−6', 'the', 'work', 'cecchi-pestellini', '2009', 'shows', 'that', 'de-', 'pending', 'the', 'atmospheric', 'properties', 'the', 'heating', 'eﬃciency', 'can', 'take', 'nearly', 'all', 'possible', 'values', 'reversly', 'measuring', 'the', 'heating', 'eﬃciency', 'could', 'provide', 'some', 'constraints', 'these', 'atmospheric', 'properties', 'the', 'few', 'cases', 'where', 'transits', 'have', 'been', 'observed', 'the', 'possible', 'constrain', 'this', 'can', 'done', 'numer-', 'ically', 'using', 'particle', 'simulation', 'with', 'set', 'free', 'parameter', 'reproduce', 'the', 'absorption', 'during', 'transit', 'caused', 'the', 'cloud', 'escaping', 'hydrogen', 'atoms', 'lecavelier', 'des', 'etangs', '2010', 'analytically', 'assuming', 'density', 'proﬁle', 'usually', 'power-', 'law', 'for', 'the', 'hydrodynamically', 'escaping', 'atmosphere', 'linsky', '2010', 'the', 'x/euv', 'luminosity', 'known', 'transits', 'can', 'thus', 'bring', 'constraints', 'fact', 'starting', 'from', 'the', 'heating', 'eﬃciency', 'can', 'expressed', 'the', 'ratio', 'the', 'two', 'pow-', 'ers', 'lx/euv', 'and', 'depending', 'the', 'star', 'and', 'planet', 'properties', 'respectively', 'lx/euv', 'tidal', 'forces', 'are', 'neglected', 'the', 'mass', 'loss', 'power', 'has', 'simple', 'expression', '16π/3', '˙mρpa2', 'this', 'comment', 'could', 'also', 'apply', 'ogle-tr-10', 'where', 'mp/', '4/3πr3', 'the', 'mean', 'density', 'the', 'planet', 'the', 'following', 'all', 'the', 'calculations', 'are', 'performed', 'taking', 'tidal', 'forces', 'into', 'account', 'constrain', 'the', 'value', 'intro-', 'duce', 'fig', 'power', 'diagram', 'for', 'extrasolar', 'planets', 'only', 'two', 'transiting', 'planets', 'have', 'both', 'observational', 'constraints', 'and', 'lx/euv', '209458b', 'and', '189733b', 'for', '209458b', 'have', 'considered', 'the', 'value', '1010', 's−1', 'for', 'the', 'mass-loss', 'rate', 'given', 'vidal-madjar', '2003', 'lower', 'limit', 'this', 'value', 'results', 'from', 'the', 'absorption', 'detected', 'over', '1/3', 'the', 'lyman', 'line', 'lower', 'limit', 'because', 'there', 'way', 'measure', 'the', 'absorption', 'over', 'the', 'central', 'part', 'the', 'line', 'hidden', 'the', 'interstellar', 'medium', 'absorption', 'higher', 'values', '8–40', '1010', 's−1', 'have', 'recently', 'been', 'reported', 'linsky', '2010', 'discussed', 'below', 'these', 'authors', 'have', 'inferred', 'hy-', 'drogen', 'mass-loss', 'rates', 'from', 'absorption', 'the', 'emis-', 'sion', 'line', 'singly', 'ionized', 'carbon', 'during', 'the', 'transit', 'the', 'planet', 'lecavelier', 'des', 'etangs', '2010', 'have', 'estimated', 'the', 'mass-', 'loss', 'rate', '189733b', 'from', 'lyα', 'transit', 'light', 'curve', 'for', 'diﬀerent', 'values', 'the', 'x/euv', 'ﬂux', 'for', 'best-ﬁt', 'value', 'fx/euv', 'times', 'the', 'solar', 'value', 'they', 'report', '1-σ', 'range', '3.2', '×109', '1.4', '1011', 's−1', 'the', 'x-ray', 'luminosities', 'are', 'taken', 'from', 'kashyap', '2008', 'for', '209458', 'and', 'pillitteri', '2010', 'for', '189733.', 'weakly', 'eﬃcient', 'evaporation', 'with', 'seems', 'excluded', 'from', 'the', 'observations', '189733.', 'contrast', 'only', 'values', 'are', 'compatible', 'with', 'the', 'observations', '209458b', 'which', 'physically', 'not', 'plausible', 'fact', 'not', 'clear', 'what', 'pos-', 'sible', 'energy', 'source', 'could', 'signiﬁcantly', 'cumulate', 'with', 'the', 'stellar', 'radiation', 'drive', 'such', 'super-eﬃcient', 'mass', 'loss', 'the', 'situa-', 'tion', 'even', 'more', 'troublesome', 'for', '209458b', 'one', 'considers', 'the', 'upper', 'limit', 'lx/euv', 'given', 'sanz-forcada', '2010', 'the', 'uncertainties', 'the', 'measured', 'values', 'lx/euv', 'and', 'are', 'ﬁrst', 'possible', 'explanation', 'the', 'apparent', 'super-eﬃciency', '209458b', 'mass', 'loss', 'fact', 'large', 'part', 'the', 'euv', 'spectrum', 'roughly', 'from', '200', '912', 'does', 'not', 'contribute', 'the', 'x/euv', 'ﬂux', 'measured', 'with', 'rosat', 'xmm-newton', '209458', 'luminous', 'between', '200', 'and', '912', 'below', '200', 'then', 'the', 'position', 'the', 'planet', 'the', 'power', 'di-', 'agram', 'fig', 'would', 'become', 'compatible', 'with', 'very', 'eﬃcient', '100', 'mass', 'loss', 'however', 'the', 'case', 'the', 'lower', 'lumi-', 'nosity', 'estimation', 'sanz-forcada', '2010', 'the', 'star', 'would', 'have', 'orders', 'magnitude', 'more', 'luminous', 'the', 'euv', 'above', '200', 'than', 'below', 'another', 'possible', 'explanation', 'for', 'the', 'super-eﬃciency', '209458b', 'mass', 'loss', 'may', 'found', 'the', 'way', 'the', 'mass-loss', 'rate', 'was', 'estimated', 'linsky', '2010', 'which', 'strongly', 'de-', 'pends', 'the', 'assumed', 'density', 'proﬁle', 'the', 'exosphere', 'the', 'roche', 'lobe', 'lecavelier', 'des', 'etangs', 'private', 'communication', 'also', 'possible', 'that', 'lx/euv', 'was', 'larger', 'during', 'the', 'observa-', 'tions', 'linsky', '2010', 'than', '2003.', 'increase', 'order', 'magnitude', 'from', 'the', 'value', 'kashyap', '2008', 'sanz-forcada', '2010', 'respectively', 'needed', 'have', 'ehrenreich', 'd´esert', 'mass-loss', 'rates', 'for', 'transiting', 'exoplanets', 'stability', 'evaporating', 'atmospheres', '209458', '189733', 'log', 'lx/euv', 'erg', 's-1', 'fig', 'the', 'power', 'diagram', 'for', 'evaporating', 'extrasolar', 'planets', 'the', 'mass-loss', 'power', 'plotted', 'function', 'the', 'x/euv', 'luminosity', 'constant', 'values', 'are', 'represented', 'the', 'dot-', 'ted', 'lines', 'the', 'hatched', 'regions', 'show', 'the', 'position', '189733b', 'orange', 'and', '209458b', 'crimson', 'for', '209458b', 'the', 'right-pointing', 'arrow', 'show', 'the', 'upper', 'limit', 'the', 'x/euv', 'lumi-', 'nosity', 'reported', 'sanz-forcada', '2010', 'values', 'below', 'within', 'the', 'error', 'bars', 'such', 'large', 'lumi-', 'nosity', 'variation', 'might', 'not', 'expected', 'for', 'solar-type', 'star', 'like', '209458.', 'meanwhile', 'the', 'only', 'way', 'solve', 'this', 'question', 'obtain', 'simultaneous', 'measurements', 'the', 'x-ray', 'ﬂux', 'and', 'the', 'escape', 'rate', 'this', 'should', 'possible', 'with', 'current', 'space', 'instru-', 'mentation', 'assuming', 'the', 'x/euv', 'luminosity', 'from', 'kashyap', '2008', 'and', 'the', 'escape', 'rate', 'between', '1010', 'and', '1011', 's−1', 'pos-', 'sible', 'infer', 'exospheric', 'properties', 'out', 'the', 'power', 'diagram', 'fact', 'while', 'the', 'estimation', 'vidal-madjar', '2003', 'marginally', 'compatible', 'with', 'based', 'the', 'observation', 'absorption', 'the', 'stellar', 'emission', 'the', 'higher', 'estimation', 'linsky', '2010', 'derived', 'from', 'the', 'observation', 'ab-', 'sorption', 'the', 'singly', 'ionized', 'carbon', 'stellar', 'emission', 'for', 'this', 'line', 'these', 'authors', 'measured', '8±1', 'absorption', 'yielding', '2.1', '107', 's−1', 'from', 'this', 'value', 'total', 'hydro-', 'gen', 'mass-loss', 'rate', '1010', 's−1', 'they', 'rely', 'the', 'assump-', 'tions', 'that', 'all', 'the', 'carbon', 'ionized', 'i.e.', 'ii/c', 'and', 'that', 'the', 'carbon', 'abundance', 'solar', 'c/h', '2.7×10−4', 'asplund', '2009', 'the', 'upper', 'atmosphere', '209458b', 'the', 'total', 'hydrogen', 'mass-loss', 'rate', 'then', 'c/h', 'therefore', 'apparent', 'super-eﬃcient', 'evaporation', 'process', 'with', 'shown', 'fig', 'could', 'mean', 'that', 'c/h', 'un-', 'derestimated', 'the', 'c/h', 'ratio', 'would', 'have', 'increased', 'least', 'order', 'magnitude', 'with', 'respect', 'c/h', 'give', 'value', 'compatible', 'with', 'assuming', 'lx/euv', 'values', 'from', 'kashyap', '2008', 'the', 'other', 'hand', 'log', 'lx/euv', '26.12', 'sanz-forcada', '2010', 'then', 'the', 'upper', 'atmosphere', 'should', 'extremely', 'carbon-rich', 'with', 'c/h', 'c/h', '100.', 'underesti-', 'mated', 'c/h', 'could', 'also', 'imply', 'that', 'the', 'carbon', 'ionization', 'fraction', 'unity', 'predicted', 'models', '209458b', 'atmosphere', 'garc´ıa-mu˜noz', '2007', 'nevertheless', 'caution', 'that', 'the', 'measurements', 'and', 'lx/euv', 'for', 'transiting', 'planets', 'may', 'not', 'accurate', 'enough', 'the', 'present', 'time', 'allow', 'ﬁrm', 'conclusions', 'drawn', 'out', 'the', 'power', 'diagram', 'meanwhile', 'this', 'shows', 'how', 'could', 'possible', 'constrain', 'the', 'exospheric', 'composition', 'when', 'precise', 'measure-', 'ments', 'are', 'available', 'the', 'lifetime', 'evaporating', 'gaseous', 'planets', 'can', 'estimated', 'the', 'time', 'needed', 'exhaust', 'the', 'available', 'reservoir', 'gas', 'for', 'given', 'mass-loss', 'rate', 'approximation', 'this', 'life', 'time', 'can', 'obtained', 'integrated', 'version', 'the', 'energy', 'diagram', 'shown', 'fig', 'use', 'the', 'total', 'potential', 'energy', 'planet', 'includ-', 'ing', 'tidal', 'forces', 'deﬁned', 'lecavelier', 'des', 'etangs', '2007', 'the', 'mean', 'energy', 'received', 'hdex/euv/dti', 'calculated', 'in-', 'tegrating', 'over', 'given', 'time', 'interval', 'doing', 'one', 'should', 'account', 'for', 'the', 'evolution', 'lx/euv', 'time', 'fact', 'the', 'high-', 'energy', 'radiation', 'output', 'from', 'star', 'stronger', 'when', 'the', 'star', 'younger', 'and', 'varies', 'with', 'time', 'power-law', 'lx/euv', 'τsat', 't−α', 'e.g.', 'penz', '2008', 'with', 'close', 'stars', 'younger', 'than', 'τsat', 'are', 'the', 'saturation', 'regime', 'where', 'the', 'evolution', 'lx/euv', 'almost', 'ﬂat', 'discussed', 'davis', 'wheatley', '2009', 'the', 'duration', 'τsat', 'the', 'saturation', 'period', 'depends', 'the', 'spectral', 'type', 'see', 'e.g.', 'reiners', 'for', 'dwarfs', 'here', 'consider', 'the', 'equations', 'used', 'sanz-forcada', '2010', 'lx/euv', '6.3', '10−4lbol', 'lx/euv', '1.89', '1028t−1.55', 'τsat', '2.03', '1020l−0.65', 'use', 'this', 'set', 'equations', 'estimate', 'hlx/euvi', 'the', 'mean', 'amount', 'x/euv', 'irradiation', 'received', 'during', 'the', 'life', 'time', 'our', 'sample', 'stars', 'per', 'billion', 'year', 'τsat', 'τsat', 'bol', 'hlx/euvi', 'τsat', 'lx/euv', 'τsat', 'lx/euv', 'after', 'injecting', 'eqs', 'into', 'obtain', 'hlx/euvi', 'h1.28', '1017l0.35', 'bol', '2.33', '1017l0.3575', '3.44', '1028τ−0.55', 'bol', 'where', 'lbol', 'and', 'are', 'the', 'present-day', 'bolometric', 'luminosity', 'erg', 's−1', 'and', 'age', 'the', 'star', 'gyr', 'respectively', 'calculate', 'lbol', 'for', 'our', 'sample', 'stars', 'with', 'stefan-boltzmann', 'law', 'lbol', '4πσt', 'where', 'the', 'eﬀective', 'temperatures', 'and', 'stellar', 'radii', 'are', 'taken', 'from', 'the', 'literature', 'and', 'listed', 'table', 'for', 'and', 'stars', 'assumed', 'typical', 'stellar', 'ages', 'and', 'gyr', 'respectively', 'eﬀr2', 'want', 'know', 'how', 'much', 'the', 'x/euv', 'irradiation', 'underestimated', 'when', 'the', 'time', 'evolution', 'lx/euv', 'ignored', 'for', 'this', 'purpose', 'introduce', 'the', 'factor', 'see', 'also', 'lecavelier', 'des', 'etangs', '2007', 'hlx/euvi', 'lx/euv', 'where', 'lx/euv', 'the', 'denominator', 'calculated', 'using', 'with', 'the', 'values', 'are', 'listed', 'table', 'found', 'mean', 'value', 'apply', 'this', 'correction', 'the', 'values', 'hdex/euv/dti', 'calculated', 'integrating', 'this', 'parameterization', 'neglects', 'the', 'fact', 'that', 'the', 'heating', 'eﬃ-', 'ciency', 'might', 'notably', 'smaller', 'early', 'times', 'when', 'the', 'stellar', 'luminosity', 'higher', 'under', 'high', 'x/euv', 'illumination', 'murray-', 'clay', '2009', 'have', 'indeed', 'suggested', 'that', 'the', 'mass-loss', 'regime', 'should', 'depart', 'from', 'energy-limited', 'escape', 'f0.9', 'x/euv', 'and', 'instead', 'become', 'radiation/recombination', '-limited', 'f0.6', 'x/euv', 'this', 'eﬀect', 'would', 'increase', 'the', 'lifetimes', 'calcu-', 'lated', 'here', 'where', 'assume', 'that', 'the', 'heating', 'eﬃciency', 'remains', 'constant', 'over', 'time', 'ehrenreich', 'd´esert', 'mass-loss', 'rates', 'for', 'transiting', 'exoplanets', 'vations', 'and', 'x-rays', 'feasible', 'with', 'present-time', 'space', 'in-', 'strumentation', 'will', 'bring', 'stronger', 'constraints', 'the', 'atmospheric', 'heating', 'eﬃciencies', 'the', 'mass-loss', 'rates', 'are', 'used', 'determine', 'the', 'lifetimes', 'evaporating', 'planets', 'have', 'found', 'that', 'few', 'planets', 'have', 'life-', 'times', 'below', 'gyr', 'but', 'this', 'requires', 'highly', 'eﬃcient', 'heating', 'with', 'acknowledgements', 'thank', 'the', 'anonymous', 'referee', 'this', 'work', 'are', 'grate-', 'ful', 'alain', 'lecavelier', 'des', 'etangs', 'for', 'numerous', 'discussions', 'and', 'advices', 'about', 'this', 'work', 'also', 'thank', 'alfred', 'vidal-madjar', 'for', 'inspiration', 'd.e', 'supported', 'the', 'centre', 'national', '´etudes', 'spatiales', 'cnes', 'references', 'fig', 'the', 'integrated', 'energy', 'diagram', 'for', 'transiting', 'planets', 'the', 'energy', 'needed', 'escape', 'the', 'whole', 'planet', 'mass', 'versus', 'the', 'x/euv', 'ﬂux', 'received', 'per', 'billion', 'year', 'the', 'dotted', 'lines', 'represent', 'constant', 'lifetimes', 'and', 'gyr', 'from', 'bottom', 'top', 'data', 'points', 'are', 'calculated', 'with', '0.15.', 'variations', 'between', '0.01', 'and', 'are', 'represented', 'horizontal', 'gray', 'error', 'bars', 'these', 'integrated', 'energies', 'are', 'calculated', 'for', 'our', 'sample', 'transiting', 'planets', 'and', 'the', 'result', 'shown', 'fig', 'for', 'diﬀerent', 'values', 'the', 'ratio', 'between', '−e′', 'erg', 'and', 'hdex/euv/dti', 'erg', 'gyr−1', 'equivalent', 'lifetime', 'can', 'seen', 'fig', 'only', 'few', 'planets', 'have', 'lifetimes', 'below', 'gyr', 'meanwhile', 'this', 'ﬁgure', 'also', 'highlights', 'that', 'any', 'ﬁrm', 'conclusions', 'have', 'rely', 'assumed', 'value', 'for', 'instance', 'close', 'for', 'wasp-', '17b', 'wasp-33b', 'wasp-12b', 'then', 'the', 'atmospheres', 'these', 'planets', 'should', 'lost', 'less', 'than', 'gyr', 'noteworthy', 'wasp-', '12b', 'may', 'well', 'ﬁll', 'its', 'roche', 'lobe', 'fully', 'enough', 'that', 'losing', 'mass', 'faster', 'than', 'the', 'process', 'considered', 'here', 'would', 'predict', '2010', 'interesting', 'case', 'that', 'corot-7b', 'this', 'planet', 'were', 'made', 'gas', 'its', 'whole', 'mass', 'would', 'evaporated', 'within', 'gyr', 'for', '0.15.', 'considering', 'that', 'corot-7b', 'probably', 'made', 'rock', 'l´eger', '2009', '2011', 'queloz', '2009', 'this', 'means', 'that', 'the', 'atmosphere', 'this', 'planet', 'could', 'have', 'been', 'completely', 'evapo-', 'rated', 'this', 'would', 'make', 'corot-7b', 'the', 'ﬁrst', 'evaporation', 'remnant', 'detected', 'possible', 'origins', 'corot-7b', 'are', 'discussed', 'jackson', '2010', 'these', 'authors', 'conclude', 'that', 'this', 'planet', 'could', 'have', 'indeed', 'started', 'with', 'gas', 'envelope', 'which', 'total', 'mass', 'should', 'have', 'been', '2/3', 'conclusion', 'have', 'calculated', 'mass-loss', 'rates', 'for', 'transiting', 'exoplanets', 'us-', 'ing', 'energy', 'diagram', 'this', 'approach', 'assumes', 'that', 'mass', 'loss', 'occurs', 'consequence', 'massive', 'stellar', 'irradiation', 'mass-', 'loss', 'rates', 'for', 'the', 'complete', 'sample', 'transiting', 'planets', 'are', 'found', 'between', '106', 'and', '1013', 's−1', 'this', 'large', 'range', 'encompass', 'all', 'possible', 'values', 'the', 'atmospheric', 'heating', 'eﬃciency', 'have', 'shown', 'that', 'measurements', 'the', 'heating', 'eﬃciency', 'can', 'constrained', 'power', 'diagram', 'when', 'the', 'mass-loss', 'rate', 'derived', 'from', 'observations', 'evaporating', 'atmospheres', 'and', 'the', 'x/euv', 'ﬂux', 'are', 'both', 'estimated', 'the', 'present', 'time', 'only', 'possible', 'spot', 'two', 'planets', 'this', 'diagram', 'while', 'the', 'pre-', 'cision', 'heating', 'eﬃciency', 'limited', 'the', 'estimation', 'the', 'mass-loss', 'rate', 'have', 'shown', 'how', 'could', 'possible', 'infer', 'exospheric', 'properties', 'such', 'relative', 'abundances', 'out', 'more', 'precise', 'measurements', 'particular', 'simultaneous', 'transit', 'obser-', 'anderson', 'gillon', 'hellier', '2008', 'mnras', '387', 'anderson', 'hellier', 'gillon', '2010', 'apj', '709', '159', 'asplund', 'grevesse', 'sauval', 'pat', '2009', 'ara', '481', 'bakos', '´a.', 'noyes', 'kov´acs', '2007a', 'apj', '656', '552', 'bakos', '´a.', 'kov´acs', 'torres', '2007b', 'apj', '670', '826', 'bakos', '´a.', 'shporer', 'p´al', '2007c', 'apj', '671', '173', 'bakos', '´a.', 'p´al', 'torres', '2009a', 'apj', '696', '1950', 'bakos', '´a.', 'howard', 'noyes', '2009b', 'apj', '707', '446', 'bakos', '´a.', 'torres', 'p´al', '2010a', 'apj', '710', '1724', 'bakos', '´a.', 'hartman', 'torres', '2010b', 'arxiv:1008.3388', 'barros', 'faedi', 'collier', 'cameron', '2011', '525', 'a54', 'baraﬀe', 'selsis', 'chabrier', '2004', '419', 'l13', 'baraﬀe', 'chabrier', 'barman', '2005', '436', 'l47', 'baraﬀe', 'alibert', 'chabrier', 'benz', '2006', '450', '1221', 'batalha', 'borucki', 'bryson', '2011', 'apj', '729,27', 'barge', 'baglin', 'auvergne', '2008', '482', 'l17', 'bonomo', 'santerne', 'alonson', '2010', '520', 'a65', 'bord´e', 'bouchy', 'deleuil', '2010', '520', 'a66', 'borucki', 'koch', 'brown', '2010', 'apj', '713', 'l126', 'bouchy', 'pont', 'santos', '2004', '421', 'l13', 'bouchy', 'udry', 'mayor', '2005', '444', 'l15', 'bouchy', 'queloz', 'deleuil', '2008', '482', 'l25', 'bouchy', 'hebb', 'skillen', '2010', '519', 'a98', 'brown', 'charbonneau', 'gilliland', 'noyes', 'burrows', '2001', 'apj', '552', '699', 'buchhave', 'bakos', '´a.', 'hartman', '2010', 'apj', '720', '1118', 'burke', 'mccullough', 'valenti', '2007', 'apj', '671', '2115', 'butler', 'vogt', 'marcy', '2004', 'apj', '617', '580', 'cabrera', 'bruntt', 'ollivier', '2010', '522', 'a110', 'cecchi-pestellini', 'ciaravella', 'micela', 'penz', '2009', '496', '863', 'charbonneau', 'berta', 'irwin', '2009', 'nature', '462', '891', 'christian', 'gibson', 'simpson', '2009', 'mnras', '392', '1585', 'christiansen', 'ballard', 'charbonneau', 'd.et', '2010', 'apj', 'accepted', 'arxiv:1011.2229', 'collier', 'cameron', 'bouchy', 'h´ebrard', '2007', 'mnras', '375', '951', 'collier-cameron', 'guenther', 'smalley', '2010', 'mnras', '407', '507', 'davis', 'wheatley', '2009', 'mnras', '396', '1012', 'deeg', 'moutou', 'erikson', '2010', 'nature', '464', '384', 'deleuil', 'deeg', 'alonso', '2008', '491', '889', 'dunham', 'borucki', 'koch', '2010', 'apj', '713', 'l136', 'ehrenreich', 'lecavelier', 'des', 'etangs', 'delfosse', '2011', 'submitted', 'ehrenreich', 'lecavelier', 'des', 'etangs', 'vidal-madjar', '2008', '483', '933', 'enoch', 'collier', 'cameron', 'anderson', '2010', 'mnras', 'doi:10.1111/j.1365-2966.2010.17550.x', 'fossati', 'haswell', 'froning', '2010', 'apj', '714', 'l222', 'fridlund', 'h´ebrard', 'alonso', '2010', '512', 'a14', 'gandolﬁ', 'h´ebrard', 'alonso', '2010', '524', 'a55', 'garc´ıa-mu˜noz', '2007', 'planet', 'space', 'sci.', '1426', 'gillon', 'anderson', 'triaud', '2009', '501', '785', 'gillon', 'hatzes', 'csizmadia', '2010', '520', 'a97', 'hartman', 'bakos', '´a.', 'torres', '2009', 'apj', '706', '785', 'hartman', 'bakos', '´a.', 'sato', '2010a', 'apj', 'accepted', 'arxiv:1007.4850', 'hartman', 'bakos', 'arxiv:1010.1008', '´a.', 'kipping', '2010b', 'apj', 'submitted', 'hebb', 'collier', 'cameron', 'lœillet', '2009', 'apj', '693', '1920', 'hebb', 'collier', 'cameron', 'triaud', '2010', 'apj', '708', '224', 'h´ebrard', 'bouchy', 'pont', '2008', '488', '763', 'hellier', 'anderson', 'collier', 'cameron', '2009a', 'nature', '460', '1098', 'ehrenreich', 'd´esert', 'mass-loss', 'rates', 'for', 'transiting', 'exoplanets', 'hellier', 'anderson', 'gillon', '2009b', 'apj', '690', 'l89', 'hellier', 'anderson', 'collier', 'cameron', '2010', 'apj', '723', 'l60', 'holman', 'fabrycky', 'daniel', '2010', 'science', '330', 'holmstr¨om', 'ekenb¨ack', 'selsis', '2008', 'nature', '451', '970', 'howard', 'bakos', '´a.', 'hartman', '2010', 'apj', 'submitted', 'arxiv:1008.3898', 'wilson', 'gillon', 'hellier', '2008', 'apj', '675', '113', 'winn', 'holman', 'henry', '2007', '133', '1828', 'winn', 'holman', 'henry', '2009', 'apj', '693', '794', 'wood', 'brown', 'linsky', '1994', 'apjs', '287', 'yelle', '2004', 'icarus', '170', '167', 'yelle', '2006', 'icarus', '183', '508', 'jackson', 'miller', 'barnes', '2010', 'mnras', '407', '910', 'jaritz', 'endler', 'langmayr', '2005', '439', '771', 'jenkins', 'borucki', 'koch', '2010', 'apj', '724', '1108', 'johns-krull', 'mccullough', 'burke', '2008', 'apj', '677', '657', 'joshi', 'pollacco', 'collier', 'cameron', '2008', 'mnras', '392', '1532', 'kashyap', 'drake', 'saar', '2008', 'apj', '687', '1339', 'kipping', 'bakos', '´a.', 'hartman', '2010', 'apj', '725', '2017', 'koch', 'borucki', 'rowe', '2010', 'apj', '713', 'l131', 'kov´acs', 'bakos', '´a.', 'hartman', '2010', 'apj', '724', '866', 'lammer', 'selsis', 'ribas', '2003', 'apj', '598', 'l121', 'lammer', 'odert', 'leitzinger', '2009', '506', '399', 'laughlin', 'wolf', 'vanmunster', '2005', 'apj', '621', '1072', 'latham', 'bakos', '´a.', 'torres', '2009', 'apj', '704', '1107', 'latham', 'borucki', 'koch', '2010', 'apj', '713', 'l140', 'lecavelier', 'des', 'etangs', 'vidal-madjar', 'mcconnell', 'h´ebrard', '2004', '418', 'lecavelier', 'des', 'etangs', '2007', '461', '1185', 'lecavelier', 'des', 'etangs', 'ehrenreich', 'vidal-madjar', '2010', '514', 'a72', 'l´eger', 'rouan', 'schneider', '2009', '506', '287', 'l´eger', 'grasset', 'fegley', '2011', 'icarus', 'accepted', 'arxiv:1102.1629', 'miller', 'lin', 'fortney', '2010', 'nature', '463', '1054', 'lin', 'bodenheimer', 'richardson', '1996', 'nature', '380', '606', 'linsky', 'yang', 'france', '2010', 'apj', '717', '1291', 'lister', 'anderson', 'gillon', '2009', 'apj', '703', '752', 'maxted', 'anderson', 'gillon', '2010', '140', '2007', 'mccullough', 'stys', 'valenti', '2006', 'apj', '648', '1228', 'mccullough', 'burke', 'valenti', '2008', 'apj', 'submitted', 'arxiv:0805.2921', 'moutou', 'bruntt', 'guillot', '2008', '488', 'l47', 'moutou', 'h´ebrard', 'bouchy', '2009', '498', 'murray-clay', 'chiang', 'murray', '2009', '693', 'noyes', 'bakos', '´a.', 'torres', '2008', 'apj', '673', 'p´al', 'bakos', '´a.', 'torres', '2008', 'apj', '680', '1450', 'p´al', 'bakos', '´a.', 'fernandez', '2009', 'apj', '700', '783', 'pillitteri', 'wolk', 'cohen', '2010', 'apj', '722', '1216', 'poppenhaeger', 'robrade', 'schmitt', '2010', '515', 'a98', 'pont', 'bouchy', 'queloz', '2004', '426', 'l15', 'queloz', 'eggenberger', 'mayor', '2000', '359', 'l13', 'queloz', 'bouchy', 'moutou', '2009', '506', '303', 'queloz', 'anderson', 'collier', 'cameron', '2010', '517', 'quinn', 'bakos', '´a.', 'hartman', '2010', 'apj', 'submitted', 'arxiv:1008.3565', 'rauer', 'queloz', 'csizmadia', '2009', '506', '281', 'reiners', 'basri', 'browning', '2009', 'apj', '692', '538', 'sato', 'fischer', 'henry', '2005', 'apj', '633', '465', 'saumon', 'chabrier', 'van', 'horn', '1995', 'apjs', '713', 'sanz-forcada', 'ribas', 'micela', '2010', '511', 'schneider', 'extrasolar', 'planets', '2010', 'the', 'encyclopædia', 'http', '//exoplanet.eu', 'schporer', 'bakos', '´a.', 'bouchy', '2009', 'apj', '690', '1393', 'simpson', 'faedi', 'barros', '2011', '141', 'skillen', 'pollacco', 'collier', 'cameron', '2009', '502', '391', 'smalley', 'anderson', 'collier', 'cameron', '2010', 'accepted', 'arxiv:1012.2278', 'snellen', 'koppenhoefer', 'van', 'der', 'burg', '497', '545', 'street', 'simpson', 'barros', '2010', 'apj', '720', '337', 'stone', 'proga', '2009', 'apj', '694', '205', 'sozzetti', 'torres', 'charbonneau', '2009', 'apj', '691', '1145', 'tian', 'toon', 'pavlov', 'sterck', '2005', 'apj', '621', '1049', 'torres', '2007', 'apj', '671', 'l65', 'torres', 'bakos', '´a.', 'kov´acs', '2007', 'apj', '666', 'l121', 'torres', 'bakos', '´a.', 'hartman', '2010', 'apj', '715', '458', 'torres', 'fressin', 'batalha', '2011', 'apj', '727', 'valencia', 'ikoma', 'guillot', 'nettelmann', '2010', '516', 'a20', 'vidal-madjar', 'lecavelier', 'des', 'etangs', 'd´esert', 'j.-m.', '2003', 'nature', '422', '143', 'vidal-madjar', 'd´esert', 'j.-m.', 'lecavelier', 'des', 'etangs', '2004', 'apj', '604', 'l69', 'vidal-madjar', 'lecavelier', 'd´esert', 'j.-m.', '2008', 'apj', '676', 'l57', 'watson', 'donahue', 'walker', '1981', 'icarus', '150', 'west', 'collier', 'cameron', 'hebb', '2009', '502', '395', 'table', 'properties', 'known', 'transiting', 'planets', 'and', 'their', 'host', 'stars', '1.03', '2.75', '2.33', '0.91', '1.30', '3.31', '21.6', '0.72', '0.46', '2.96', '0.01', '0.22', '0.84', '0.01', '0.07', '0.52', '0.08', '0.21', '0.85', '2.23', '1.94', '4.19', '0.53', '0.19', '0.29', '9.09', '7.24', '4.06', '2.14', '2.09', '0.68', '0.56', '0.05', '0.59', '0.68', '1.06', '1.05', '1.80', '1.52', '0.78', '0.35', '3.21', '1.13', '0.68', '3.94', '0.07', '2.11', '0.66', '0.43', '0.60', '0.25', '0.17', 'planet', '1.49', '0.97', '1.43', '1.44', '0.88', '1.46', '1.01', '1.19', '1.38', '1.16', '0.15', '0.57', '1.05', '0.24', '0.43', '1.22', '0.45', '0.95', '1.28', '1.15', '1.07', '1.28', '1.01', '0.99', '1.13', '1.15', '0.86', '1.02', '1.08', '1.36', '1.24', '1.19', '0.56', '0.89', '1.33', '1.26', '1.33', '1.42', '1.50', '1.40', '0.65', '1.02', '1.13', '1.32', '0.92', '0.35', '1.43', '1.32', '1.47', '1.41', '0.84', '0.82', '1.50', '13.2', '2.99', '2.82', '4.03', '1.74', '4.25', '9.20', '4.03', '8.88', '0.85', '6.21', '95.2', '1.58', '2.64', '4.46', '4.88', '3.21', '2.91', '4.62', '10.8', '2.77', '10.3', '5.50', '4.00', '5.63', '2.87', '4.12', '3.21', '1.21', '3.35', '3.65', '4.23', '2.89', '3.05', '2.78', '3.85', '2.20', '3.07', '3.92', '2.87', '21.2', '2.21', '3.52', '111', '3.21', '3.54', '3.23', '4.88', '3.52', '19.2', '38.9', '0.025', '0.105', '0.043', '0.040', '0.051', '0.028', '0.057', '0.090', '0.049', '0.085', '0.017', '0.063', '0.407', '0.014', '0.028', '0.055', '0.053', '0.038', '0.042', '0.060', '0.096', '0.041', '0.088', '0.055', '0.046', '0.068', '0.036', '0.049', '0.041', '0.023', '0.046', '0.046', '0.047', '0.038', '0.044', '0.040', '0.052', '0.037', '0.048', '0.053', '0.043', '0.162', '0.030', '0.047', '0.449', '0.045', '0.050', '0.045', '0.062', '0.048', '0.140', '0.225', 'sp.t', 'g0v', 'k1v', 'f6v', 'g2v', 'g0v', 'g7v', 'f3v', 'f0v', 'f9v', 'f5v', 'k0v', 'k1v', 'g3v', 'm4.5', 'm2.5', 'g0v', 'k1-k2', '0.95', '0.89', '1.27', '1.07', '1.09', '0.97', '1.37', '1.10', '1.00', '1.05', '0.93', '0.88', '0.99', '0.15', '0.45', '1.13', '0.81', '0.73', '1.22', '1.38', '1.01', '1.21', '0.85', '0.77', '0.84', '1.36', '0.75', '0.94', '0.91', '1.13', '1.19', '1.01', '0.81', '0.93', '1.26', '1.16', '1.29', '1.47', '1.28', '1.28', '1.30', '1.24', '0.80', '1.01', '0.90', '1.22', '1.37', '1.20', '1.34', '1.21', '1.00', '1.00', '1.11', '0.79', '1.37', '1.11', '1.01', '0.90', '1.56', '1.15', '1.18', '1.02', '0.87', '0.77', '0.94', '0.21', '0.46', '1.11', '0.75', '0.70', '1.56', '1.46', '1.08', '1.23', '0.83', '0.74', '0.82', '1.64', '0.69', '1.10', '1.04', '1.20', '1.31', '0.95', '0.78', '0.82', '1.60', '1.16', '1.46', '1.84', '1.58', '1.32', '1.49', '1.44', '0.75', '1.14', '0.98', '1.48', '1.79', '1.39', '1.84', '1.48', '1.10', '1.10', 'host', 'star', 'mag', '13.6', '15.2', '12.9', '15.5', '15.0', '12.5', '13.3', '13.7', '14.0', '13.9', '11.7', '14.8', '13.7', '14.6', '10.6', '10.4', '9.59', '12.8', '10.6', '9.98', '12.1', '10.8', '10.5', '12.7', '12.9', '8.71', '11.3', '11.6', '9.73', '12.4', '11.8', '13.1', '11.7', '11.8', '11.2', '12.0', '10.5', '10.5', '10.1', '8.15', '8.17', '7.67', '7.65', '8.93', '12.7', '13.9', '13.9', '13.9', 'vrot', 'sin', 's−1', '5.20', '2.00', '40.0', '1.00', '4.00', '11.5', '17.0', '6.40', '1.00', '7.50', '3.50', '2.00', '3.50', '2.00', '3.00', '2.20', '1.50', '0.50', '1.76', '8.40', '2.00', '3.50', '0.30', '1.50', '2.10', '19.8', '2.10', '3.50', '0.50', '8.10', '10.0', '0.50', '1.80', '0.50', '5.50', '2.60', '8.70', '3.80', '11.5', '11.9', '6.00', '2.60', '2.97', '3.75', '2.20', '2.20', '4.80', '3.00', '4.20', '10.5', '1.90', '1.90', 'teﬀ', '5950', '5075', '6440', '5675', '5945', '5625', '6740', '6190', '6100', '6090', '5275', '5080', '5625', '3026', '3585', '6047', '4780', '4650', '5653', '6600', '5568', '6158', '5246', '4750', '4875', '6290', '4595', '5588', '5302', '5905', '6373', '5500', '5079', '5185', '5860', '5960', '6570', '6350', '6200', '6350', '6147', '6079', '5050', '5942', '5574', '5857', '6297', '5647', '5933', '6213', '5777', '5777', 'ref', 'fx/euv', '1.17±0.52', '0.64', '0.64', '0.64', '0.64', '0.64', '0.64', '0.64', '1.15', '2.06', '6.08±0.18', '0.03±0.01', '1.80', 'name', 'corot-1', 'corot-10', 'corot-11', 'corot-12', 'corot-13', 'corot-2', 'corot-3', 'corot-4', 'corot-5', 'corot-6', 'corot-7', 'corot-8', 'corot-9', '1214', '436', 'hat-p-1', 'hat-p-11', 'hat-p-12', 'hat-p-13', 'hat-p-14', 'hat-p-15', 'hat-p-16', 'hat-p-17', 'hat-p-18', 'hat-p-19', '147506', 'hat-p-20', 'hat-p-21', 'hat-p-22', 'hat-p-23', 'hat-p-24', 'hat-p-25', 'hat-p-26', 'hat-p-3', 'hat-p-4', 'hat-p-5', 'hat-p-6', 'hat-p-7', 'hat-p-8', 'hat-p-9', '149026', '17156', '189733', '209458', '80606', 'kepler-4', 'kepler-5', 'kepler-6', 'kepler-7', 'kepler-8', 'kepler-9', 'kepler-9', 'log', '0.15', 's−1', '11.4', '8.30', '11.5', '9.90', '9.60', '11.1', '9.29', '10.0', '9.95', '9.51', '9.84', '9.19', '8.06', '9.36', '9.20', '10.0', '9.23', '9.62', '10.0', '10.0', '8.67', '9.71', '8.10', '9.97', '10.3', '9.78', '8.71', '9.23', '8.58', '11.3', '11.0', '9.26', '10.0', '8.98', '10.8', '10.1', '10.7', '10.4', '10.9', '11.1', '10.2', '8.07', '10.3', '10.5', '6.85', '9.40', '10.1', '10.4', '10.7', '11.3', '8.89', '8.60', '42.6', '31.7', '41.8', '39.9', '39.7', '33.6', '49.2', '34.6', '34.6', '30.9', '36.1', '31.1', '34.6', '5.82', '15.2', '43.8', '27.8', '25.3', '50.8', '45.6', '37.8', '36.2', '34.7', '27.5', '30.6', '46.1', '24.7', '38.7', '34.2', '44.7', '40.0', '34.0', '31.6', '33.7', '40.8', '44.4', '45.2', '50.9', '43.9', '39.8', '55.8', '53.5', '30.3', '43.6', '35.2', '51.7', '61.7', '40.5', '40.5', 'kepler-9', 'kepler-10', 'lupus-tr-3', 'ogle-tr-10', 'ogle-tr-111', 'ogle-tr-113', 'ogle-tr-132', 'ogle-tr-182', 'ogle-tr-211', 'ogle-tr-56', 'ogle2-tr-l9', 'sweeps-04', 'sweeps-11', 'tres-1', 'tres-2', 'tres-3', 'tres-4', 'wasp-1', 'wasp-10', 'wasp-11', 'wasp-12', 'wasp-13', 'wasp-14', 'wasp-15', 'wasp-16', 'wasp-17', 'wasp-18', 'wasp-19', 'wasp-2', 'wasp-21', 'wasp-22', 'wasp-24', 'wasp-25', 'wasp-26', 'wasp-28', 'wasp-29', 'wasp-3', 'wasp-33', 'wasp-37', 'wasp-38', 'wasp-4', 'wasp-5', 'wasp-6', 'wasp-7', 'wasp-8', 'xo-1', 'xo-2', 'xo-3', 'xo-4', 'xo-5', '0.02', '0.01', '0.81', '0.63', '0.53', '1.32', '1.14', '1.01', '1.03', '1.29', '4.50', '3.80', '9.70', '0.61', '1.20', '1.91', '0.91', '0.89', '3.06', '0.46', '1.41', '0.46', '7.72', '0.54', '0.85', '0.49', '10.4', '1.15', '0.91', '0.30', '0.56', '1.03', '0.58', '1.02', '0.91', '0.24', '1.76', '4.10', '1.69', '2.71', '1.12', '1.63', '0.50', '0.96', '2.23', '0.90', '0.57', '11.7', '1.72', '1.07', '0.14', '0.12', '0.89', '1.26', '1.06', '1.09', '1.18', '1.13', '1.36', '1.30', '1.61', '0.81', '1.13', '1.08', '1.17', '1.32', '1.79', '1.35', '1.08', '1.04', '1.79', '1.21', '1.25', '1.42', '1.00', '1.74', '1.16', '1.31', '1.01', '1.07', '1.12', '1.10', '1.26', '1.32', '1.12', '0.74', '1.39', '1.49', '1.13', '1.07', '1.41', '1.17', '1.22', '0.91', '1.17', '1.18', '0.97', '1.21', '1.34', '1.08', '1.59', '0.83', '3.91', '3.10', '4.01', '1.43', '1.68', '3.97', '3.67', '1.21', '2.48', '4.20', '1.79', '3.03', '2.47', '1.30', '3.55', '2.51', '3.09', '3.72', '1.09', '4.35', '2.24', '3.75', '3.11', '3.73', '0.94', '0.78', '2.15', '4.32', '3.53', '2.34', '3.76', '2.75', '3.40', '3.92', '1.84', '1.21', '3.57', '6.87', '1.33', '1.62', '3.36', '4.95', '8.15', '3.94', '2.61', '3.19', '4.12', '4.18', '0.027', '0.016', '0.046', '0.041', '0.047', '0.022', '0.030', '0.051', '0.051', '0.022', '0.030', '0.055', '0.030', '0.039', '0.035', '0.022', '0.050', '0.038', '0.037', '0.043', '0.022', '0.052', '0.037', '0.049', '0.042', '0.051', '0.020', '0.016', '0.031', '0.052', '0.046', '0.035', '0.047', '0.040', '0.045', '0.045', '0.031', '0.025', '0.043', '0.075', '0.023', '0.027', '0.042', '0.061', '0.079', '0.048', '0.036', '0.045', '0.055', '0.048', 'k1v', 'k0v', 'g0v', 'f7v', 'k3v', 'g1v', 'f5v', 'g3v', 'g8v', 'k1v', 'g3v', 'f8-9', 'f8-g0', 'k4v', 'f7v', 'g7v', 'g4v', 'f5v', 'g1v', 'k0v', 'f5v', 'f5v', 'g8v', '1.00', '0.89', '0.87', '1.18', '0.82', '0.78', '1.26', '1.14', '1.33', '1.17', '1.52', '1.24', '1.10', '0.87', '0.98', '0.92', '1.38', '1.24', '0.71', '0.82', '1.35', '0.00', '1.31', '1.18', '1.02', '1.20', '1.28', '0.95', '0.84', '1.01', '1.10', '1.12', '1.00', '1.12', '1.08', '0.82', '1.24', '1.49', '0.84', '1.21', '0.90', '1.02', '0.00', '1.28', '1.03', '1.00', '0.98', '1.21', '1.32', '0.88', '1.10', '1.05', '0.82', '1.16', '0.85', '0.77', '1.34', '1.14', '1.64', '1.32', '1.53', '1.18', '1.45', '0.83', '0.94', '0.81', '1.84', '1.24', '0.78', '0.81', '1.57', '1.34', '1.29', '1.47', '0.94', '1.38', '1.21', '0.93', '0.78', '1.06', '1.13', '1.14', '0.95', '1.34', '1.05', '0.84', '1.35', '1.44', '0.97', '1.36', '1.15', '1.08', '0.87', '1.23', '0.95', '0.92', '0.96', '1.37', '1.55', '1.06', '13.9', '10.9', '17.4', '16.8', '16.6', '18.8', '19.8', '11.7', '11.4', '12.4', '11.5', '11.7', '12.7', '11.8', '11.6', '10.4', '9.75', '10.9', '11.3', '11.6', '9.30', '12.3', '11.9', '11.6', '12.0', '11.3', '11.9', '11.3', '12.0', '11.3', '10.6', '8.30', '12.7', '9.42', '12.6', '12.2', '12.4', '9.51', '9.90', '11.3', '11.1', '9.80', '10.7', '12.1', '1.90', '0.50', '7.70', '5.00', '5.00', '5.00', '5.00', '39.3', '1.08', '2.00', '1.50', '8.50', '5.00', '6.00', '0.50', '2.20', '4.90', '4.90', '4.00', '3.00', '9.00', '11.0', '4.00', '5.00', '1.50', '3.50', '6.96', '3.00', '2.40', '2.20', '1.50', '13.4', '90.0', '2.40', '8.60', '2.20', '3.40', '1.40', '17.2', '2.00', '3.00', '2.30', '18.5', '8.80', '0.70', '5777', '5627', '0.00', '6220', '5070', '4752', '6411', '0.00', '0.00', '5970', '6933', '0.00', '0.00', '5214', '5850', '5650', '6200', '6200', '4675', '4980', '6300', '5826', '6475', '6300', '5700', '6550', '6400', '5500', '5200', '5800', '6000', '6075', '5750', '5950', '6100', '4800', '6400', '7430', '5800', '6150', '5500', '5700', '5450', '6400', '5600', '5750', '5340', '6429', '6397', '5370', '0.64', '0.08±0.04', '0.64', '1.80', '1.78', '1.76', '1.83', '1.79', '0.64', '64.9±4.55', '1.14', '1.46', '0.64', '1.50', '0.64', '0.64', '0.64', '0.64', '0.64', '0.64', '0.64', '0.64', '9.15', '8.82', '11.0', '10.5', '10.8', '10.7', '11.2', '11.8', '9.71', '9.98', '10.2', '11.3', '10.8', '10.0', '9.22', '11.4', '10.4', '9.71', '10.7', '10.0', '11.6', '10.5', '11.7', '10.5', '9.97', '10.3', '10.7', '10.4', '10.2', '9.86', '9.64', '11.3', '12.4', '9.67', '9.64', '10.9', '10.4', '9.89', '10.5', '8.90', '10.0', '10.1', '10.0', '10.4', '8.96', '40.5', '37.8', '47.0', '27.4', '28.1', '40.9', '48.7', '50.6', '34.2', '36.7', '31.4', '49.3', '36.7', '27.8', '31.4', '59.9', '47.5', '40.5', '42.8', '35.5', '43.1', '37.9', '33.2', '32.5', '39.7', '43.7', '33.6', '36.1', '49.0', '31.6', '30.6', '41.0', '28.5', '37.3', '38.9', '38.9', '39.3', '31.2', '38.4', '34.8', '35.4', '39.7', '41.9', '45.4', '35.3', 'references', 'flux', 'from', 'kashyap', '2008', 'units', '10−13', 'erg', 's−1', 'cm−2', 'barge', '2008', 'bonomo', '2010', 'gandolﬁ', '2010', 'gillon', '2010', 'cabrera', '2010', 'bouchy', '2008', 'deleuil', '2008', 'moutou', '2008', 'rauer', '2009', 'fridlund', '2010', 'l´eger', '2009', 'bord´e', '2010', 'deeg', '2010', 'charbonneau', '2009', 'butler', '2004', 'torres', '2007', 'bakos', '2007a', 'bakos', '2010a', 'hartman', '2009', 'bakos', '2009b', 'torres', '2010', 'kov´acs', '2010', 'buchhave', '2010', 'howard', '2010', 'hartman', '2010a', 'bakos', '2007b', 'bakos', '2010b', 'kipping', '2010', 'quinn', '2010', 'hartman', '2010b', 'torres', '2007', 'christiansen', '2010', 'bakos', '2007c', 'noyes', '2008', 'p´al', '2008', 'latham', '2009', 'shporer', '2009', 'sato', '2005', 'winn', '2009', 'bouchy', '2005', 'winn', '2007', 'queloz', '2000', 'brown', '2001', 'moutou', '2009', 'borucki', '2010', 'koch', '2010', 'dunham', '2010', 'latham', '2010', 'jenkins', '2010', 'holman', '2010', 'bouchy', '2004', 'pont', '2004', 'snellen', '2009', 'laughlin', '2005', 'sozzetti', '2009', 'collier-cameron', '2007', 'christian', '2009', 'bakos', '2009a', 'hebb', '2009', 'skillen', '2009', 'joshi', '2008', 'west', '2009', 'lister', '2009', 'anderson', '2010', 'hellier', '2009a', 'hebb', '2010', 'bouchy', '2010', 'maxted', '2010', 'street', '2010', 'enoch', '2010', 'smalley', '2010', 'hellier', '2010', 'collier-cameron', '2010', 'simpson', '2011', 'barros', '2011', 'wilson', '2008', 'anderson', '2008', 'gillon', '2009', 'hellier', '2009b', 'queloz', '2010', 'mccullough', '2006', 'burke', '2007', 'johns-krull', '2008', 'h´ebrard', '2008', 'mccullough', '2008', 'p´al', '2009', 'torres', '2011', 'batalha', '2011']\n"
     ]
    }
   ],
   "source": []
  },
  {
   "cell_type": "code",
   "execution_count": 79,
   "metadata": {},
   "outputs": [
    {
     "name": "stderr",
     "output_type": "stream",
     "text": [
      "[nltk_data] Downloading package punkt to /home/dubovitsky/nltk_data...\n",
      "[nltk_data]   Unzipping tokenizers/punkt.zip.\n"
     ]
    },
    {
     "data": {
      "text/plain": [
       "True"
      ]
     },
     "execution_count": 79,
     "metadata": {},
     "output_type": "execute_result"
    }
   ],
   "source": [
    "import nltk\n",
    "from nltk.corpus import stopwords\n",
    "nltk.download('punkt')"
   ]
  },
  {
   "cell_type": "code",
   "execution_count": 61,
   "metadata": {},
   "outputs": [],
   "source": [
    "e = extract_text_from_pdf('2.pdf').replace('\\xa0', ' ')\n",
    "e = e.replace('-\\xad', ' ')\n",
    "e = e.replace('\\t\\r',' ')\n",
    "e = e.replace('\\x0c',' ')\n",
    "e = e.replace('\\n', ' ')        \n",
    "        #print(i)\n",
    "        #if not os.path.isdir(folder + '/txt'):\n",
    "            #os.makedirs(folder + '/txt')\n",
    "        #with open('/home/dubovitsky/Диплом/'+ folder + '/txt' + '/' + str(i) + '.txt', 'w') as f:\n",
    "            #f.write(k)"
   ]
  },
  {
   "cell_type": "code",
   "execution_count": 63,
   "metadata": {},
   "outputs": [],
   "source": [
    "c = e.lower()\n",
    "c = re.sub(r'[^a-z]', ' ', e)\n",
    "\n",
    "example = c.split(' ')\n",
    "c = []\n",
    "for i in example:\n",
    "    if len(i)>2:\n",
    "        c.append()\n",
    "tokenized_words = [word for word in c if word not in stop_words]\n",
    "with open('/home/dubovitsky/Диплом/cond-mat.stat-mech/txt/' + str(0) + '.txt', 'w') as f:    \n",
    "    for item in tokenized_words:\n",
    "            f.write(\"%s\\n\" % item)"
   ]
  },
  {
   "cell_type": "code",
   "execution_count": 4,
   "metadata": {},
   "outputs": [],
   "source": [
    "from nltk.stem import WordNetLemmatizer"
   ]
  },
  {
   "cell_type": "code",
   "execution_count": 5,
   "metadata": {},
   "outputs": [],
   "source": [
    "np.random.seed(500)"
   ]
  },
  {
   "cell_type": "code",
   "execution_count": null,
   "metadata": {},
   "outputs": [],
   "source": []
  },
  {
   "cell_type": "code",
   "execution_count": null,
   "metadata": {},
   "outputs": [],
   "source": []
  },
  {
   "cell_type": "code",
   "execution_count": null,
   "metadata": {},
   "outputs": [],
   "source": []
  },
  {
   "cell_type": "code",
   "execution_count": null,
   "metadata": {},
   "outputs": [],
   "source": []
  },
  {
   "cell_type": "code",
   "execution_count": null,
   "metadata": {},
   "outputs": [],
   "source": []
  }
 ],
 "metadata": {
  "kernelspec": {
   "display_name": "Python 3",
   "language": "python",
   "name": "python3"
  },
  "language_info": {
   "codemirror_mode": {
    "name": "ipython",
    "version": 3
   },
   "file_extension": ".py",
   "mimetype": "text/x-python",
   "name": "python",
   "nbconvert_exporter": "python",
   "pygments_lexer": "ipython3",
   "version": "3.7.3"
  }
 },
 "nbformat": 4,
 "nbformat_minor": 2
}
